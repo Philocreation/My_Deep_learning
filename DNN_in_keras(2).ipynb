{
  "nbformat": 4,
  "nbformat_minor": 0,
  "metadata": {
    "colab": {
      "name": "DNN_in_keras(2).ipynb",
      "provenance": [],
      "collapsed_sections": [],
      "machine_shape": "hm",
      "authorship_tag": "ABX9TyMxTuLrYPPopty1LRqW3UAP",
      "include_colab_link": true
    },
    "kernelspec": {
      "name": "python3",
      "display_name": "Python 3"
    },
    "language_info": {
      "name": "python"
    },
    "accelerator": "GPU"
  },
  "cells": [
    {
      "cell_type": "markdown",
      "metadata": {
        "id": "view-in-github",
        "colab_type": "text"
      },
      "source": [
        "<a href=\"https://colab.research.google.com/github/Philocreation/My_Deep_learning/blob/main/DNN_in_keras(2).ipynb\" target=\"_parent\"><img src=\"https://colab.research.google.com/assets/colab-badge.svg\" alt=\"Open In Colab\"/></a>"
      ]
    },
    {
      "cell_type": "markdown",
      "source": [
        "# NVIDIA GPU 상태 보기 "
      ],
      "metadata": {
        "id": "B3LhULktYEXV"
      }
    },
    {
      "cell_type": "code",
      "execution_count": 1,
      "metadata": {
        "colab": {
          "base_uri": "https://localhost:8080/"
        },
        "id": "fltIcYGBX765",
        "outputId": "485d5e32-6d62-40a4-e4c3-0addcf40d056"
      },
      "outputs": [
        {
          "output_type": "stream",
          "name": "stdout",
          "text": [
            "Fri Dec 31 07:25:11 2021       \n",
            "+-----------------------------------------------------------------------------+\n",
            "| NVIDIA-SMI 495.44       Driver Version: 460.32.03    CUDA Version: 11.2     |\n",
            "|-------------------------------+----------------------+----------------------+\n",
            "| GPU  Name        Persistence-M| Bus-Id        Disp.A | Volatile Uncorr. ECC |\n",
            "| Fan  Temp  Perf  Pwr:Usage/Cap|         Memory-Usage | GPU-Util  Compute M. |\n",
            "|                               |                      |               MIG M. |\n",
            "|===============================+======================+======================|\n",
            "|   0  Tesla P100-PCIE...  Off  | 00000000:00:04.0 Off |                    0 |\n",
            "| N/A   44C    P0    27W / 250W |      0MiB / 16280MiB |      0%      Default |\n",
            "|                               |                      |                  N/A |\n",
            "+-------------------------------+----------------------+----------------------+\n",
            "                                                                               \n",
            "+-----------------------------------------------------------------------------+\n",
            "| Processes:                                                                  |\n",
            "|  GPU   GI   CI        PID   Type   Process name                  GPU Memory |\n",
            "|        ID   ID                                                   Usage      |\n",
            "|=============================================================================|\n",
            "|  No running processes found                                                 |\n",
            "+-----------------------------------------------------------------------------+\n"
          ]
        }
      ],
      "source": [
        "!nvidia-smi"
      ]
    },
    {
      "cell_type": "markdown",
      "source": [
        "## GPU 설정\n",
        "\n",
        "다음의 디바이스 이름이 가능\n",
        "\n",
        "- /device:GPU:0\n",
        "- /GPU:0\n",
        "- /gpu:0\n",
        "- /gpu\n",
        "- /cpu:0\n",
        "- /cpu"
      ],
      "metadata": {
        "id": "fZpUfYxnYQGN"
      }
    },
    {
      "cell_type": "code",
      "source": [
        "import numpy as np\n",
        "import pandas as pd\n",
        "import matplotlib.pyplot as plt\n",
        "\n",
        "import tensorflow as tf\n",
        "from tensorflow import keras\n",
        "from tensorflow.keras import Sequential\n",
        "from tensorflow.keras import optimizers\n",
        "from tensorflow.keras.layers import Dense, Input\n",
        "\n",
        "import time"
      ],
      "metadata": {
        "id": "GYncQlaUYkzG"
      },
      "execution_count": 2,
      "outputs": []
    },
    {
      "cell_type": "code",
      "source": [
        "def sin_data(start=0, end=10, step=0.1):\n",
        "  x = np.arange(start,end,step)\n",
        "  np.random.shuffle(x)\n",
        "  y = np.sin(x)\n",
        "\n",
        "  split_index = int(x.shape[0]*0.6)\n",
        "\n",
        "  train_x, test_x = x[:split_index], x[split_index:]\n",
        "  train_y, test_y = y[:split_index], y[split_index:]\n",
        "\n",
        "  return (train_x, train_y), (test_x, test_y)"
      ],
      "metadata": {
        "id": "5bTBFwuIYNU8"
      },
      "execution_count": 3,
      "outputs": []
    },
    {
      "cell_type": "code",
      "source": [
        "(train_x, train_y), (test_x, test_y) = sin_data(start=0, end=10, step=0.01)"
      ],
      "metadata": {
        "id": "e2GUoQ6YYpij"
      },
      "execution_count": 4,
      "outputs": []
    },
    {
      "cell_type": "code",
      "source": [
        "with tf.device('/device:GPU:0'): # <---------추가------\n",
        "  \n",
        "  model = keras.Sequential()\n",
        "  model.add(Input(1))\n",
        "  model.add(Dense(10, activation='tanh'))\n",
        "  model.add(Dense(10, activation='tanh'))\n",
        "  model.add(Dense(1))\n",
        "\n",
        "\n",
        "  model.compile(optimizer=\"SGD\", loss=\"mse\", metrics=[\"mae\"])\n",
        "  model.summary()\n",
        "\n",
        "  start_time = time.time()\n",
        "  model.fit(train_x, train_y, epochs=50, verbose=0, batch_size=20)\n",
        "  print(\"elapsed : {}\".format(time.time() - start_time)) \n",
        "\n",
        "  y_ = model.predict(test_x)\n",
        "\n",
        "  plt.scatter(test_x,test_y)\n",
        "  plt.scatter(test_x,y_,color='r')\n",
        "  plt.show()"
      ],
      "metadata": {
        "colab": {
          "base_uri": "https://localhost:8080/",
          "height": 555
        },
        "id": "MUt1Rp6wY1SL",
        "outputId": "d340a70e-2116-4634-ee2e-0bd84508b524"
      },
      "execution_count": 6,
      "outputs": [
        {
          "output_type": "stream",
          "name": "stdout",
          "text": [
            "Model: \"sequential\"\n",
            "_________________________________________________________________\n",
            " Layer (type)                Output Shape              Param #   \n",
            "=================================================================\n",
            " dense (Dense)               (None, 10)                20        \n",
            "                                                                 \n",
            " dense_1 (Dense)             (None, 10)                110       \n",
            "                                                                 \n",
            " dense_2 (Dense)             (None, 1)                 11        \n",
            "                                                                 \n",
            "=================================================================\n",
            "Total params: 141\n",
            "Trainable params: 141\n",
            "Non-trainable params: 0\n",
            "_________________________________________________________________\n",
            "elapsed : 6.355665922164917\n"
          ]
        },
        {
          "output_type": "display_data",
          "data": {
            "image/png": "[encoded data removed]",
            "text/plain": [
              "<Figure size 432x288 with 1 Axes>"
            ]
          },
          "metadata": {
            "needs_background": "light"
          }
        }
      ]
    },
    {
      "cell_type": "code",
      "source": [
        "# with tf.device('/GPU:0'):\n",
        "with tf.device('/CPU:0'):\n",
        "\n",
        "  model = keras.Sequential()\n",
        "  model.add(Input(1))\n",
        "  model.add(Dense(10, activation='tanh'))\n",
        "  model.add(Dense(10, activation='tanh'))\n",
        "  model.add(Dense(1))\n",
        "\n",
        "\n",
        "  model.compile(optimizer=\"SGD\", loss=\"mse\", metrics=[\"mae\"])\n",
        "  model.summary()\n",
        "\n",
        "  start_time = time.time()\n",
        "  model.fit(train_x, train_y, epochs=50, verbose=0, batch_size=20)\n",
        "  print(\"elapsed : {}\".format(time.time() - start_time)) \n",
        "\n",
        "  y_ = model.predict(test_x)\n",
        "\n",
        "  plt.scatter(test_x,test_y)\n",
        "  plt.scatter(test_x,y_,color='r')\n",
        "  plt.show()"
      ],
      "metadata": {
        "colab": {
          "base_uri": "https://localhost:8080/",
          "height": 555
        },
        "id": "rAUBKsbkZH7O",
        "outputId": "00366098-9b0b-4013-8a01-e3e8d07d4946"
      },
      "execution_count": 7,
      "outputs": [
        {
          "output_type": "stream",
          "name": "stdout",
          "text": [
            "Model: \"sequential_1\"\n",
            "_________________________________________________________________\n",
            " Layer (type)                Output Shape              Param #   \n",
            "=================================================================\n",
            " dense_3 (Dense)             (None, 10)                20        \n",
            "                                                                 \n",
            " dense_4 (Dense)             (None, 10)                110       \n",
            "                                                                 \n",
            " dense_5 (Dense)             (None, 1)                 11        \n",
            "                                                                 \n",
            "=================================================================\n",
            "Total params: 141\n",
            "Trainable params: 141\n",
            "Non-trainable params: 0\n",
            "_________________________________________________________________\n",
            "elapsed : 2.284341335296631\n"
          ]
        },
        {
          "output_type": "display_data",
          "data": {
            "image/png": "[encoded data removed]",
            "text/plain": [
              "<Figure size 432x288 with 1 Axes>"
            ]
          },
          "metadata": {
            "needs_background": "light"
          }
        }
      ]
    },
    {
      "cell_type": "markdown",
      "source": [
        "# 웨이트 초기값 \n",
        "\n",
        "<br>\n",
        "Dense() 생성시에 kernel_initializer, bias_initializer로 설정한다. \n",
        "\n",
        "- he_normal\n",
        "- lecun_normal"
      ],
      "metadata": {
        "id": "XpyR8AXWZcnJ"
      }
    },
    {
      "cell_type": "code",
      "source": [
        "(train_x, train_y), (test_x, test_y) = sin_data(start=0, end=10, step=0.1)\n",
        "\n",
        "model = keras.Sequential()\n",
        "\n",
        "model.add(Input(1))\n",
        "# model.add(Dense(10, activation='tanh'))\n",
        "# model.add(Dense(10, activation='tanh'))\n",
        "model.add(Dense(10, activation='tanh', kernel_initializer='he_normal'))\n",
        "model.add(Dense(10, activation='tanh', kernel_initializer='he_normal'))\n",
        "model.add(Dense(1))\n",
        "\n",
        "\n",
        "model.compile(optimizer=\"SGD\", loss=\"mse\", metrics=[\"mae\"])\n",
        "model.summary()\n",
        "\n",
        "\n",
        "start_time = time.time()\n",
        "model.fit(train_x, train_y, epochs=1000, verbose=0, batch_size=20)\n",
        "print(\"elapsed : {}\".format(time.time() - start_time))    \n",
        "\n",
        "\n",
        "loss, mae = model.evaluate(test_x, test_y)\n",
        "print(\"loss=\", loss)\n",
        "print(\"mae=\", mae)\n",
        "\n",
        "\n",
        "y_ = model.predict(test_x)\n",
        "\n",
        "plt.scatter(test_x,test_y)\n",
        "plt.scatter(test_x,y_,color='r')\n",
        "plt.show()"
      ],
      "metadata": {
        "colab": {
          "base_uri": "https://localhost:8080/",
          "height": 610
        },
        "id": "O3jAnlmZZWBo",
        "outputId": "a3e52663-952a-4e1c-ede0-e28a368a3065"
      },
      "execution_count": 9,
      "outputs": [
        {
          "output_type": "stream",
          "name": "stdout",
          "text": [
            "Model: \"sequential_2\"\n",
            "_________________________________________________________________\n",
            " Layer (type)                Output Shape              Param #   \n",
            "=================================================================\n",
            " dense_6 (Dense)             (None, 10)                20        \n",
            "                                                                 \n",
            " dense_7 (Dense)             (None, 10)                110       \n",
            "                                                                 \n",
            " dense_8 (Dense)             (None, 1)                 11        \n",
            "                                                                 \n",
            "=================================================================\n",
            "Total params: 141\n",
            "Trainable params: 141\n",
            "Non-trainable params: 0\n",
            "_________________________________________________________________\n",
            "elapsed : 7.853574275970459\n",
            "2/2 [==============================] - 0s 5ms/step - loss: 0.1083 - mae: 0.2199\n",
            "loss= 0.1083335429430008\n",
            "mae= 0.219859316945076\n"
          ]
        },
        {
          "output_type": "display_data",
          "data": {
            "image/png": "[encoded data removed]",
            "text/plain": [
              "<Figure size 432x288 with 1 Axes>"
            ]
          },
          "metadata": {
            "needs_background": "light"
          }
        }
      ]
    },
    {
      "cell_type": "markdown",
      "source": [
        "# 노이즈 "
      ],
      "metadata": {
        "id": "uPAwdqpPZ530"
      }
    },
    {
      "cell_type": "code",
      "source": [
        "import numpy as np\n",
        "import pandas as pd\n",
        "import matplotlib.pyplot as plt\n",
        "\n",
        "import tensorflow as tf\n",
        "from tensorflow import keras\n",
        "from tensorflow.keras import Sequential\n",
        "from tensorflow.keras import optimizers\n",
        "from tensorflow.keras.layers import Dense, Input\n",
        "\n",
        "import time"
      ],
      "metadata": {
        "id": "IDNJgCKdZ1gn"
      },
      "execution_count": 10,
      "outputs": []
    },
    {
      "cell_type": "code",
      "source": [
        "def train_sin_with_noise(noise_size):\n",
        "\n",
        "  x = np.arange(0,10,0.001)\n",
        "  np.random.shuffle(x)\n",
        "  y = np.sin(x)\n",
        "\n",
        "  noiseless_y = np.copy(y) # <-------------추가----------\n",
        "  y = y + np.random.rand(y.shape[0])*noise_size - noise_size/2.0 # <-------------추가----------\n",
        "\n",
        "  split_index = int(x.shape[0]*0.6)\n",
        "  "
      ],
      "metadata": {
        "id": "6R2J5WS-Z8NN"
      },
      "execution_count": null,
      "outputs": []
    }
  ]
}