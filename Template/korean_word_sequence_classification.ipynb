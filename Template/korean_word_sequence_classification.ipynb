{
  "nbformat": 4,
  "nbformat_minor": 0,
  "metadata": {
    "colab": {
      "name": "korean_word_sequence_classification.ipynb",
      "provenance": [],
      "collapsed_sections": [],
      "authorship_tag": "ABX9TyOuhaThr3q+Mzorl/4ExEy4",
      "include_colab_link": true
    },
    "kernelspec": {
      "name": "python3",
      "display_name": "Python 3"
    },
    "language_info": {
      "name": "python"
    },
    "accelerator": "GPU"
  },
  "cells": [
    {
      "cell_type": "markdown",
      "metadata": {
        "id": "view-in-github",
        "colab_type": "text"
      },
      "source": [
        "<a href=\"https://colab.research.google.com/github/Philocreation/My_Deep_learning/blob/main/Template/korean_word_sequence_classification.ipynb\" target=\"_parent\"><img src=\"https://colab.research.google.com/assets/colab-badge.svg\" alt=\"Open In Colab\"/></a>"
      ]
    },
    {
      "cell_type": "markdown",
      "source": [
        "copy from : https://colab.research.google.com/github/dhrim/MDC_2021/blob/master/material/deep_learning/korean_word_sequence_classification.ipynb#scrollTo=5-pgao0HxEbn"
      ],
      "metadata": {
        "id": "jeTeUs25nThP"
      }
    },
    {
      "cell_type": "markdown",
      "source": [
        "# 한글 단어열 예측 "
      ],
      "metadata": {
        "id": "ZIHlyQHKk8cF"
      }
    },
    {
      "cell_type": "code",
      "execution_count": 1,
      "metadata": {
        "id": "atWEK4nek3-5"
      },
      "outputs": [],
      "source": [
        "import pandas as pd\n",
        "import numpy as np \n",
        "import re\n",
        "import pickle\n",
        "\n",
        "import tensorflow as tf \n",
        "from tensorflow import keras \n",
        "from tensorflow.keras import backend as K\n",
        "from tensorflow.keras import Input, Model\n",
        "from tensorflow.keras import optimizers \n",
        "\n",
        "import codecs\n",
        "from tqdm import tqdm\n",
        "import shutil"
      ]
    },
    {
      "cell_type": "markdown",
      "source": [
        "# tokenizer 설치 - Kkma"
      ],
      "metadata": {
        "id": "eAgCH8qRmTQh"
      }
    },
    {
      "cell_type": "code",
      "source": [
        "! pip install konlpy"
      ],
      "metadata": {
        "colab": {
          "base_uri": "https://localhost:8080/"
        },
        "id": "-YahrUVrlhdS",
        "outputId": "182c0850-dbdd-4bc2-e6d8-927e50369431"
      },
      "execution_count": 2,
      "outputs": [
        {
          "output_type": "stream",
          "name": "stdout",
          "text": [
            "Collecting konlpy\n",
            "  Downloading konlpy-0.6.0-py2.py3-none-any.whl (19.4 MB)\n",
            "\u001b[K     |████████████████████████████████| 19.4 MB 68.3 MB/s \n",
            "\u001b[?25hRequirement already satisfied: lxml>=4.1.0 in /usr/local/lib/python3.7/dist-packages (from konlpy) (4.2.6)\n",
            "Requirement already satisfied: numpy>=1.6 in /usr/local/lib/python3.7/dist-packages (from konlpy) (1.19.5)\n",
            "Collecting JPype1>=0.7.0\n",
            "  Downloading JPype1-1.3.0-cp37-cp37m-manylinux_2_5_x86_64.manylinux1_x86_64.whl (448 kB)\n",
            "\u001b[K     |████████████████████████████████| 448 kB 69.3 MB/s \n",
            "\u001b[?25hRequirement already satisfied: typing-extensions in /usr/local/lib/python3.7/dist-packages (from JPype1>=0.7.0->konlpy) (3.10.0.2)\n",
            "Installing collected packages: JPype1, konlpy\n",
            "Successfully installed JPype1-1.3.0 konlpy-0.6.0\n"
          ]
        }
      ]
    },
    {
      "cell_type": "code",
      "source": [
        "from konlpy.tag import Okt\n",
        "\n",
        "tokenizer = Okt()"
      ],
      "metadata": {
        "id": "tfBHUR8fmaws"
      },
      "execution_count": 3,
      "outputs": []
    },
    {
      "cell_type": "code",
      "source": [
        "poses = tokenizer.pos('토크나이징이 잘 되나요??')"
      ],
      "metadata": {
        "id": "JGWPCHeEmi7s"
      },
      "execution_count": 4,
      "outputs": []
    },
    {
      "cell_type": "code",
      "source": [
        "tokens = []\n",
        "for pos in poses:\n",
        "  print(pos)\n",
        "  tokens.append(pos[0])\n",
        "print(tokens)"
      ],
      "metadata": {
        "colab": {
          "base_uri": "https://localhost:8080/"
        },
        "id": "YGn-tCv5mo40",
        "outputId": "55826a4e-325b-4cd7-dd38-18c394da9467"
      },
      "execution_count": 5,
      "outputs": [
        {
          "output_type": "stream",
          "name": "stdout",
          "text": [
            "('토크', 'Noun')\n",
            "('나', 'Josa')\n",
            "('이징', 'Noun')\n",
            "('이', 'Josa')\n",
            "('잘', 'Verb')\n",
            "('되나요', 'Verb')\n",
            "('??', 'Punctuation')\n",
            "['토크', '나', '이징', '이', '잘', '되나요', '??']\n"
          ]
        }
      ]
    },
    {
      "cell_type": "markdown",
      "source": [
        "# 데이터 다운로드 "
      ],
      "metadata": {
        "id": "DSO-ansJnJt6"
      }
    },
    {
      "cell_type": "code",
      "source": [
        "!wget https://github.com/dhrim/deep_learning_data/raw/master/movie_ratings.txt"
      ],
      "metadata": {
        "colab": {
          "base_uri": "https://localhost:8080/"
        },
        "id": "OCePrZhAnI9-",
        "outputId": "c06bb24e-06eb-4019-af7e-fbb5e400b42e"
      },
      "execution_count": 6,
      "outputs": [
        {
          "output_type": "stream",
          "name": "stdout",
          "text": [
            "--2022-01-17 05:14:53--  https://github.com/dhrim/deep_learning_data/raw/master/movie_ratings.txt\n",
            "Resolving github.com (github.com)... 52.192.72.89\n",
            "Connecting to github.com (github.com)|52.192.72.89|:443... connected.\n",
            "HTTP request sent, awaiting response... 302 Found\n",
            "Location: https://raw.githubusercontent.com/dhrim/deep_learning_data/master/movie_ratings.txt [following]\n",
            "--2022-01-17 05:14:54--  https://raw.githubusercontent.com/dhrim/deep_learning_data/master/movie_ratings.txt\n",
            "Resolving raw.githubusercontent.com (raw.githubusercontent.com)... 185.199.108.133, 185.199.109.133, 185.199.111.133, ...\n",
            "Connecting to raw.githubusercontent.com (raw.githubusercontent.com)|185.199.108.133|:443... connected.\n",
            "HTTP request sent, awaiting response... 200 OK\n",
            "Length: 19515078 (19M) [text/plain]\n",
            "Saving to: ‘movie_ratings.txt’\n",
            "\n",
            "movie_ratings.txt   100%[===================>]  18.61M  --.-KB/s    in 0.1s    \n",
            "\n",
            "2022-01-17 05:14:55 (125 MB/s) - ‘movie_ratings.txt’ saved [19515078/19515078]\n",
            "\n"
          ]
        }
      ]
    },
    {
      "cell_type": "code",
      "source": [
        "df = pd.read_table(\"movie_ratings.txt\")\n",
        "df.head()"
      ],
      "metadata": {
        "colab": {
          "base_uri": "https://localhost:8080/",
          "height": 206
        },
        "id": "1cXwogponRNU",
        "outputId": "ef05c46c-8a84-40dc-8466-8415f20d774d"
      },
      "execution_count": 7,
      "outputs": [
        {
          "output_type": "execute_result",
          "data": {
            "text/html": [
              "\n",
              "  <div id=\"df-63dae9b3-f81b-48b0-b2e3-24f41179bd0d\">\n",
              "    <div class=\"colab-df-container\">\n",
              "      <div>\n",
              "<style scoped>\n",
              "    .dataframe tbody tr th:only-of-type {\n",
              "        vertical-align: middle;\n",
              "    }\n",
              "\n",
              "    .dataframe tbody tr th {\n",
              "        vertical-align: top;\n",
              "    }\n",
              "\n",
              "    .dataframe thead th {\n",
              "        text-align: right;\n",
              "    }\n",
              "</style>\n",
              "<table border=\"1\" class=\"dataframe\">\n",
              "  <thead>\n",
              "    <tr style=\"text-align: right;\">\n",
              "      <th></th>\n",
              "      <th>id</th>\n",
              "      <th>document</th>\n",
              "      <th>label</th>\n",
              "    </tr>\n",
              "  </thead>\n",
              "  <tbody>\n",
              "    <tr>\n",
              "      <th>0</th>\n",
              "      <td>8112052</td>\n",
              "      <td>어릴때보고 지금다시봐도 재밌어요ㅋㅋ</td>\n",
              "      <td>1</td>\n",
              "    </tr>\n",
              "    <tr>\n",
              "      <th>1</th>\n",
              "      <td>8132799</td>\n",
              "      <td>디자인을 배우는 학생으로, 외국디자이너와 그들이 일군 전통을 통해 발전해가는 문화산...</td>\n",
              "      <td>1</td>\n",
              "    </tr>\n",
              "    <tr>\n",
              "      <th>2</th>\n",
              "      <td>4655635</td>\n",
              "      <td>폴리스스토리 시리즈는 1부터 뉴까지 버릴께 하나도 없음.. 최고.</td>\n",
              "      <td>1</td>\n",
              "    </tr>\n",
              "    <tr>\n",
              "      <th>3</th>\n",
              "      <td>9251303</td>\n",
              "      <td>와.. 연기가 진짜 개쩔구나.. 지루할거라고 생각했는데 몰입해서 봤다.. 그래 이런...</td>\n",
              "      <td>1</td>\n",
              "    </tr>\n",
              "    <tr>\n",
              "      <th>4</th>\n",
              "      <td>10067386</td>\n",
              "      <td>안개 자욱한 밤하늘에 떠 있는 초승달 같은 영화.</td>\n",
              "      <td>1</td>\n",
              "    </tr>\n",
              "  </tbody>\n",
              "</table>\n",
              "</div>\n",
              "      <button class=\"colab-df-convert\" onclick=\"convertToInteractive('df-63dae9b3-f81b-48b0-b2e3-24f41179bd0d')\"\n",
              "              title=\"Convert this dataframe to an interactive table.\"\n",
              "              style=\"display:none;\">\n",
              "        \n",
              "  <svg xmlns=\"http://www.w3.org/2000/svg\" height=\"24px\"viewBox=\"0 0 24 24\"\n",
              "       width=\"24px\">\n",
              "    <path d=\"M0 0h24v24H0V0z\" fill=\"none\"/>\n",
              "    <path d=\"M18.56 5.44l.94 2.06.94-2.06 2.06-.94-2.06-.94-.94-2.06-.94 2.06-2.06.94zm-11 1L8.5 8.5l.94-2.06 2.06-.94-2.06-.94L8.5 2.5l-.94 2.06-2.06.94zm10 10l.94 2.06.94-2.06 2.06-.94-2.06-.94-.94-2.06-.94 2.06-2.06.94z\"/><path d=\"M17.41 7.96l-1.37-1.37c-.4-.4-.92-.59-1.43-.59-.52 0-1.04.2-1.43.59L10.3 9.45l-7.72 7.72c-.78.78-.78 2.05 0 2.83L4 21.41c.39.39.9.59 1.41.59.51 0 1.02-.2 1.41-.59l7.78-7.78 2.81-2.81c.8-.78.8-2.07 0-2.86zM5.41 20L4 18.59l7.72-7.72 1.47 1.35L5.41 20z\"/>\n",
              "  </svg>\n",
              "      </button>\n",
              "      \n",
              "  <style>\n",
              "    .colab-df-container {\n",
              "      display:flex;\n",
              "      flex-wrap:wrap;\n",
              "      gap: 12px;\n",
              "    }\n",
              "\n",
              "    .colab-df-convert {\n",
              "      background-color: #E8F0FE;\n",
              "      border: none;\n",
              "      border-radius: 50%;\n",
              "      cursor: pointer;\n",
              "      display: none;\n",
              "      fill: #1967D2;\n",
              "      height: 32px;\n",
              "      padding: 0 0 0 0;\n",
              "      width: 32px;\n",
              "    }\n",
              "\n",
              "    .colab-df-convert:hover {\n",
              "      background-color: #E2EBFA;\n",
              "      box-shadow: 0px 1px 2px rgba(60, 64, 67, 0.3), 0px 1px 3px 1px rgba(60, 64, 67, 0.15);\n",
              "      fill: #174EA6;\n",
              "    }\n",
              "\n",
              "    [theme=dark] .colab-df-convert {\n",
              "      background-color: #3B4455;\n",
              "      fill: #D2E3FC;\n",
              "    }\n",
              "\n",
              "    [theme=dark] .colab-df-convert:hover {\n",
              "      background-color: #434B5C;\n",
              "      box-shadow: 0px 1px 3px 1px rgba(0, 0, 0, 0.15);\n",
              "      filter: drop-shadow(0px 1px 2px rgba(0, 0, 0, 0.3));\n",
              "      fill: #FFFFFF;\n",
              "    }\n",
              "  </style>\n",
              "\n",
              "      <script>\n",
              "        const buttonEl =\n",
              "          document.querySelector('#df-63dae9b3-f81b-48b0-b2e3-24f41179bd0d button.colab-df-convert');\n",
              "        buttonEl.style.display =\n",
              "          google.colab.kernel.accessAllowed ? 'block' : 'none';\n",
              "\n",
              "        async function convertToInteractive(key) {\n",
              "          const element = document.querySelector('#df-63dae9b3-f81b-48b0-b2e3-24f41179bd0d');\n",
              "          const dataTable =\n",
              "            await google.colab.kernel.invokeFunction('convertToInteractive',\n",
              "                                                     [key], {});\n",
              "          if (!dataTable) return;\n",
              "\n",
              "          const docLinkHtml = 'Like what you see? Visit the ' +\n",
              "            '<a target=\"_blank\" href=https://colab.research.google.com/notebooks/data_table.ipynb>data table notebook</a>'\n",
              "            + ' to learn more about interactive tables.';\n",
              "          element.innerHTML = '';\n",
              "          dataTable['output_type'] = 'display_data';\n",
              "          await google.colab.output.renderOutput(dataTable, element);\n",
              "          const docLink = document.createElement('div');\n",
              "          docLink.innerHTML = docLinkHtml;\n",
              "          element.appendChild(docLink);\n",
              "        }\n",
              "      </script>\n",
              "    </div>\n",
              "  </div>\n",
              "  "
            ],
            "text/plain": [
              "         id                                           document  label\n",
              "0   8112052                                어릴때보고 지금다시봐도 재밌어요ㅋㅋ      1\n",
              "1   8132799  디자인을 배우는 학생으로, 외국디자이너와 그들이 일군 전통을 통해 발전해가는 문화산...      1\n",
              "2   4655635               폴리스스토리 시리즈는 1부터 뉴까지 버릴께 하나도 없음.. 최고.      1\n",
              "3   9251303  와.. 연기가 진짜 개쩔구나.. 지루할거라고 생각했는데 몰입해서 봤다.. 그래 이런...      1\n",
              "4  10067386                        안개 자욱한 밤하늘에 떠 있는 초승달 같은 영화.      1"
            ]
          },
          "metadata": {},
          "execution_count": 7
        }
      ]
    },
    {
      "cell_type": "markdown",
      "source": [
        "# 데이터 섞기"
      ],
      "metadata": {
        "id": "ash7eYNhngZc"
      }
    },
    {
      "cell_type": "code",
      "source": [
        "df = df.sample(frac=1).reset_index(drop=True)\n",
        "\n",
        "df.head()"
      ],
      "metadata": {
        "colab": {
          "base_uri": "https://localhost:8080/",
          "height": 206
        },
        "id": "XQeDwoRjnh8r",
        "outputId": "6aadf467-b62f-4bf1-f525-40db0792c0a1"
      },
      "execution_count": 8,
      "outputs": [
        {
          "output_type": "execute_result",
          "data": {
            "text/html": [
              "\n",
              "  <div id=\"df-9946fd66-2074-46f9-b0f7-dc264a046eea\">\n",
              "    <div class=\"colab-df-container\">\n",
              "      <div>\n",
              "<style scoped>\n",
              "    .dataframe tbody tr th:only-of-type {\n",
              "        vertical-align: middle;\n",
              "    }\n",
              "\n",
              "    .dataframe tbody tr th {\n",
              "        vertical-align: top;\n",
              "    }\n",
              "\n",
              "    .dataframe thead th {\n",
              "        text-align: right;\n",
              "    }\n",
              "</style>\n",
              "<table border=\"1\" class=\"dataframe\">\n",
              "  <thead>\n",
              "    <tr style=\"text-align: right;\">\n",
              "      <th></th>\n",
              "      <th>id</th>\n",
              "      <th>document</th>\n",
              "      <th>label</th>\n",
              "    </tr>\n",
              "  </thead>\n",
              "  <tbody>\n",
              "    <tr>\n",
              "      <th>0</th>\n",
              "      <td>9091227</td>\n",
              "      <td>완전 짱 역시 포켓몬이예요!!!</td>\n",
              "      <td>1</td>\n",
              "    </tr>\n",
              "    <tr>\n",
              "      <th>1</th>\n",
              "      <td>4645780</td>\n",
              "      <td>손발 오그라든다. 내가 본 최악의 로맨틱 코메디중 하나.</td>\n",
              "      <td>0</td>\n",
              "    </tr>\n",
              "    <tr>\n",
              "      <th>2</th>\n",
              "      <td>9271160</td>\n",
              "      <td>더디츠를 위하여 T.T 어린 더디츠 역할 소년의 그 맑고 맑은 표정이 잊혀지지 않네...</td>\n",
              "      <td>1</td>\n",
              "    </tr>\n",
              "    <tr>\n",
              "      <th>3</th>\n",
              "      <td>7626288</td>\n",
              "      <td>....</td>\n",
              "      <td>0</td>\n",
              "    </tr>\n",
              "    <tr>\n",
              "      <th>4</th>\n",
              "      <td>6998685</td>\n",
              "      <td>이 영화는 메세지가 확실하다. 하지만 마니아층에게만 통하는 영화이다.</td>\n",
              "      <td>1</td>\n",
              "    </tr>\n",
              "  </tbody>\n",
              "</table>\n",
              "</div>\n",
              "      <button class=\"colab-df-convert\" onclick=\"convertToInteractive('df-9946fd66-2074-46f9-b0f7-dc264a046eea')\"\n",
              "              title=\"Convert this dataframe to an interactive table.\"\n",
              "              style=\"display:none;\">\n",
              "        \n",
              "  <svg xmlns=\"http://www.w3.org/2000/svg\" height=\"24px\"viewBox=\"0 0 24 24\"\n",
              "       width=\"24px\">\n",
              "    <path d=\"M0 0h24v24H0V0z\" fill=\"none\"/>\n",
              "    <path d=\"M18.56 5.44l.94 2.06.94-2.06 2.06-.94-2.06-.94-.94-2.06-.94 2.06-2.06.94zm-11 1L8.5 8.5l.94-2.06 2.06-.94-2.06-.94L8.5 2.5l-.94 2.06-2.06.94zm10 10l.94 2.06.94-2.06 2.06-.94-2.06-.94-.94-2.06-.94 2.06-2.06.94z\"/><path d=\"M17.41 7.96l-1.37-1.37c-.4-.4-.92-.59-1.43-.59-.52 0-1.04.2-1.43.59L10.3 9.45l-7.72 7.72c-.78.78-.78 2.05 0 2.83L4 21.41c.39.39.9.59 1.41.59.51 0 1.02-.2 1.41-.59l7.78-7.78 2.81-2.81c.8-.78.8-2.07 0-2.86zM5.41 20L4 18.59l7.72-7.72 1.47 1.35L5.41 20z\"/>\n",
              "  </svg>\n",
              "      </button>\n",
              "      \n",
              "  <style>\n",
              "    .colab-df-container {\n",
              "      display:flex;\n",
              "      flex-wrap:wrap;\n",
              "      gap: 12px;\n",
              "    }\n",
              "\n",
              "    .colab-df-convert {\n",
              "      background-color: #E8F0FE;\n",
              "      border: none;\n",
              "      border-radius: 50%;\n",
              "      cursor: pointer;\n",
              "      display: none;\n",
              "      fill: #1967D2;\n",
              "      height: 32px;\n",
              "      padding: 0 0 0 0;\n",
              "      width: 32px;\n",
              "    }\n",
              "\n",
              "    .colab-df-convert:hover {\n",
              "      background-color: #E2EBFA;\n",
              "      box-shadow: 0px 1px 2px rgba(60, 64, 67, 0.3), 0px 1px 3px 1px rgba(60, 64, 67, 0.15);\n",
              "      fill: #174EA6;\n",
              "    }\n",
              "\n",
              "    [theme=dark] .colab-df-convert {\n",
              "      background-color: #3B4455;\n",
              "      fill: #D2E3FC;\n",
              "    }\n",
              "\n",
              "    [theme=dark] .colab-df-convert:hover {\n",
              "      background-color: #434B5C;\n",
              "      box-shadow: 0px 1px 3px 1px rgba(0, 0, 0, 0.15);\n",
              "      filter: drop-shadow(0px 1px 2px rgba(0, 0, 0, 0.3));\n",
              "      fill: #FFFFFF;\n",
              "    }\n",
              "  </style>\n",
              "\n",
              "      <script>\n",
              "        const buttonEl =\n",
              "          document.querySelector('#df-9946fd66-2074-46f9-b0f7-dc264a046eea button.colab-df-convert');\n",
              "        buttonEl.style.display =\n",
              "          google.colab.kernel.accessAllowed ? 'block' : 'none';\n",
              "\n",
              "        async function convertToInteractive(key) {\n",
              "          const element = document.querySelector('#df-9946fd66-2074-46f9-b0f7-dc264a046eea');\n",
              "          const dataTable =\n",
              "            await google.colab.kernel.invokeFunction('convertToInteractive',\n",
              "                                                     [key], {});\n",
              "          if (!dataTable) return;\n",
              "\n",
              "          const docLinkHtml = 'Like what you see? Visit the ' +\n",
              "            '<a target=\"_blank\" href=https://colab.research.google.com/notebooks/data_table.ipynb>data table notebook</a>'\n",
              "            + ' to learn more about interactive tables.';\n",
              "          element.innerHTML = '';\n",
              "          dataTable['output_type'] = 'display_data';\n",
              "          await google.colab.output.renderOutput(dataTable, element);\n",
              "          const docLink = document.createElement('div');\n",
              "          docLink.innerHTML = docLinkHtml;\n",
              "          element.appendChild(docLink);\n",
              "        }\n",
              "      </script>\n",
              "    </div>\n",
              "  </div>\n",
              "  "
            ],
            "text/plain": [
              "        id                                           document  label\n",
              "0  9091227                                  완전 짱 역시 포켓몬이예요!!!      1\n",
              "1  4645780                    손발 오그라든다. 내가 본 최악의 로맨틱 코메디중 하나.      0\n",
              "2  9271160  더디츠를 위하여 T.T 어린 더디츠 역할 소년의 그 맑고 맑은 표정이 잊혀지지 않네...      1\n",
              "3  7626288                                               ....      0\n",
              "4  6998685             이 영화는 메세지가 확실하다. 하지만 마니아층에게만 통하는 영화이다.      1"
            ]
          },
          "metadata": {},
          "execution_count": 8
        }
      ]
    },
    {
      "cell_type": "code",
      "source": [
        "import matplotlib.pyplot as plt\n",
        "\n",
        "plt.hist(df['label'])\n",
        "plt.show()"
      ],
      "metadata": {
        "colab": {
          "base_uri": "https://localhost:8080/",
          "height": 265
        },
        "id": "7wlHmefOoDQK",
        "outputId": "c9f15975-1bfc-47c7-a9d0-5c96c5d46733"
      },
      "execution_count": 9,
      "outputs": [
        {
          "output_type": "display_data",
          "data": {
            "image/png": "[encoded data removed]",
            "text/plain": [
              "<Figure size 432x288 with 1 Axes>"
            ]
          },
          "metadata": {
            "needs_background": "light"
          }
        }
      ]
    },
    {
      "cell_type": "markdown",
      "source": [
        "# 입력과 출력 데이터 분리 "
      ],
      "metadata": {
        "id": "VTfnft96n13H"
      }
    },
    {
      "cell_type": "code",
      "source": [
        "reviews = df.document.values.copy()\n",
        "labels = df.label.values.copy()"
      ],
      "metadata": {
        "id": "gf3vcv64n1nV"
      },
      "execution_count": 10,
      "outputs": []
    },
    {
      "cell_type": "code",
      "source": [
        "print(reviews.shape)\n",
        "print(labels.shape)"
      ],
      "metadata": {
        "colab": {
          "base_uri": "https://localhost:8080/"
        },
        "id": "hhv_Nr-poBy5",
        "outputId": "88a3081d-ab0f-477b-a236-531db8a8cb72"
      },
      "execution_count": 11,
      "outputs": [
        {
          "output_type": "stream",
          "name": "stdout",
          "text": [
            "(200000,)\n",
            "(200000,)\n"
          ]
        }
      ]
    },
    {
      "cell_type": "markdown",
      "source": [
        "# 토큰나이징 "
      ],
      "metadata": {
        "id": "FzeHLVUspHiJ"
      }
    },
    {
      "cell_type": "code",
      "source": [
        "PAD = \"[PAD]\"\n",
        "UNK = \"[UNK]\""
      ],
      "metadata": {
        "id": "ttIOy7FwpJNt"
      },
      "execution_count": 12,
      "outputs": []
    },
    {
      "cell_type": "code",
      "source": [
        "VOCA_SIZE = 4000 # 어휘 사전의 크기\n",
        "SEQ_LENGTH = 128 # 리뷰 최대 길이 "
      ],
      "metadata": {
        "id": "9Cx3uYKGpKw9"
      },
      "execution_count": 13,
      "outputs": []
    },
    {
      "cell_type": "code",
      "source": [
        "from tqdm import tqdm \n",
        "from konlpy.tag import Okt \n",
        "\n",
        "def tokenize(reviews):\n",
        "  tokenizer = Okt()\n",
        "  tokenized = []\n",
        "  # for review in tqdm(reviews):\n",
        "  for review in reviews:\n",
        "    review = str(review)\n",
        "    # reivew = '꽤 괜찮은거 같아요~~'\n",
        "    poses = tokenizer.pos(review)\n",
        "    tokens = [pos[0] for pos in poses]\n",
        "    # tokens = ['꽤', '괜찮은', '거', '같아요', '~~']\n",
        "    tokens = tokens[:SEQ_LENGTH]\n",
        "    tokenized.append(tokens)\n",
        "  return tokenized "
      ],
      "metadata": {
        "id": "vazKAD1MpY-t"
      },
      "execution_count": 14,
      "outputs": []
    },
    {
      "cell_type": "code",
      "source": [
        "print(len(reviews))"
      ],
      "metadata": {
        "colab": {
          "base_uri": "https://localhost:8080/"
        },
        "id": "JrGkKWnjqbBN",
        "outputId": "7737a948-466e-4a5d-f0f8-2d98783d41dc"
      },
      "execution_count": 15,
      "outputs": [
        {
          "output_type": "stream",
          "name": "stdout",
          "text": [
            "200000\n"
          ]
        }
      ]
    },
    {
      "cell_type": "code",
      "source": [
        "tokenized_reviews = tokenize(reviews)"
      ],
      "metadata": {
        "id": "jU2MZP9cq2uV"
      },
      "execution_count": 16,
      "outputs": []
    },
    {
      "cell_type": "markdown",
      "source": [
        "# 인코딩 "
      ],
      "metadata": {
        "id": "jKDrCmZosl0Z"
      }
    },
    {
      "cell_type": "code",
      "source": [
        "import collections\n",
        "from collections import OrderedDict \n",
        "\n",
        "def build_index(tokenized_reviews):\n",
        "\n",
        "  all_tokens = []\n",
        "  for tokens in tokenized_reviews:\n",
        "    all_tokens.extend(tokens)\n",
        "\n",
        "  # 빈도 순으로 정열 \n",
        "  counts = collections.Counter(all_tokens)\n",
        "  sorted_tokens = sorted(all_tokens, key=counts.get, reverse=True) \n",
        "\n",
        "  # 단어 중복 삭제 \n",
        "  sorted_tokens = list(OrderedDict.fromkeys(sorted_tokens)) \n",
        "\n",
        "  # voca 크기 이상의 단어는 버린다. \n",
        "  print(\"len(sorted_tokens) =\", len(sorted_tokens))\n",
        "  sorted_tokens = sorted_tokens[:VOCA_SIZE-2] # PAD, UNK 2개 \n",
        "  sorted_tokens.insert(0, UNK)\n",
        "  sorted_tokens.insert(0, PAD)\n",
        "  print(\"len(sorted_tokens) = \", len(sorted_tokens))\n",
        "\n",
        "  word2index = { word:index for index, word in enumerate(sorted_tokens)}\n",
        "  index2word = { index:word for index, word in enumerate(sorted_tokens)}\n",
        "\n",
        "  return word2index, index2word\n",
        "\n",
        "\n",
        "def encode(tokenized_reviews, word2index):\n",
        "\n",
        "  encoded_reviews = []\n",
        "  for tokens in tokenized_reviews:\n",
        "    # tokens = ['아', '더', '빙', '..', '진짜', '짜증', '나네', '요', '목소리']\n",
        "\n",
        "    encoded = []\n",
        "    for token in tokens:\n",
        "      token = token if token in word2index else UNK\n",
        "      encoded.append(word2index[token])\n",
        "\n",
        "  # encoding = [2, 3, 4, 1, 5, 6, 7, 8, 9]\n",
        "\n",
        "  # 길이가 모자라면 PAD(0)으로 채운다.\n",
        "    padding_length = SEQ_LENGTH - len(encoded)\n",
        "    encoded.extend([word2index[PAD]]*padding_length)\n",
        "   # encoded = [2, 3, 4, 1, 5, 6, 7, 8, 9, 0, 0, 0, 0, 0, 0, 0, ... ]\n",
        "    encoded_reviews.append(encoded)\n",
        "\n",
        "  return encoded_reviews\n",
        "\n",
        "word2index, index2word = build_index(tokenized_reviews)\n",
        "encoded_reviews = encode(tokenized_reviews, word2index)"
      ],
      "metadata": {
        "colab": {
          "base_uri": "https://localhost:8080/"
        },
        "id": "XvwL1nw0sngi",
        "outputId": "15a844cf-c1ff-40bd-9bd9-31f24ff74399"
      },
      "execution_count": 17,
      "outputs": [
        {
          "output_type": "stream",
          "name": "stdout",
          "text": [
            "len(sorted_tokens) = 122829\n",
            "len(sorted_tokens) =  4000\n"
          ]
        }
      ]
    },
    {
      "cell_type": "code",
      "source": [
        "print(word2index)\n",
        "print(index2word)"
      ],
      "metadata": {
        "colab": {
          "base_uri": "https://localhost:8080/"
        },
        "id": "RuBPabt8s_u7",
        "outputId": "52e0ad2d-c929-4fae-8a7c-31810bca1d12"
      },
      "execution_count": 18,
      "outputs": [
        {
          "output_type": "stream",
          "name": "stdout",
          "text": [
            "{'[PAD]': 0, '[UNK]': 1, '.': 2, '이': 3, '영화': 4, '의': 5, '..': 6, '가': 7, '에': 8, '을': 9, '...': 10, '도': 11, '들': 12, ',': 13, '는': 14, '를': 15, '은': 16, '너무': 17, '?': 18, '한': 19, '다': 20, '정말': 21, '적': 22, '만': 23, '진짜': 24, '!': 25, '점': 26, '으로': 27, '로': 28, '에서': 29, '연기': 30, '과': 31, '평점': 32, '것': 33, '최고': 34, '~': 35, '내': 36, '나': 37, '그': 38, '잘': 39, '와': 40, '인': 41, '안': 42, '이런': 43, '생각': 44, '스토리': 45, '못': 46, '왜': 47, '....': 48, '게': 49, '드라마': 50, '이다': 51, '감동': 52, '사람': 53, '1': 54, '하는': 55, '보고': 56, '하고': 57, '말': 58, '고': 59, '더': 60, '때': 61, '아': 62, 'ㅋㅋ': 63, '배우': 64, '감독': 65, '거': 66, '그냥': 67, '요': 68, '본': 69, '내용': 70, '재미': 71, '중': 72, '까지': 73, '뭐': 74, '!!': 75, '좀': 76, '보다': 77, '없는': 78, '쓰레기': 79, '시간': 80, '수': 81, '지': 82, '네': 83, '봤는데': 84, '사랑': 85, '작품': 86, '10': 87, '볼': 88, '할': 89, '없다': 90, '다시': 91, '하나': 92, '마지막': 93, '이건': 94, 'ㅋ': 95, '좋은': 96, '저': 97, '같은': 98, '정도': 99, '2': 100, '입니다': 101, '완전': 102, '있는': 103, 'ㅋㅋㅋ': 104, '처음': 105, '장면': 106, '주인공': 107, '액션': 108, '대': 109, '이렇게': 110, 'ㅠㅠ': 111, '걸': 112, '보는': 113, '최악': 114, '개': 115, '지금': 116, '3': 117, \"'\": 118, '이야기': 119, '돈': 120, '하': 121, '임': 122, '별로': 123, '참': 124, '봐도': 125, '연출': 126, '느낌': 127, '없고': 128, '끝': 129, '라': 130, '듯': 131, '명작': 132, '인데': 133, '별': 134, '역시': 135, '그리고': 136, '기': 137, '서': 138, '난': 139, '많이': 140, '재밌게': 141, '이해': 142, '^^': 143, 'ㅡㅡ': 144, '라고': 145, '면': 146, '!!!': 147, '이영화': 148, '보면': 149, '때문': 150, '또': 151, '여자': 152, '이나': 153, '부터': 154, '성': 155, '전': 156, '해서': 157, '꼭': 158, '아깝다': 159, '두': 160, '된': 161, '보기': 162, '편': 163, '에게': 164, '이고': 165, '짱': 166, '여': 167, '무슨': 168, '기억': 169, '일': 170, '인생': 171, '엔': 172, '같다': 173, '결말': 174, '야': 175, '마음': 176, '랑': 177, 'ㅎㅎ': 178, '애': 179, 'ㅠ': 180, '소재': 181, '수준': 182, '님': 183, '넘': 184, '~~': 185, '영': 186, '없이': 187, '한다': 188, '현실': 189, '제': 190, '한번': 191, '해': 192, '속': 193, '반전': 194, '씨': 195, '함': 196, ';;': 197, '매력': 198, '라는': 199, '??': 200, '전개': 201, '급': 202, '가슴': 203, '남자': 204, '한국': 205, '가장': 206, '하게': 207, '하지만': 208, '되는': 209, '뿐': 210, '알': 211, '아이': 212, '음악': 213, '다른': 214, '니': 215, '만든': 216, '인간': 217, '냐': 218, '줄': 219, '우리': 220, '추천': 221, '원작': 222, '번': 223, '눈물': 224, '봤다': 225, '모든': 226, '않고': 227, '화': 228, '자체': 229, '합니다': 230, '인지': 231, '하지': 232, '지만': 233, '눈': 234, '\"': 235, '인가': 236, '캐릭터': 237, '코미디': 238, '좋다': 239, '모두': 240, '솔직히': 241, '처럼': 242, '대한': 243, 'ㅋㅋㅋㅋ': 244, '뭔가': 245, '대박': 246, '했다': 247, '연기력': 248, '그래도': 249, '이상': 250, '있다': 251, '모습': 252, '움': 253, '전혀': 254, '여운': 255, '굿': 256, '기대': 257, '개봉': 258, '이네': 259, '시리즈': 260, '중간': 261, '공감': 262, '표현': 263, '일본': 264, '계속': 265, '근데': 266, '아주': 267, '자': 268, '부분': 269, '에는': 270, '허': 271, '분': 272, '영상': 273, '(': 274, '이라': 275, ';': 276, '실망': 277, '그런': 278, ')': 279, '제목': 280, '이랑': 281, '하면': 282, '재밌다': 283, 'OO': 284, '가족': 285, '진심': 286, 'ㅎ': 287, '작': 288, '내내': 289, '보지': 290, '-': 291, '많은': 292, '없음': 293, '였다': 294, '뭔': 295, '이제': 296, '후': 297, '기분': 298, '어떻게': 299, '나오는': 300, '건지': 301, '재미있게': 302, '몰입': 303, 'ㅜㅜ': 304, '봐': 305, '했는데': 306, ',,': 307, '봤습니다': 308, '밖에': 309, '재미없다': 310, '아니다': 311, '작가': 312, '4': 313, '감': 314, '건': 315, '공포': 316, '아니라': 317, '아니고': 318, '요즘': 319, '보면서': 320, '이라는': 321, '용': 322, '위': 323, '점도': 324, '않은': 325, '대사': 326, '잼': 327, '긴장감': 328, '아닌': 329, '스릴러': 330, '애니': 331, '하다': 332, '조금': 333, '개인': 334, '극장': 335, '않는': 336, '특히': 337, '삶': 338, '이유': 339, '노래': 340, '욕': 341, '보다가': 342, '0': 343, 'ㅡ': 344, '아까운': 345, '딱': 346, '한테': 347, '노잼': 348, '알바': 349, '좋고': 350, '시작': 351, '나름': 352, '놈': 353, '연': 354, '제대로': 355, '오랜': 356, '이란': 357, '아름다운': 358, '점수': 359, '재밌어요': 360, '차라리': 361, '이지': 362, '시': 363, '.....': 364, '친구': 365, '막장': 366, '에도': 367, '제일': 368, '의미': 369, '당시': 370, '영화로': 371, '보게': 372, '만드는': 373, '극': 374, '명': 375, '보세요': 376, '력': 377, '몇': 378, '해도': 379, '같이': 380, '세상': 381, '있고': 382, '뻔한': 383, '봤어요': 384, '식': 385, '절대': 386, '류': 387, '공포영화': 388, '아직도': 389, '이라고': 390, '싶다': 391, '위해': 392, '오': 393, '♥': 394, '웃음': 395, '봄': 396, '무엇': 397, '도대체': 398, '보니': 399, '앞': 400, '미국': 401, '아무': 402, '우리나라': 403, '너': 404, '7': 405, '나도': 406, '설정': 407, '데': 408, '뭘': 409, '걍': 410, '마다': 411, '좋아하는': 412, '물': 413, '엄청': 414, '어': 415, '주고': 416, '5': 417, '출연': 418, '수작': 419, '초반': 420, '된다': 421, '남': 422, '시나리오': 423, '사실': 424, '보는내내': 425, '좋았다': 426, '한국영': 427, 'OOO': 428, '장난': 429, '준다': 430, '시대': 431, '분위기': 432, '관객': 433, '추억': 434, '이야': 435, '남는': 436, '세': 437, '안되는': 438, '주는': 439, '가지': 440, '지루함': 441, '든': 442, '살': 443, '좋아요': 444, '같아요': 445, '최고다': 446, '졸작': 447, '결국': 448, '자신': 449, '지루하고': 450, '이딴': 451, '봤던': 452, '팬': 453, '반': 454, '준': 455, '소리': 456, '제발': 457, '감정': 458, '인상': 459, '영화관': 460, '접': 461, '정신': 462, '구': 463, '엄마': 464, '~~~': 465, '오늘': 466, '더빙': 467, '엔딩': 468, '주': 469, '이지만': 470, '라면': 471, '니까': 472, '문제': 473, '재밌음': 474, '아무리': 475, '신': 476, '포스터': 477, '될': 478, '어떤': 479, '코믹': 480, '8': 481, '평가': 482, '멋진': 483, '대해': 484, '캐스팅': 485, '그저': 486, '함께': 487, '음': 488, '어릴': 489, '엉': 490, '얼마나': 491, '애니메이션': 492, '뒤': 493, '그렇게': 494, '봐서': 495, '킬링타임': 496, '!!!!': 497, '강추': 498, '배경': 499, '개연': 500, '괜찮은': 501, '했던': 502, '티비': 503, '스릴': 504, '충격': 505, '갈수록': 506, '첨': 507, '전쟁': 508, '아니': 509, '얘기': 510, '몰입도': 511, '이름': 512, '옛날': 513, '질': 514, '맘': 515, '싶은': 516, '큰': 517, '구성': 518, '까': 519, '같은데': 520, '얼굴': 521, '머리': 522, '예술': 523, '머': 524, 'ㅜ': 525, '만화': 526, '하면서': 527, '조': 528, '건가': 529, '울': 530, '보단': 531, '후회': 532, '기도': 533, '영화인': 534, '지루한': 535, '책': 536, '집': 537, '나온': 538, '장르': 539, '재밌는': 540, '않는다': 541, '모르겠다': 542, '웃기': 543, '후반': 544, '이후': 545, '그래서': 546, '9': 547, '간': 548, '매우': 549, '너무나': 550, '총': 551, '집중': 552, '어디': 553, '주연': 554, '다큐': 555, '비': 556, '봐라': 557, '만들어': 558, '하는데': 559, '상황': 560, '+': 561, '역사': 562, '날': 563, '꽤': 564, ',,,': 565, '원': 566, '여기': 567, '지루하다': 568, '진': 569, '아직': 570, '???': 571, '억지': 572, '누구': 573, '재미없음': 574, '글': 575, '짜증': 576, '다운': 577, '그것': 578, '걸작': 579, '시즌': 580, '존나': 581, '소름': 582, '보는데': 583, '분들': 584, '상': 585, '언제': 586, '이리': 587, '했지만': 588, '씬': 589, '먹': 590, '마세요': 591, '어느': 592, '등': 593, 'B': 594, '약간': 595, '실화': 596, '한마디': 597, '않다': 598, '그나마': 599, '인물': 600, '자기': 601, '본다': 602, '아님': 603, '훨씬': 604, '예전': 605, '~!': 606, '대체': 607, '누가': 608, '6': 609, '시절': 610, '방송': 611, '동안': 612, '부': 613, '봤음': 614, '봤지만': 615, '할수': 616, '그대로': 617, '비교': 618, '이었다': 619, '아들': 620, '만점': 621, '휴': 622, '초딩': 623, '발연기': 624, '비디오': 625, '없어': 626, '됨': 627, '보': 628, '없네': 629, '네이버': 630, '판': 631, '사회': 632, '하기': 633, '다음': 634, '로맨스': 635, '재밌고': 636, '꿈': 637, '아까': 638, '전체': 639, '간만': 640, '감성': 641, 'CG': 642, '나와서': 643, '소설': 644, '같음': 645, '라도': 646, '없었다': 647, '혼자': 648, '코': 649, 'ㅉㅉ': 650, '편이': 651, '여배우': 652, '나이': 653, '해야': 654, '나라': 655, '바로': 656, '죠': 657, '였습니다': 658, '여주': 659, ';;;': 660, '성룡': 661, '주제': 662, '재': 663, '보다는': 664, '좋은데': 665, '없어서': 666, '에요': 667, '재미있어요': 668, '어렸을': 669, '굳': 670, '목소리': 671, '빨리': 672, '삼류': 673, '힘': 674, '가는': 675, '하네요': 676, '열': 677, '이라도': 678, '교훈': 679, '당신': 680, '년': 681, '어설픈': 682, '만큼': 683, '죽': 684, '낭비': 685, '순간': 686, '그만': 687, '미친': 688, '안보': 689, '장': 690, '아쉽다': 691, '존재': 692, '쯤': 693, '낸': 694, '재밋': 695, '거의': 696, '질질': 697, '몇번': 698, '상당히': 699, '짜리': 700, '진정한': 701, '좋아': 702, '......': 703, '/': 704, '점주': 705, '잔잔한': 706, '좀비': 707, '는데': 708, '아버지': 709, '있지만': 710, '보여주는': 711, '재미있다': 712, '맛': 713, '말고': 714, '실제': 715, '줄거리': 716, '판타지': 717, '만하': 718, '쳐': 719, '어른': 720, '평론가': 721, '전부': 722, '답': 723, '재밌네요': 724, '각본': 725, '모': 726, '되고': 727, '라니': 728, '에선': 729, '시청률': 730, '히': 731, '바': 732, '소': 733, '상영': 734, '발': 735, '란': 736, '같네요': 737, '그러나': 738, '이번': 739, 'ㅎㅎㅎ': 740, '저런': 741, '굉장히': 742, '난다': 743, '되어': 744, '믿고': 745, '으로도': 746, '피': 747, '이하': 748, '의도': 749, '버린': 750, '가치': 751, '갑자기': 752, '하며': 753, '사': 754, '제작': 755, '극장판': 756, '딸': 757, '곳': 758, '단': 759, '10년': 760, '간다': 761, 'TV': 762, '선': 763, '필요': 764, '중국': 765, '화면': 766, '하네': 767, '세계': 768, '땜': 769, '그런지': 770, '당': 771, '첫': 772, '있어': 773, '그녀': 774, '한편': 775, '어린': 776, '그때': 777, '둘': 778, '볼때': 779, '대로': 780, '밑': 781, '나온다': 782, '형': 783, '해주는': 784, '항상': 785, '요소': 786, '에서도': 787, '평': 788, '있을까': 789, '봤네요': 790, '터': 791, '있어서': 792, '있는데': 793, '비해': 794, '선택': 795, '재미있는': 796, '올': 797, '되지': 798, '복수': 799, '라서': 800, '좋음': 801, '뻔': 802, '막': 803, '좋네요': 804, '훌륭한': 805, '흥행': 806, '성우': 807, '슬픈': 808, '스타일': 809, '온': 810, '치고': 811, '에서는': 812, '거기': 813, '햇': 814, '참고': 815, '똥': 816, '여러': 817, '봐야': 818, '일단': 819, '이냐': 820, '멜로': 821, '없네요': 822, '이에요': 823, '인거': 824, '점점': 825, '모르고': 826, '어디서': 827, '또한': 828, '아빠': 829, '역': 830, '더럽게': 831, '역대': 832, '관람': 833, '더욱': 834, '어이': 835, '였음': 836, '초': 837, 'tv': 838, '새': 839, 'ㅠㅠㅠ': 840, '거지': 841, '상미': 842, '개그': 843, '물론': 844, '사건': 845, '수가': 846, 'ㅋㅋㅋㅋㅋ': 847, '충분히': 848, '낫다': 849, '래': 850, '완성': 851, '깊은': 852, '진행': 853, '짓': 854, '술': 855, '재미없는': 856, '보는게': 857, '군': 858, '병맛': 859, '편집': 860, '화이팅': 861, '에겐': 862, '여서': 863, '했음': 864, '씩': 865, '해준': 866, '엉망': 867, '무': 868, '좋겠다': 869, '현': 870, '잠': 871, '어쩔': 872, '키': 873, '알았는데': 874, '프랑스': 875, '꿀잼': 876, '전형': 877, '아까워': 878, '새로운': 879, '따뜻한': 880, '나오고': 881, '리': 882, '화보': 883, '귀': 884, '그게': 885, '드': 886, '~!!': 887, '중반': 888, '원래': 889, '있음': 890, '미화': 891, '몸': 892, '암': 893, '감상': 894, '하는게': 895, '나옴': 896, '죽음': 897, '아닌가': 898, '관': 899, '그래픽': 900, '대단한': 901, '예상': 902, '였어요': 903, '배': 904, '손': 905, '안된다': 906, '-_-': 907, '있게': 908, '만에': 909, '새끼': 910, 'good': 911, '20': 912, '티': 913, '척': 914, '학교': 915, '불륜': 916, '나올': 917, '알았다': 918, '취향': 919, '흥미': 920, '댓글': 921, '일이': 922, '액션영화': 923, '좋았어요': 924, '재밌는데': 925, '연기자': 926, '노력': 927, '예고편': 928, '가서': 929, '같아': 930, '흥미진진': 931, '헐': 932, '잘만': 933, '자극': 934, '따': 935, '과거': 936, '한다는': 937, '만이': 938, '엄청난': 939, '상상': 940, '이라니': 941, '자꾸': 942, '화가': 943, '바보': 944, '괜히': 945, 'ㄷㄷ': 946, '미': 947, '게임': 948, '나쁜': 949, '마무리': 950, '설명': 951, '만으로도': 952, '거리': 953, '무조건': 954, '천재': 955, '속편': 956, '대한민국': 957, '도저히': 958, '억': 959, '않음': 960, '전달': 961, '같습니다': 962, '야할': 963, '오히려': 964, ':': 965, '예': 966, '심리': 967, '결혼': 968, '기대하고': 969, '그림': 970, '땐': 971, '재밌었다': 972, '보이': 973, '유치': 974, '스타': 975, '이래': 976, '하는지': 977, 'ost': 978, '흠': 979, '아저씨': 980, '타': 981, '전편': 982, '♡': 983, '억지로': 984, '우연히': 985, '대작': 986, '법': 987, '완벽한': 988, '드는': 989, '영환': 990, '젠': 991, '안됨': 992, '양': 993, '표정': 994, '조차': 995, '짐': 996, '봤을': 997, '귀신': 998, '맨': 999, '스러운': 1000, '며': 1001, '하하': 1002, '회': 1003, '높은': 1004, 'SF': 1005, '오빠': 1006, '환상': 1007, '최근': 1008, '되': 1009, '있을': 1010, '재미없고': 1011, '느끼게': 1012, '일까': 1013, '지루': 1014, '길': 1015, '타임': 1016, '다가': 1017, '메세지': 1018, '오래': 1019, '촬영': 1020, '재미있고': 1021, '전설': 1022, '주의': 1023, '90년': 1024, '노': 1025, '꺼': 1026, '동': 1027, '산': 1028, '관계': 1029, '재미없어': 1030, '무비': 1031, '순': 1032, '경찰': 1033, '그닥': 1034, '먼저': 1035, '있었다': 1036, '현재': 1037, '놔': 1038, '행동': 1039, '공': 1040, '쓴': 1041, '입': 1042, '동화': 1043, '했으면': 1044, '하는거': 1045, '2시간': 1046, '마': 1047, '소녀': 1048, '프로그램': 1049, '전작': 1050, '그렇고': 1051, '묘사': 1052, '예요': 1053, '유머': 1054, '만의': 1055, '100': 1056, '엇': 1057, '아니면': 1058, '짜': 1059, '관심': 1060, 'ㅇ': 1061, '살다': 1062, '조연': 1063, '힘든': 1064, '통해': 1065, '아쉬움': 1066, '영웅': 1067, '이미': 1068, '비슷한': 1069, '노출': 1070, '서로': 1071, '망작': 1072, '>': 1073, '먹고': 1074, '아쉬운': 1075, '지루하지': 1076, '따라': 1077, '볼수': 1078, '그런데': 1079, '정': 1080, '등장': 1081, '존': 1082, '다행': 1083, '프로': 1084, '모르는': 1085, '나중': 1086, '살인': 1087, '역할': 1088, '리메이크': 1089, '유치하고': 1090, '예산': 1091, '맞는': 1092, '으': 1093, '재밌었어요': 1094, '바람': 1095, '해요': 1096, '외': 1097, '봣': 1098, '마치': 1099, '되었다': 1100, '긴': 1101, '졸라': 1102, '강': 1103, '좋았습니다': 1104, '제작비': 1105, 'D': 1106, '이며': 1107, '좋았음': 1108, '채널': 1109, '안되고': 1110, '보고싶다': 1111, '유치한': 1112, '이상한': 1113, '화려한': 1114, '받아': 1115, '보고나서': 1116, '반개': 1117, '효과': 1118, '80년': 1119, '없을': 1120, '만들': 1121, '아닐까': 1122, '특유': 1123, '안나': 1124, '가끔': 1125, '과정': 1126, '.......': 1127, '지루해': 1128, '철학': 1129, '좋았고': 1130, '인정': 1131, '보시길': 1132, '아니지만': 1133, '왕': 1134, '감사합니다': 1135, '깊이': 1136, '하냐': 1137, '않았다': 1138, '생': 1139, '보이는': 1140, '청춘': 1141, '미래': 1142, '이런거': 1143, '같아서': 1144, '느낄': 1145, '너무나도': 1146, '진부한': 1147, 'cg': 1148, '낚': 1149, '범인': 1150, '케이블': 1151, '형님': 1152, '만들지': 1153, '희망': 1154, '나왔으면': 1155, '싫다': 1156, '런가': 1157, '만들었다': 1158, '아닌데': 1159, '다만': 1160, '필요없다': 1161, '체': 1162, '사이': 1163, '였는데': 1164, '슬프다': 1165, '봤으면': 1166, '능력': 1167, '그리': 1168, 'OST': 1169, '있나': 1170, '비추': 1171, '엿': 1172, '이런게': 1173, '차': 1174, '께': 1175, '왠지': 1176, '스케일': 1177, '기세': 1178, '카메라': 1179, '군대': 1180, '메디': 1181, '재미있음': 1182, 'ㅅㅂ': 1183, '이면': 1184, '생애': 1185, '낮은': 1186, '되게': 1187, '계': 1188, '용도': 1189, '지난': 1190, '재밌어': 1191, '대안': 1192, '상상력': 1193, '다소': 1194, '빼고': 1195, '로는': 1196, '독립영화': 1197, '고생': 1198, '깊게': 1199, '대단하다': 1200, '든다': 1201, '끝나고': 1202, '나를': 1203, '좋았는데': 1204, '잘못': 1205, '미소': 1206, '리얼': 1207, '않게': 1208, '얼': 1209, '없나': 1210, '않아': 1211, '평생': 1212, '자막': 1213, '없지만': 1214, '필요없는': 1215, '버렸다': 1216, '봤었는데': 1217, '확실히': 1218, '로맨틱': 1219, '치': 1220, '줌': 1221, '보고싶은': 1222, '어린이': 1223, '볼수록': 1224, '고민': 1225, '메시지': 1226, '진실': 1227, '시도': 1228, '돼': 1229, '대의': 1230, '^': 1231, '결론': 1232, '리뷰': 1233, '그래': 1234, '멋': 1235, '우': 1236, '들어': 1237, '봤다가': 1238, '매': 1239, '커플': 1240, '나와': 1241, '부족한': 1242, '부족': 1243, '유쾌한': 1244, '있다는': 1245, '마라': 1246, '박수': 1247, '밤': 1248, '드립니다': 1249, '의리': 1250, '손발': 1251, '스': 1252, '보여준': 1253, '약': 1254, '슬픔': 1255, '할까': 1256, '문화': 1257, '굳이': 1258, '사극': 1259, '있다면': 1260, '여성': 1261, '으로는': 1262, '스럽다': 1263, '포장': 1264, '발견': 1265, '했을': 1266, '보시': 1267, '광고': 1268, '남는다': 1269, 'ㅇㅇ': 1270, '같고': 1271, '아침': 1272, '웃김': 1273, '짱짱': 1274, '해라': 1275, '어이없는': 1276, '흐름': 1277, '과연': 1278, '지도': 1279, '로서': 1280, '저렇게': 1281, '한계': 1282, '봅니다': 1283, '범죄': 1284, '는걸': 1285, '괴물': 1286, '어색한': 1287, '감탄': 1288, '아는': 1289, '<': 1290, '언': 1291, '여전히': 1292, '무서운': 1293, '귀여운': 1294, '동생': 1295, '수도': 1296, '성인': 1297, '용이': 1298, '문': 1299, '어찌': 1300, '언니': 1301, '쩐다': 1302, '랄': 1303, '시청자': 1304, '됩니다': 1305, '개판': 1306, '아름답고': 1307, '있네': 1308, '심': 1309, '인기': 1310, '폭력': 1311, '상처': 1312, '..?': 1313, '별루': 1314, '유': 1315, '대충': 1316, '자연': 1317, '주기': 1318, '써': 1319, '용서': 1320, '살짝': 1321, '정서': 1322, '볼거리': 1323, '몸매': 1324, '개도': 1325, '재밌었는데': 1326, '진정': 1327, '뜻': 1328, '귀엽고': 1329, '사는': 1330, '독특한': 1331, '순수한': 1332, '방': 1333, '느껴지는': 1334, '않나': 1335, '~^^': 1336, '조폭': 1337, '홍보': 1338, '젤': 1339, '성도': 1340, '핵': 1341, '그럼': 1342, '재밌습니다': 1343, '않을': 1344, '나서': 1345, '덕분': 1346, '일상': 1347, '~~~~': 1348, '빨': 1349, '보라': 1350, '겁나': 1351, '재밌었음': 1352, '아닌듯': 1353, '있었던': 1354, '만들어진': 1355, '섹스': 1356, '삼': 1357, '연애': 1358, '지는': 1359, '그럭저럭': 1360, '스럽게': 1361, '시선': 1362, '있습니다': 1363, '게이': 1364, '좋아서': 1365, '잼있게': 1366, '열심히': 1367, '오락': 1368, '끼리': 1369, '평범한': 1370, '있지': 1371, '힐링': 1372, '쓰': 1373, '눈빛': 1374, '달': 1375, '30분': 1376, '병': 1377, '정말로': 1378, '포기': 1379, '노답': 1380, '표절': 1381, '빛': 1382, '끌': 1383, '무협': 1384, '죄': 1385, '아오': 1386, '아름답다': 1387, '남녀': 1388, '실감': 1389, '비극': 1390, '되네요': 1391, '20년': 1392, '갈': 1393, '받고': 1394, '버리고': 1395, '어제': 1396, '자유': 1397, '하루': 1398, '춤': 1399, '하세요': 1400, '짜증나는': 1401, '퀄리티': 1402, '에서의': 1403, '등장인물': 1404, '해피엔딩': 1405, '뜬금': 1406, '신선한': 1407, '낮아서': 1408, '와는': 1409, '크게': 1410, '=': 1411, '쓰래': 1412, '들이': 1413, '우정': 1414, '없지': 1415, '남편': 1416, '국민': 1417, '혹시': 1418, '10분': 1419, '풀어': 1420, '코드': 1421, '재미없네': 1422, 'b': 1423, '정치': 1424, '떨어지는': 1425, '하자': 1426, '먼': 1427, '하니': 1428, '북한': 1429, '나머지': 1430, '웃겨': 1431, '반성': 1432, '이기': 1433, '보다도': 1434, '(?)': 1435, '막판': 1436, '보지마': 1437, '말로': 1438, '펑펑': 1439, '있어요': 1440, '좋습니다': 1441, '보긴': 1442, '슬프고': 1443, '마저': 1444, '팔': 1445, '좋게': 1446, '홍콩': 1447, '가진': 1448, '종교': 1449, '있네요': 1450, '공부': 1451, '없는데': 1452, '하다가': 1453, '보아': 1454, '쉽게': 1455, '가볍게': 1456, '보러': 1457, '만으로': 1458, '이연걸': 1459, '표': 1460, '재미있네요': 1461, '자식': 1462, '라지': 1463, '뮤지컬': 1464, '아깝지': 1465, '않': 1466, '지루해서': 1467, '했습니다': 1468, '했어요': 1469, '만든다': 1470, '악당': 1471, '만들고': 1472, '몰라도': 1473, '악역': 1474, '차이': 1475, '느와르': 1476, '형편': 1477, '까지는': 1478, '많다': 1479, '악': 1480, '아픈': 1481, '게다가': 1482, '감명': 1483, '다큐멘터리': 1484, '이쁘고': 1485, '권': 1486, '서야': 1487, '으론': 1488, '가면': 1489, '암튼': 1490, '불가': 1491, '벌써': 1492, '받은': 1493, '의문': 1494, '에게는': 1495, '행복': 1496, '죽는줄': 1497, '그걸': 1498, '입장': 1499, '누나': 1500, '토': 1501, '멋지다': 1502, '새벽': 1503, '하다니': 1504, '불구': 1505, '대가': 1506, '까진': 1507, '불': 1508, '발전': 1509, '고전': 1510, '이라서': 1511, '디즈니': 1512, '소장': 1513, '희생': 1514, '좋아하는데': 1515, '예쁜': 1516, '둘다': 1517, '기본': 1518, '&': 1519, '무시': 1520, '그다지': 1521, '결과': 1522, '높다': 1523, '있으면': 1524, '모르게': 1525, '하여': 1526, '제로': 1527, '오는': 1528, '싸구려': 1529, '올해': 1530, '그린': 1531, '에만': 1532, '걸까': 1533, '기적': 1534, '인가요': 1535, '않지만': 1536, '빼고는': 1537, '넘치는': 1538, '드럽게': 1539, '비주': 1540, '따위': 1541, '오버': 1542, '받아서': 1543, '좀더': 1544, '동물': 1545, '웃긴': 1546, '뻔하고': 1547, '기술': 1548, '_': 1549, '잊혀지지': 1550, '지구': 1551, '연예인': 1552, '그렇다고': 1553, '꼴': 1554, '본방': 1555, '반복': 1556, '긴장': 1557, '외국': 1558, '흑': 1559, '호러': 1560, '열정': 1561, '아이돌': 1562, '시사회': 1563, '백': 1564, '쇼': 1565, '쩝': 1566, '보인다': 1567, 'ㅠㅠㅠㅠ': 1568, '좋': 1569, '창': 1570, '재밌네': 1571, '방식': 1572, '언제나': 1573, '평이': 1574, '까지도': 1575, '과는': 1576, '선생님': 1577, '러닝': 1578, '라인': 1579, '아줌마': 1580, '이제야': 1581, '싸움': 1582, '청소년': 1583, '대화': 1584, '실패': 1585, '되서': 1586, '하려는': 1587, '금': 1588, '맨날': 1589, '실력': 1590, '어머니': 1591, '보길': 1592, '밥': 1593, '쫌': 1594, '팀': 1595, '쓰고': 1596, '나오면': 1597, '글쎄': 1598, '달라': 1599, '에로': 1600, '본인': 1601, '늘': 1602, '아픔': 1603, '전문가': 1604, '젊은': 1605, '짝': 1606, '할말이': 1607, '무섭지도': 1608, '이니': 1609, '즈': 1610, '본게': 1611, '으리': 1612, '주기도': 1613, '세기': 1614, '방금': 1615, '외모': 1616, '많고': 1617, '갑니다': 1618, '한국인': 1619, '아름다': 1620, 'ㅋㅋㅋㅋㅋㅋ': 1621, '꽝': 1622, '과의': 1623, '필름': 1624, '돌려': 1625, '뛰어난': 1626, '없어요': 1627, '재미있었다': 1628, '찍은': 1629, '1시간': 1630, '분노': 1631, '조절': 1632, '죄다': 1633, '떠나서': 1634, '한다고': 1635, '어휴': 1636, '미드': 1637, '해석': 1638, '헐리우드': 1639, '견자단': 1640, '무섭다': 1641, '왜케': 1642, '누군가': 1643, '베스트': 1644, '편의': 1645, '단지': 1646, '갈등': 1647, '가고': 1648, '질리': 1649, '좋았던': 1650, '이미지': 1651, '방법': 1652, '학생': 1653, '대표': 1654, '진리': 1655, '시트콤': 1656, '시각': 1657, '짝퉁': 1658, '냥': 1659, '보지마라': 1660, '봐요': 1661, '애기': 1662, '재미없어요': 1663, '비판': 1664, '이었습니다': 1665, '극치': 1666, '여행': 1667, '하고자': 1668, '로만': 1669, '재밋다': 1670, '이든': 1671, '존경': 1672, '히어로': 1673, '가는줄': 1674, '작은': 1675, '굿굿': 1676, '성한': 1677, '김기덕': 1678, '본다면': 1679, '단순한': 1680, '만족': 1681, '유발': 1682, '내고': 1683, '딱히': 1684, '스스로': 1685, '로봇': 1686, '끼': 1687, '명품': 1688, '에피소드': 1689, '부모': 1690, '아쉽네요': 1691, '최': 1692, '사랑스러운': 1693, '싶네요': 1694, '나오네': 1695, '그거': 1696, '대부분': 1697, '빠진': 1698, '좋아해서': 1699, '조합': 1700, '허세': 1701, '째': 1702, '푹': 1703, '19': 1704, '테러': 1705, '쵝오': 1706, '쪽': 1707, '인해': 1708, '재미있었어요': 1709, '주말': 1710, '가요': 1711, '양심': 1712, '피해자': 1713, '심장': 1714, '즐겁게': 1715, '담': 1716, '국내': 1717, '????': 1718, '생각나는': 1719, '개념': 1720, '은근': 1721, '자리': 1722, '받는': 1723, '전개도': 1724, '이정': 1725, '모르겠고': 1726, '경험': 1727, '잔잔하고': 1728, '기대했는데': 1729, '이자': 1730, '분명': 1731, '30': 1732, '탄탄한': 1733, '한데': 1734, '망': 1735, '코난': 1736, '그렇지': 1737, '보았다': 1738, '좋겠어요': 1739, '개성': 1740, '과장': 1741, '검색': 1742, '와우': 1743, '맥': 1744, '했고': 1745, '라이': 1746, '크': 1747, '신분': 1748, '따뜻해지는': 1749, '개뿔': 1750, '해주세요': 1751, '신선하고': 1752, '봤더니': 1753, '편견': 1754, '연속': 1755, '기자': 1756, '훨': 1757, '이쁘다': 1758, '사기': 1759, '단연': 1760, '무언가': 1761, '헐리웃': 1762, '미모': 1763, '무척': 1764, '안타깝다': 1765, '번째': 1766, '...?': 1767, '우와': 1768, '딴': 1769, '의외로': 1770, '두고': 1771, '생활': 1772, '캐리': 1773, '외계인': 1774, '보고나면': 1775, '챙겨': 1776, '짜증난다': 1777, '오브': 1778, '희': 1779, '겁니다': 1780, '영어': 1781, '경': 1782, '들었다': 1783, '할머니': 1784, '웃기지도': 1785, '직접': 1786, '근': 1787, '자살': 1788, '나오지': 1789, '한참': 1790, '끝날': 1791, '얘': 1792, '[': 1793, '형사': 1794, '울었다': 1795, '싸이코': 1796, '........': 1797, '레알': 1798, '이여': 1799, '좋지만': 1800, '왠만하면': 1801, '뒷': 1802, '나쁘지': 1803, '빠져': 1804, '도안': 1805, '없다는': 1806, '봣는데': 1807, '옛': 1808, '만들어도': 1809, '명성': 1810, '묘': 1811, '전반': 1812, '18': 1813, '카': 1814, '어려운': 1815, ',,,,': 1816, '보며': 1817, '성장': 1818, '더불어': 1819, '흔한': 1820, '먹는': 1821, '의식': 1822, '보려고': 1823, '으로서': 1824, '보겠다': 1825, '풍경': 1826, '초등학생': 1827, '마이너스': 1828, '보자': 1829, '고양이': 1830, '힘들다': 1831, '도전': 1832, '이따위': 1833, '하던': 1834, '아내': 1835, '남주': 1836, '쩌': 1837, '멍청한': 1838, '칼': 1839, '싶을': 1840, '점준': 1841, '달달': 1842, '마이클': 1843, '확': 1844, '모르겠지만': 1845, '으로만': 1846, '개막': 1847, '보았습니다': 1848, '봐야지': 1849, '했는지': 1850, '♥♥': 1851, '재밋어': 1852, '아마': 1853, '하나로': 1854, '아깝고': 1855, '아아': 1856, '?!': 1857, '만들기': 1858, ']': 1859, '영혼': 1860, '쉬': 1861, '향': 1862, '막장드라마': 1863, '그렇다': 1864, '짜증나': 1865, '주변': 1866, '악마': 1867, '하는건': 1868, '가수': 1869, '이보': 1870, '야동': 1871, '무지': 1872, '않을까': 1873, '신고': 1874, '카리스마': 1875, '않네요': 1876, '본거': 1877, '튼': 1878, '봤': 1879, '러브': 1880, '변화': 1881, '스럽지': 1882, '멋있다': 1883, '로써': 1884, '더러운': 1885, '지루했다': 1886, '주성치': 1887, '감히': 1888, '왠': 1889, '정의': 1890, '비현실적': 1891, '응원': 1892, '학년': 1893, '버림': 1894, '되면': 1895, '레전드': 1896, '야하는': 1897, '빼면': 1898, '없': 1899, '스트레스': 1900, '연결': 1901, '이도': 1902, '맞지': 1903, 'x': 1904, '행복한': 1905, '기만': 1906, '겨우': 1907, '완전히': 1908, '듣고': 1909, '그려': 1910, '지루하게': 1911, '답답하고': 1912, '사수': 1913, '잠깐': 1914, '남아': 1915, '옆': 1916, '빈': 1917, 'ㅋㅋㅋㅋㅋㅋㅋ': 1918, '면서': 1919, '12': 1920, '시키는': 1921, '끝나는': 1922, '기준': 1923, '잼있어요': 1924, '베': 1925, '처': 1926, '쓰는': 1927, '에나': 1928, '유쾌하고': 1929, '롭고': 1930, '상업': 1931, '좋았지만': 1932, '넘게': 1933, '설마': 1934, '하려고': 1935, '없습니다': 1936, '투자': 1937, '내면': 1938, '다시는': 1939, '홍콩영화': 1940, '좋았으나': 1941, '시청': 1942, '관점': 1943, '포르노': 1944, '덜': 1945, '신경': 1946, '만해': 1947, '모르겠음': 1948, '각': 1949, '형제': 1950, '칠': 1951, '니깐': 1952, '으로써': 1953, '세번': 1954, '하길래': 1955, '십': 1956, '하기엔': 1957, '되는데': 1958, '느끼는': 1959, '김': 1960, '세월': 1961, '없게': 1962, 'C': 1963, 'M': 1964, '있었지만': 1965, '이상은': 1966, '특수': 1967, '어린시절': 1968, '성격': 1969, '없었던': 1970, '포인트': 1971, '겨': 1972, '참으로': 1973, '등등': 1974, '편도': 1975, '착한': 1976, ',.': 1977, '잔인한': 1978, '21': 1979, '압권': 1980, '위대한': 1981, '했다는': 1982, '느껴진다': 1983, '예쁘고': 1984, '위로': 1985, '얼마': 1986, '따로': 1987, '욕망': 1988, '답답한': 1989, '야한다': 1990, '기회': 1991, '가본': 1992, '교육': 1993, '한다면': 1994, '받을': 1995, '즐거운': 1996, '투': 1997, '전쟁영화': 1998, '리즈': 1999, '007': 2000, '젠장': 2001, '우주': 2002, '로그인': 2003, '고통': 2004, '잊지': 2005, '인들': 2006, '보네': 2007, '크리스마스': 2008, '동시': 2009, '싶은데': 2010, '유치하다': 2011, '정체': 2012, '국가': 2013, '운명': 2014, '우려': 2015, '방영': 2016, '지루할': 2017, '예능': 2018, '만큼은': 2019, '알수': 2020, '효': 2021, '색감': 2022, '잔': 2023, 'ㄱ': 2024, '빼곤': 2025, '아예': 2026, '높아': 2027, '시킨': 2028, '변태': 2029, '똑같은': 2030, '적임': 2031, '갑': 2032, '일품': 2033, '씀': 2034, '조작': 2035, '했나': 2036, '최강': 2037, '생각나서': 2038, 'ㅅ': 2039, '다룬': 2040, '들고': 2041, '듬': 2042, '루': 2043, '죽는': 2044, '이어서': 2045, '넌': 2046, '이용': 2047, '해야지': 2048, '케': 2049, '흥미로운': 2050, '갔다': 2051, '틈': 2052, '에로영화': 2053, '바다': 2054, '채': 2055, '서는': 2056, '목': 2057, '봤네': 2058, '수고': 2059, '확인': 2060, '몇몇': 2061, 'the': 2062, '초등학교': 2063, '흑인': 2064, '살면서': 2065, '그럴': 2066, '괜찮은데': 2067, '선물': 2068, '사진': 2069, '안습': 2070, '무술': 2071, '배역': 2072, '설득': 2073, '갓': 2074, 'DVD': 2075, '전에': 2076, '풍자': 2077, '부모님': 2078, '냄새': 2079, '정신병': 2080, '재밌다고': 2081, '보던': 2082, '캐': 2083, '봤을까': 2084, '감안': 2085, '데리': 2086, '좋을': 2087, '깨': 2088, '결정': 2089, '했으나': 2090, '만들다니': 2091, '내생': 2092, '워': 2093, '이었음': 2094, '망한': 2095, '이래서': 2096, '공포물': 2097, '린': 2098, '미가': 2099, '옷': 2100, '봤는데도': 2101, '그건': 2102, '관련': 2103, '잼있다': 2104, '최초': 2105, '공짜': 2106, '탓': 2107, '영원히': 2108, '근래': 2109, '어울리는': 2110, '끔': 2111, '떨어진다': 2112, '바랍니다': 2113, '놓고': 2114, '감흥': 2115, '있었는데': 2116, '이쁜': 2117, '갠': 2118, '꼬마': 2119, '지나치게': 2120, '거짓말': 2121, '낮지': 2122, '시점': 2123, '대본': 2124, '만남': 2125, '보여준다': 2126, '오랫': 2127, '녀': 2128, '진부하고': 2129, '깜짝': 2130, '파': 2131, '드림': 2132, '영국': 2133, '재미없게': 2134, '해결': 2135, '보통': 2136, '비밀': 2137, '아래': 2138, '덕': 2139, '의심': 2140, 'ㄷㄷㄷ': 2141, '패': 2142, '용기': 2143, ';;;;': 2144, '부부': 2145, '하긴': 2146, '케릭': 2147, '거나': 2148, '재미있습니다': 2149, '많아서': 2150, '여러가지': 2151, '단어': 2152, '대중': 2153, '색다른': 2154, '영화계': 2155, '껏': 2156, '5분': 2157, '치는': 2158, '잇는': 2159, '톰': 2160, '부족하다': 2161, '첫사랑': 2162, '낮다': 2163, '박': 2164, '성은': 2165, '자주': 2166, 'ㅠㅜ': 2167, '만을': 2168, '심하게': 2169, '달리': 2170, 'ㅉㅉㅉ': 2171, '하겠다': 2172, '번은': 2173, '여러분': 2174, '전율': 2175, '스크린': 2176, '땅': 2177, '아동': 2178, '셈': 2179, '았': 2180, '같': 2181, '명화': 2182, '스런': 2183, '가득': 2184, '본적': 2185, '버리는': 2186, 'X': 2187, '상태': 2188, '하지마라': 2189, '있구나': 2190, '빵점': 2191, '디': 2192, '깨닫게': 2193, '물이': 2194, '찾아': 2195, '던데': 2196, '트': 2197, '한심한': 2198, '중요한': 2199, '하는것': 2200, '갖고': 2201, '브루스': 2202, '연인': 2203, '만은': 2204, '할듯': 2205, '만들면': 2206, '감각': 2207, '와의': 2208, '훈훈한': 2209, '아닙니다': 2210, '둘째': 2211, '있는지': 2212, '않아서': 2213, '소년': 2214, '안타까운': 2215, '유명한': 2216, '됐다': 2217, '아역': 2218, '가족영화': 2219, '알겠는데': 2220, '두번째': 2221, '신의': 2222, '높게': 2223, '골': 2224, '재밌': 2225, '떨어지고': 2226, '선동': 2227, '잔뜩': 2228, '짜증나서': 2229, '줍니다': 2230, '심지어': 2231, '많은데': 2232, '매니아': 2233, '이쁨': 2234, '탄생': 2235, '목적': 2236, '낮게': 2237, '기법': 2238, '만들었는지': 2239, '잼나게': 2240, '하나같이': 2241, '기를': 2242, '줘': 2243, '야한': 2244, '15': 2245, '명의': 2246, '작위': 2247, '삭제': 2248, '야구': 2249, '쥐': 2250, '훌륭하다': 2251, '사상': 2252, '통': 2253, '결코': 2254, '소소한': 2255, '점줌': 2256, '빵빵': 2257, '폐지': 2258, '장가': 2259, '려고': 2260, '20분': 2261, '잊을': 2262, 'sf': 2263, 'A': 2264, '짜임새': 2265, '마시길': 2266, '철': 2267, '한숨': 2268, '였던': 2269, '이상하게': 2270, '이따': 2271, '집착': 2272, '풍': 2273, '이런건': 2274, '시기': 2275, '탑': 2276, '할아버지': 2277, '애가': 2278, '빌려': 2279, '배우도': 2280, '느낀': 2281, '종영': 2282, '본듯': 2283, '재밌던데': 2284, '제외': 2285, '말고는': 2286, '났다': 2287, '패러디': 2288, '낮네': 2289, '좋겠네요': 2290, '70년': 2291, '어설프고': 2292, '따뜻하고': 2293, '메': 2294, '목숨': 2295, '곡': 2296, '뭐라': 2297, '낫': 2298, '11': 2299, '값': 2300, '했을까': 2301, '뇌': 2302, '열연': 2303, '느꼈다': 2304, '후속작': 2305, '같지': 2306, '금보': 2307, '마리': 2308, '감정이입': 2309, '아까웠다': 2310, '아쉽지만': 2311, '기독교': 2312, '많은걸': 2313, '다양한': 2314, '아무런': 2315, '죽여': 2316, '보구': 2317, '..;;': 2318, '읽어': 2319, '무서움': 2320, '욕심': 2321, '죽은': 2322, '틱': 2323, '봤다면': 2324, '오래전': 2325, '포스': 2326, '식상한': 2327, '타고': 2328, '거부': 2329, '하늘': 2330, '어쩜': 2331, '무료': 2332, '보여': 2333, 'ㅎㅎㅎㅎ': 2334, '시켜': 2335, '보여주고': 2336, '본지': 2337, '중독': 2338, '신파': 2339, '그만큼': 2340, '재난영화': 2341, '있': 2342, '본건데': 2343, '했네': 2344, '대놓고': 2345, '승리': 2346, '기는': 2347, '아이디어': 2348, '유치함': 2349, '아까울': 2350, '무섭고': 2351, '느낄수': 2352, '밋': 2353, '모험': 2354, '맞아': 2355, '없었음': 2356, '한개': 2357, '짜증남': 2358, '아깝네': 2359, '정작': 2360, '틀': 2361, '모양': 2362, '이었어요': 2363, '아기': 2364, '블록버스터': 2365, '있던': 2366, '없으면': 2367, '이만': 2368, ':)': 2369, '팔이': 2370, '구나': 2371, '혹은': 2372, '태어나서': 2373, '울컥': 2374, '잼있음': 2375, '호': 2376, '라이언': 2377, '담배': 2378, '볼려고': 2379, '필요한': 2380, '웃고': 2381, '추리': 2382, '보신': 2383, '귀여워': 2384, '!!!!!': 2385, '사고': 2386, '주제가': 2387, '지나도': 2388, '배우는': 2389, '마이': 2390, '볼수있는': 2391, '이상하고': 2392, '없다고': 2393, '낚였다': 2394, '버전': 2395, '오래된': 2396, '찾기': 2397, '여름': 2398, '수많은': 2399, '구리': 2400, '아니야': 2401, '천': 2402, '같지만': 2403, '소중한': 2404, '였지만': 2405, '성하고': 2406, '탈': 2407, '재미없었다': 2408, '가정': 2409, '장국영': 2410, 'ㅁ': 2411, '재밌어서': 2412, '재능': 2413, 'I': 2414, '클레멘타인': 2415, '적이네요': 2416, '강한': 2417, '져': 2418, '배경음악': 2419, '여태': 2420, '싶어요': 2421, '어색하고': 2422, '이긴': 2423, '높아서': 2424, '싶지': 2425, '탄': 2426, '호구': 2427, '맞고': 2428, '린다': 2429, '이었던': 2430, '조카': 2431, '자고': 2432, '최대': 2433, '재미없어서': 2434, '하아': 2435, '요리': 2436, '.^^': 2437, '케빈': 2438, '당연히': 2439, '로코': 2440, '색': 2441, '성공': 2442, 'ㅋㅋㅋㅋㅋㅋㅋㅋ': 2443, '아니라고': 2444, '유일하게': 2445, '아프다': 2446, '낚시': 2447, '길게': 2448, '하시는': 2449, '..^^': 2450, '할말': 2451, '보다니': 2452, '지경': 2453, '남네요': 2454, '졸': 2455, '같네': 2456, '가능한': 2457, '대통령': 2458, '흥': 2459, '저리': 2460, '있어야': 2461, '보이지': 2462, '틴': 2463, '깍': 2464, '뭥미': 2465, '잡': 2466, '절정': 2467, '억지스러운': 2468, '로버트': 2469, '참나': 2470, '나왔다': 2471, '공간': 2472, '파괴': 2473, '앞뒤': 2474, '아냐': 2475, '플롯': 2476, '터미네이터': 2477, '했네요': 2478, '했다고': 2479, '대신': 2480, '해준다': 2481, '치곤': 2482, '없냐': 2483, '재밋음': 2484, '빵': 2485, '다섯': 2486, '매일': 2487, '사투리': 2488, '고등학교': 2489, '바탕': 2490, '~!!!': 2491, '습': 2492, '짧은': 2493, '부터가': 2494, '돼지': 2495, '제이슨': 2496, '따름': 2497, '임팩트': 2498, '된거': 2499, '없나요': 2500, '조니뎁': 2501, '졸리': 2502, '안감': 2503, '인지도': 2504, '적어도': 2505, '교과서': 2506, '먼가': 2507, '괜찮음': 2508, '들은': 2509, '어처구니': 2510, '일본인': 2511, '만약': 2512, '조화': 2513, '이소룡': 2514, '왔다': 2515, '어쩌': 2516, '모를': 2517, '또다른': 2518, '적당히': 2519, '웃': 2520, '유덕화': 2521, '꼬': 2522, '발상': 2523, '쓸': 2524, '심형래': 2525, '이어': 2526, '절': 2527, '과학': 2528, '배트맨': 2529, '잤다': 2530, '링': 2531, '중심': 2532, '사운드': 2533, '탈출': 2534, '그립다': 2535, '있다니': 2536, '있냐': 2537, '착각': 2538, '중학교': 2539, '귀엽다': 2540, '잡고': 2541, '하품': 2542, '캬': 2543, '너무도': 2544, '잠시': 2545, '뱀파이어': 2546, '일부러': 2547, '마냥': 2548, '화의': 2549, '남은': 2550, '쿡': 2551, '숨겨진': 2552, '논': 2553, '디워': 2554, '돋보이는': 2555, '예쁘다': 2556, '모르겠네요': 2557, '하도': 2558, '아니지': 2559, '불쌍하다': 2560, '인터넷': 2561, '봤지': 2562, '레': 2563, '베리': 2564, '이군': 2565, '단순히': 2566, '에게도': 2567, '알았음': 2568, '반대': 2569, '그야말로': 2570, '나은': 2571, '.........': 2572, '걱정': 2573, '울면': 2574, '없는게': 2575, '참신한': 2576, '♥♥♥': 2577, '센스': 2578, '아름답게': 2579, '영화제': 2580, '와서': 2581, '숨': 2582, '가득한': 2583, '상실': 2584, '좋아할': 2585, '몰랐다': 2586, '토록': 2587, '놀랍다': 2588, '이뻐서': 2589, '같았다': 2590, '여친': 2591, '나고': 2592, '동성애': 2593, '해리포터': 2594, '끌어': 2595, '메이드': 2596, '베드': 2597, '13': 2598, '현대': 2599, '있다고': 2600, '짜증나고': 2601, 'ㄴ': 2602, '만드': 2603, '쓸데없이': 2604, '나네요': 2605, '보는듯': 2606, 'ㅈ': 2607, '고딩': 2608, '주지': 2609, '정이': 2610, '앤': 2611, '떠나': 2612, '남겨': 2613, '도에': 2614, '@': 2615, '30년': 2616, '인내심': 2617, '가벼운': 2618, '재미나': 2619, '제니퍼': 2620, '그동안': 2621, '재밌다는': 2622, '컨셉': 2623, '능': 2624, '겉': 2625, '보았는데': 2626, '도움': 2627, '우뢰매': 2628, '버려': 2629, '단순': 2630, '실수': 2631, '웃으면서': 2632, '않은데': 2633, '떨어짐': 2634, '부작': 2635, '유일한': 2636, '보소': 2637, 'ㄷ': 2638, 'dvd': 2639, '나가는': 2640, '인형': 2641, '어디가': 2642, '될듯': 2643, '레이': 2644, 'ㅣ': 2645, '아깝네요': 2646, '이었는데': 2647, '꽃': 2648, '무서워': 2649, '연극': 2650, '응': 2651, '음식': 2652, '손색': 2653, '던': 2654, '않았지만': 2655, 'ㅉ': 2656, '좋다고': 2657, '나오는데': 2658, '무기': 2659, '궁금하다': 2660, '치고는': 2661, '//': 2662, '말투': 2663, '할만': 2664, '불쌍한': 2665, '난리': 2666, '선정': 2667, '류작': 2668, '멋지고': 2669, '에다': 2670, '거장': 2671, '여자애': 2672, '끼워': 2673, '천국': 2674, '인도': 2675, '다신': 2676, '보셈': 2677, '상어': 2678, '허허': 2679, '찍고': 2680, '의사': 2681, '주윤발': 2682, '애초': 2683, '잭': 2684, '성의': 2685, '당황': 2686, '해주고': 2687, '준비': 2688, '이전': 2689, '신은': 2690, '살린': 2691, '다리': 2692, '웬': 2693, '폴': 2694, '재미없': 2695, '평균': 2696, '끝난': 2697, '특별한': 2698, '싶어': 2699, '네티즌': 2700, '리얼리티': 2701, '무대': 2702, '괜찮고': 2703, '제임스': 2704, '--': 2705, '괜찮았다': 2706, '여자친구': 2707, '다르게': 2708, '슴': 2709, '야함': 2710, '아까워서': 2711, '박진': 2712, '계기': 2713, '의상': 2714, '임창정': 2715, '괜찮다': 2716, '재미없다고': 2717, '살인마': 2718, '논리': 2719, '분량': 2720, '운': 2721, '대결': 2722, '단체': 2723, '폭발': 2724, '만화책': 2725, '반드시': 2726, '블랙': 2727, '수입': 2728, '40': 2729, '박중훈': 2730, '하던데': 2731, '발음': 2732, '호기심': 2733, '궁금해서': 2734, '에이': 2735, '100%': 2736, '하지원': 2737, '했더니': 2738, '생각난다': 2739, '하이': 2740, '판단': 2741, '아무튼': 2742, '좋지': 2743, '감사': 2744, '죽고': 2745, '잖아': 2746, '유럽': 2747, '들어서': 2748, '기존': 2749, '겨울': 2750, '보는거': 2751, '화란': 2752, '홍상수': 2753, '어거지': 2754, '혐오': 2755, '의지': 2756, '컴퓨터': 2757, '괜찮았는데': 2758, '론': 2759, '따듯': 2760, '포': 2761, '어색': 2762, '무난': 2763, '하정우': 2764, '갔는데': 2765, '여인': 2766, '되나': 2767, '김치': 2768, '명대사': 2769, '키드': 2770, '스럽고': 2771, '보임': 2772, '첨부': 2773, '영화감독': 2774, '2014년': 2775, '살아가는': 2776, '민폐': 2777, '겁': 2778, '션': 2779, '과도': 2780, '빨갱이': 2781, '정보': 2782, '루즈': 2783, '무게': 2784, 'ㅏ': 2785, '..........': 2786, '아깝': 2787, '출신': 2788, '각색': 2789, '압도': 2790, '진수': 2791, '차원': 2792, '읽고': 2793, '체적': 2794, '끝내': 2795, '도무지': 2796, '강렬한': 2797, '남성': 2798, '자동차': 2799, '키스': 2800, '만들었을까': 2801, '배신': 2802, '흐르는': 2803, '보네요': 2804, '인류': 2805, '낮아': 2806, '불편한': 2807, '전투': 2808, '손가락': 2809, '시키지': 2810, '일반': 2811, '필': 2812, '비중': 2813, '지겹다': 2814, '및': 2815, '잔잔하게': 2816, '아놀드': 2817, '듭니': 2818, '니콜': 2819, '나레이션': 2820, '적은': 2821, '마음속': 2822, '등록': 2823, '개콘': 2824, '친': 2825, '많아': 2826, '길이': 2827, '신인': 2828, '때려': 2829, '뭐임': 2830, '동영상': 2831, '스포': 2832, '극복': 2833, '황당한': 2834, '에다가': 2835, '환경': 2836, '데뷔': 2837, '영원한': 2838, '죽이는': 2839, '했다면': 2840, '할수가': 2841, '대사도': 2842, '하러': 2843, '영향': 2844, '이니까': 2845, '개그맨': 2846, '였고': 2847, '화일': 2848, '누군지': 2849, '웰': 2850, '빠른': 2851, '드디어': 2852, '찬': 2853, '요새': 2854, '동심': 2855, '쓸데없는': 2856, '?...': 2857, '옴': 2858, '만도': 2859, '피해': 2860, 'ㅋㅋㅋㅋㅋㅋㅋㅋㅋ': 2861, '러시아': 2862, '생긴': 2863, '어쩌면': 2864, '역사상': 2865, '축구': 2866, '최소한': 2867, '윌리스': 2868, '게스트': 2869, '내일': 2870, '만들어서': 2871, '열자': 2872, '어렵다': 2873, '별하나': 2874, '끝나': 2875, '단점': 2876, '좋을듯': 2877, '울리는': 2878, '이병헌': 2879, '스티븐': 2880, '이를': 2881, '다세포': 2882, '.,': 2883, '리지': 2884, '범죄자': 2885, '극단': 2886, '고뇌': 2887, '거품': 2888, '듣기': 2889, '할거': 2890, '아치': 2891, '않아요': 2892, '재미있는데': 2893, '몽환': 2894, '재미있었음': 2895, '황당': 2896, '컷': 2897, '적절한': 2898, '마약': 2899, '탄탄하고': 2900, '최고봉': 2901, '부정': 2902, '강력': 2903, '알겠다': 2904, '할리우드': 2905, '와도': 2906, '코메디': 2907, '그렇지만': 2908, '무한': 2909, '죽어': 2910, '했어': 2911, '곧': 2912, 'ㅄ': 2913, '성적': 2914, '흡입': 2915, '놀라운': 2916, '사용': 2917, '빛나는': 2918, '하고는': 2919, '추': 2920, '한국판': 2921, 'of': 2922, '찾아서': 2923, '염': 2924, 'd': 2925, 'a': 2926, '소중함을': 2927, '경우': 2928, '즐겨': 2929, '파리': 2930, '인게': 2931, '잇': 2932, '온다': 2933, '때매': 2934, '실험': 2935, '평소': 2936, '정우성': 2937, '좋았을': 2938, '담아': 2939, '왜곡': 2940, '오프닝': 2941, '찾는': 2942, '싸우는': 2943, '좋아하지만': 2944, '빠져서': 2945, '버튼': 2946, '재미있었습니다': 2947, '왔습니다': 2948, '않았던': 2949, '샘': 2950, '봤고': 2951, '깡패': 2952, '도데': 2953, '보고있어요': 2954, '널': 2955, '끝나서': 2956, '나오네요': 2957, '리가': 2958, '송강호': 2959, '절망': 2960, '만들어라': 2961, '..!': 2962, '게뭐': 2963, '전하': 2964, '향수': 2965, '콩': 2966, '뻔했다': 2967, '담긴': 2968, '무리': 2969, '힘들': 2970, '글자': 2971, '쩔어': 2972, '중년': 2973, '공룡': 2974, '장점': 2975, '이해도': 2976, '쉽지': 2977, '놀랐다': 2978, '진지하게': 2979, '필요없음': 2980, '알았네': 2981, '슈퍼': 2982, '다르다': 2983, '최소': 2984, '명복': 2985, '서부': 2986, '흉내': 2987, '나간': 2988, '하자는': 2989, '왔는데': 2990, '여신': 2991, '`': 2992, '아닌것': 2993, '킬링': 2994, '라스트': 2995, '괜찮게': 2996, '만화영화': 2997, '판이': 2998, '군인': 2999, 'Good': 3000, '역량': 3001, '폭풍': 3002, '졸업': 3003, '치유': 3004, '배급사': 3005, '먹은': 3006, '깨알': 3007, '이구나': 3008, '범': 3009, '감도': 3010, '하길': 3011, 'T': 3012, '담은': 3013, '잊을수': 3014, '완벽': 3015, '유치해서': 3016, '느껴': 3017, '드니': 3018, '겉멋': 3019, '볼거': 3020, '독일': 3021, '매미': 3022, '우연': 3023, '할지': 3024, '씹': 3025, '왤케': 3026, '밖': 3027, '부인': 3028, '풋풋한': 3029, '미스': 3030, '우선': 3031, '1년': 3032, '잉': 3033, 'ㅎㄷㄷ': 3034, '왠만한': 3035, '버': 3036, '멋있는': 3037, '화장실': 3038, '하기도': 3039, '거지같은': 3040, '뭐라고': 3041, '극적': 3042, '지옥': 3043, '방해': 3044, '나루토': 3045, '액션씬': 3046, '보고있는데': 3047, '영화사': 3048, '파격': 3049, '라기': 3050, '내게': 3051, '앙': 3052, '보느니': 3053, '선생': 3054, '봤는지': 3055, '커': 3056, '에서만': 3057, '바닥': 3058, '정부': 3059, '재미있어': 3060, '돋는': 3061, '중딩': 3062, '캐릭': 3063, '아만다': 3064, '도시': 3065, '멋있고': 3066, '서도': 3067, '케이': 3068, '향연': 3069, '상대': 3070, '류승범': 3071, '멍': 3072, '진지한': 3073, '알려': 3074, '절대로': 3075, '보고싶은데': 3076, '모르지만': 3077, '한순간': 3078, '유지': 3079, '거짓': 3080, '낮네요': 3081, '처리': 3082, '절로': 3083, '했었는데': 3084, '직업': 3085, '없던': 3086, '싶어서': 3087, '존스': 3088, '서울': 3089, '쭉': 3090, '위트': 3091, '언젠가': 3092, '귀여워요': 3093, '비호감': 3094, 'you': 3095, '든지': 3096, '아프고': 3097, '부족함': 3098, '단편': 3099, '분장': 3100, '미도': 3101, '미녀': 3102, '동네': 3103, '중국영화': 3104, '생명': 3105, '만들었나': 3106, '어이없다': 3107, '에가': 3108, '1회': 3109, '아오이': 3110, '정상': 3111, '그대': 3112, '녀석': 3113, '한가지': 3114, '가히': 3115, '맡은': 3116, '하라': 3117, '했지': 3118, '괜찮았음': 3119, '뒤죽박죽': 3120, '만큼이나': 3121, '도중': 3122, '비행기': 3123, '아쉬워요': 3124, '별거': 3125, '땀': 3126, '매번': 3127, '됐는데': 3128, '2년': 3129, '속지': 3130, '좋았을텐데': 3131, '봤나': 3132, '년전': 3133, '유쾌하게': 3134, '넘어': 3135, '산만하고': 3136, '아쉽': 3137, '했': 3138, '무거운': 3139, '놀이': 3140, '뜬금없이': 3141, '찬양': 3142, '똑같이': 3143, '안해': 3144, '에서나': 3145, '이구만': 3146, '대에': 3147, '하는듯': 3148, '절제': 3149, '본것': 3150, '부로': 3151, '노인': 3152, '해보게': 3153, '하나님': 3154, 'ㅜㅠ': 3155, '부활': 3156, '소화': 3157, '만세': 3158, '재난': 3159, '낭만': 3160, '멋짐': 3161, '추합니다': 3162, '인듯': 3163, '알파': 3164, '좋겠습니다': 3165, '신하균': 3166, '좋네': 3167, '울었어요': 3168, '한심하다': 3169, '하려': 3170, '인걸': 3171, '순수하고': 3172, '정리': 3173, '강동원': 3174, '무재': 3175, '교회': 3176, '되었습니다': 3177, '순위': 3178, '있었으면': 3179, '명불허전': 3180, '소통': 3181, '광구': 3182, '배꼽': 3183, '높지': 3184, '엄청나게': 3185, '이별': 3186, '갖다': 3187, '줘도': 3188, '이안': 3189, '느끼고': 3190, '식이': 3191, '잊고': 3192, '년도': 3193, '많네': 3194, '드문': 3195, '괜찮네요': 3196, '본질': 3197, '가능성': 3198, '무간도': 3199, '지나': 3200, '★': 3201, '답답하다': 3202, '잔인함': 3203, '있었고': 3204, '들게': 3205, '쓰지': 3206, '세대': 3207, 'EBS': 3208, '공유': 3209, '일지': 3210, '예측': 3211, '원숭이': 3212, '나을듯': 3213, '일듯': 3214, '허무한': 3215, '의외': 3216, '오글거리는': 3217, '전성기': 3218, '권력': 3219, '짜증나게': 3220, '백인': 3221, '강간': 3222, '잊지못': 3223, '랑은': 3224, '대부': 3225, '쌍': 3226, '오글오글': 3227, '박보영': 3228, '구만': 3229, '회사': 3230, '다해': 3231, '고증': 3232, '2000년': 3233, '1등': 3234, '칭찬': 3235, '빠': 3236, '소개': 3237, '보고싶어요': 3238, '중학생': 3239, '된다는': 3240, '짬뽕': 3241, '받았다': 3242, '각자': 3243, '변신': 3244, '말씀': 3245, '추가': 3246, '어이없음': 3247, '명연기': 3248, '쟁이': 3249, '비록': 3250, '다는': 3251, '문득': 3252, '멋져요': 3253, '형식': 3254, 'ㅈㄴ': 3255, '망친': 3256, '솔': 3257, '부탁': 3258, '연습': 3259, '치노': 3260, '~~^^': 3261, '제작자': 3262, '역겨운': 3263, '15년': 3264, '찌질': 3265, '50': 3266, '모로': 3267, '닥': 3268, '수록': 3269, '싶었다': 3270, '몰라': 3271, '믿음': 3272, '낮은지': 3273, '진한': 3274, '석': 3275, '무어': 3276, '기획': 3277, '만든거': 3278, '부는': 3279, '광기': 3280, '90분': 3281, '어떻': 3282, '보나': 3283, '모른다': 3284, '엽기': 3285, '기대하지': 3286, '가나': 3287, '쯧쯧': 3288, '피아노': 3289, '타란티노': 3290, '줄수': 3291, '일주일': 3292, '선사': 3293, '두운': 3294, '로움': 3295, '되었는데': 3296, '본능': 3297, '준것': 3298, '아무나': 3299, '아마추어': 3300, '난무': 3301, '흔': 3302, '어울리지': 3303, '모르겠네': 3304, '장애인': 3305, '부산': 3306, '이기도': 3307, '과대': 3308, '나음': 3309, '이상해': 3310, '낼': 3311, '밀': 3312, '블랙코미디': 3313, '고인': 3314, '빕니다': 3315, '커버': 3316, '없는듯': 3317, '까지만': 3318, '섬세한': 3319, '잃은': 3320, '뎅': 3321, '시종일관': 3322, '스파이더맨': 3323, '반응': 3324, '합': 3325, '베일': 3326, '하면서도': 3327, '워낙': 3328, '스필버그': 3329, '권상우': 3330, '국어': 3331, '디카프리오': 3332, '하지도': 3333, '줬다': 3334, '징': 3335, '스타워즈': 3336, '보는것': 3337, '가야': 3338, '놀란': 3339, '선수': 3340, '나무': 3341, '보았던': 3342, '한지': 3343, '웃겨서': 3344, '속이': 3345, '미학': 3346, '어설프다': 3347, '만들수': 3348, '조선': 3349, '미스터리': 3350, '즐거움': 3351, '싸': 3352, '출연자': 3353, '상이': 3354, '도둑': 3355, '재밌었던': 3356, '멜로영화': 3357, '호불호': 3358, '사랑스럽고': 3359, '아이유': 3360, '않습니다': 3361, '싶습니다': 3362, '구로': 3363, '국': 3364, '낮': 3365, '상식': 3366, '나게': 3367, '보고나니': 3368, '낫겠다': 3369, '아니잖아': 3370, '싫어': 3371, '고문': 3372, '디테일': 3373, '답답': 3374, '찍는': 3375, '티나': 3376, '애정': 3377, '늦게': 3378, '아닌가요': 3379, '닥치고': 3380, '유치해': 3381, '최후': 3382, '?..': 3383, '아누': 3384, '민족': 3385, '하시길': 3386, '풀': 3387, '떡': 3388, '너희': 3389, '부터는': 3390, '구분': 3391, '유아': 3392, '살이': 3393, '느껴졌다': 3394, '남자배우': 3395, '뎀': 3396, '커서': 3397, '재미있었는데': 3398, '심사': 3399, '가까운': 3400, '역겹다': 3401, '오로지': 3402, '리암': 3403, '필요한가': 3404, '재미없네요': 3405, '혁명': 3406, '냈다': 3407, '반영': 3408, '슈퍼맨': 3409, '아니었다': 3410, '레옹': 3411, '찬사': 3412, '멋지게': 3413, '맞음': 3414, '설': 3415, '아닌거': 3416, '가라': 3417, '잼있네요': 3418, '특집': 3419, '연관': 3420, '감은': 3421, '개는': 3422, '본격': 3423, '우린': 3424, '케미': 3425, '할수있는': 3426, '페이크': 3427, '작화': 3428, '클': 3429, '산다': 3430, '빠지게': 3431, '연상': 3432, '외국인': 3433, '웃었다': 3434, '순수': 3435, '좋으나': 3436, '주세요': 3437, '살려': 3438, '명장': 3439, '다시금': 3440, '맞나': 3441, '웃기는': 3442, '뭐랄까': 3443, '홀로': 3444, '데이빗': 3445, '돋는다': 3446, '국산': 3447, '간지': 3448, '호흡': 3449, '행복하게': 3450, '40분': 3451, '차승원': 3452, '남친': 3453, '강아지': 3454, '신화': 3455, '마저도': 3456, '...^^': 3457, '되어서': 3458, '안타까': 3459, '트리': 3460, '고독': 3461, 's': 3462, '주고싶다': 3463, '무섭지': 3464, '쏘우': 3465, '맞추기': 3466, '진창': 3467, '공주': 3468, '상징': 3469, '나면': 3470, '돌': 3471, '적당한': 3472, '정점': 3473, '일반인': 3474, '능가': 3475, '만드냐': 3476, '초월': 3477, '객관': 3478, '화질': 3479, '리도': 3480, '무섭게': 3481, '너무하네': 3482, '로빈': 3483, '당장': 3484, '한석규': 3485, '섬': 3486, '다른사람': 3487, '있으나': 3488, '사랑스럽다': 3489, '싫은': 3490, '봤다는': 3491, '올레': 3492, '끝남': 3493, '없어도': 3494, '덩어리': 3495, '성과': 3496, '심하다': 3497, '가게': 3498, '허나': 3499, '안되': 3500, '엄정화': 3501, '깔끔한': 3502, '업': 3503, '보고싶네요': 3504, '대단': 3505, '마찬가지': 3506, '시키고': 3507, '적당': 3508, '실': 3509, '믿을': 3510, '니콜라스': 3511, '짜집기': 3512, '머냐': 3513, '쓰는데': 3514, '스릴러물': 3515, '비쥬': 3516, '클래식': 3517, '만들었냐': 3518, '4.44': 3519, '가짜': 3520, '독특하고': 3521, '남는게': 3522, '가까이': 3523, '나왔음': 3524, '아바타': 3525, '킬러': 3526, '스포츠': 3527, '버리지': 3528, 'ㅂ': 3529, '하신': 3530, '않았음': 3531, '할것': 3532, '수면제': 3533, '스텝': 3534, '아우': 3535, '화중': 3536, '해지': 3537, '하는것도': 3538, '...........': 3539, '아담': 3540, '되길': 3541, '안되네': 3542, '행': 3543, '대는': 3544, '뭣': 3545, '보려': 3546, '미스캐스팅': 3547, 'ㅜㅜㅜ': 3548, '거임': 3549, '장진': 3550, '잡는': 3551, '포드': 3552, '빠순이': 3553, '찍어': 3554, '시체': 3555, '된게': 3556, '원조': 3557, '하지마': 3558, '인권': 3559, '클라라': 3560, '메이': 3561, '첨으로': 3562, '이었고': 3563, '이러지': 3564, '아깝습니다': 3565, '봤어': 3566, '꿀': 3567, '위주': 3568, '없었는데': 3569, '눈치': 3570, '고등학생': 3571, '택시': 3572, '떄': 3573, '포함': 3574, '미안하다': 3575, '깜놀': 3576, '아쉬울': 3577, '터짐': 3578, '느껴지지': 3579, '영구': 3580, '흑백': 3581, '이상하다': 3582, '김희선': 3583, '미달': 3584, '우드': 3585, '조잡한': 3586, '믿기지': 3587, '사람과': 3588, 'ㅋㅋㅋㅋㅋㅋㅋㅋㅋㅋ': 3589, '충분한': 3590, '드네': 3591, '역작': 3592, '장소': 3593, '전문': 3594, '이드': 3595, '->': 3596, '슨': 3597, '볼라': 3598, '하지말고': 3599, 'bb': 3600, '허무': 3601, '~~!!': 3602, '다이하드': 3603, '지식': 3604, '인식': 3605, '나로': 3606, '리기': 3607, '혼란': 3608, '나올까': 3609, '!!!!!!': 3610, '기전': 3611, '에바': 3612, '인연': 3613, '벨': 3614, '않네': 3615, '사과': 3616, '천사': 3617, '납득': 3618, '해줘서': 3619, '있겠지만': 3620, '동감': 3621, '멋져': 3622, '싫어하는': 3623, '미스테리': 3624, 'is': 3625, '김수현': 3626, '당하는': 3627, '다니는': 3628, '잇어요': 3629, '돌아': 3630, '일부': 3631, '...!': 3632, '오직': 3633, '왕조현': 3634, '지지': 3635, '난해한': 3636, '였지': 3637, '맞다': 3638, '아니라면': 3639, 'bad': 3640, '망할': 3641, '돌아보게': 3642, '검사': 3643, '하기에는': 3644, '맙시': 3645, '관리': 3646, '들지': 3647, '태국': 3648, '망치': 3649, '넘치고': 3650, '온갖': 3651, '세계관': 3652, '데이': 3653, '당할': 3654, '주가': 3655, '웃겼다': 3656, '주인': 3657, '힘들었다': 3658, '놓은': 3659, '구조': 3660, '보는줄': 3661, '짱짱맨': 3662, '모욕': 3663, '시험': 3664, '스펙': 3665, '목사': 3666, '마누라': 3667, '세트': 3668, '공연': 3669, '껐다': 3670, '로맨틱코미디': 3671, '아까워요': 3672, '한동안': 3673, '농담': 3674, '한효주': 3675, '재앙': 3676, '테이큰': 3677, '외면': 3678, '유치원': 3679, '터지는': 3680, '싸이코패스': 3681, '되어야': 3682, '잇다': 3683, '.\"': 3684, '뉴스': 3685, '픽사': 3686, '뜨': 3687, '질문': 3688, '해본': 3689, '찍': 3690, '있는듯': 3691, '않아도': 3692, '청년': 3693, '뻔하다': 3694, '같다는': 3695, '떡밥': 3696, '될것': 3697, '좋아하네요': 3698, '기발한': 3699, '옥': 3700, '우는': 3701, '하기가': 3702, '소름끼치는': 3703, '볼까': 3704, '섹시': 3705, '좋더라': 3706, '머릿속': 3707, '만들었으면': 3708, '승부': 3709, '납니다': 3710, 'ㅋㅋㅋㅋㅋㅋㅋㅋㅋㅋㅋ': 3711, '파워': 3712, '난후': 3713, '넹': 3714, '알바생': 3715, '폼': 3716, '마블': 3717, '거듭': 3718, '음향': 3719, '스러': 3720, '했다가': 3721, '만난': 3722, '기억나는': 3723, '어째': 3724, '마을': 3725, '시골': 3726, '있었음': 3727, '-_-;;': 3728, '소품': 3729, '어쨌든': 3730, '조지': 3731, '주위': 3732, '어차피': 3733, '억지스럽고': 3734, '예고': 3735, '3시간': 3736, '뻔함': 3737, '바란다': 3738, '애니매이션': 3739, '참여': 3740, '저희': 3741, '성형': 3742, '어울림': 3743, '볼것': 3744, '였어': 3745, '엔딩크레딧': 3746, '로운': 3747, '롱': 3748, '에로물': 3749, '김혜수': 3750, '해놓고': 3751, '안될': 3752, '하는구나': 3753, '타인': 3754, '톤': 3755, '만들었네': 3756, '렉': 3757, '만화가': 3758, '^-^': 3759, '껴': 3760, '편하게': 3761, '차별': 3762, '있는가': 3763, '완벽하게': 3764, '학살': 3765, '스콧': 3766, '아련한': 3767, '장애': 3768, '상큼': 3769, '살리지': 3770, '불쌍해': 3771, '닷': 3772, '러셀': 3773, '종': 3774, '좋아하시는': 3775, '최민수': 3776, '누님': 3777, '하시고': 3778, '애인': 3779, '짱구': 3780, '미치는': 3781, '색채': 3782, '재방송': 3783, '라스': 3784, '강요': 3785, '나오나': 3786, '대역': 3787, '싶다면': 3788, '슬프네요': 3789, '신부': 3790, '유혹': 3791, '두고두고': 3792, '기사': 3793, '살때': 3794, '여지': 3795, '완벽하다': 3796, '느낀다': 3797, '반감': 3798, '헉': 3799, '층': 3800, '높은지': 3801, '복선': 3802, '볼줄': 3803, '전라도': 3804, '사이코': 3805, '지극히': 3806, '구석': 3807, '삶은': 3808, '어설프게': 3809, '대학': 3810, '환자': 3811, '된다고': 3812, '더욱더': 3813, '빠져들게': 3814, '동양': 3815, '입고': 3816, '끈': 3817, '하는가': 3818, '이럼': 3819, '많음': 3820, '뛰어넘는': 3821, '박찬욱': 3822, '부를': 3823, '제시카': 3824, '재치': 3825, '해야하나': 3826, '흘러가는': 3827, '자랑': 3828, '살아있는': 3829, '않으면': 3830, '향기': 3831, '광': 3832, '영활': 3833, '콜린': 3834, '..!!': 3835, '원주율': 3836, '되냐': 3837, '였으면': 3838, '절반': 3839, '홧팅': 3840, '잼있는': 3841, '곤': 3842, '둔': 3843, '기억난다': 3844, '하고도': 3845, '하더라': 3846, '아깝다는': 3847, '싶음': 3848, '설경구': 3849, '잔인하고': 3850, '시장': 3851, '슬퍼': 3852, '세련된': 3853, '나왔던': 3854, '남고': 3855, '치료': 3856, '원하는': 3857, '될수': 3858, '들의': 3859, '송승헌': 3860, '재미없었음': 3861, '오해': 3862, '러브스토리': 3863, '손예진': 3864, '!~': 3865, '그런거': 3866, '추격': 3867, '내는': 3868, '아니네요': 3869, '멀리': 3870, '차태현': 3871, '걸린': 3872, '먹기': 3873, '높네': 3874, '지루했음': 3875, '숨은': 3876, '예수': 3877, '자본': 3878, '이상함': 3879, '피디': 3880, '대상': 3881, '깨달음': 3882, '색깔': 3883, '새삼': 3884, '꼽': 3885, '잇고': 3886, '가네': 3887, '모독': 3888, '전지현': 3889, '람보': 3890, '들아': 3891, '답답해': 3892, '주온': 3893, '억지스런': 3894, '로드': 3895, '부담': 3896, '웃다가': 3897, '싶었던': 3898, '...(': 3899, '진영화': 3900, '백배': 3901, '힙합': 3902, '하고싶은': 3903, '크리스찬': 3904, '고작': 3905, '황정민': 3906, 'ㅓ': 3907, '살렸다': 3908, '신세계': 3909, '가식': 3910, '레이첼': 3911, '찌': 3912, '안되서': 3913, '정화': 3914, '있어도': 3915, '의해': 3916, '정선': 3917, '평화': 3918, '버릴': 3919, '재방': 3920, '없으니': 3921, '회상': 3922, '박평': 3923, '봐야겠다': 3924, '군더더기': 3925, '사무라이': 3926, '젊은이': 3927, '이정재': 3928, '피식': 3929, '재밋네': 3930, '갖춘': 3931, '없구': 3932, '오지': 3933, '할려고': 3934, '신비': 3935, '대학생': 3936, '60년': 3937, '주원': 3938, '하더니': 3939, '가관': 3940, '대하': 3941, '클라스': 3942, '엑스맨': 3943, '5년': 3944, '언어': 3945, '낀': 3946, '웬만하면': 3947, '크레딧': 3948, '웃긴다': 3949, '통쾌한': 3950, '매주': 3951, '에드': 3952, '건데': 3953, '잼나요': 3954, '번역': 3955, '김구라': 3956, '만든것': 3957, '재밌었습니다': 3958, '마시고': 3959, '우롱': 3960, '구혜선': 3961, '맞게': 3962, '의견': 3963, '왕자': 3964, '출현': 3965, '토니': 3966, '까는': 3967, '하던가': 3968, '디테': 3969, '주관': 3970, '납치': 3971, '혹': 3972, '개똥': 3973, '외로움': 3974, '밋밋한': 3975, '하고싶다': 3976, '겨울왕국': 3977, '킹': 3978, '재미있어서': 3979, '신도': 3980, '오랫동안': 3981, '수십': 3982, '하기에': 3983, '오그라드는': 3984, '왕가위': 3985, '완젼': 3986, '고어': 3987, '유행': 3988, '성유리': 3989, '*': 3990, '압': 3991, '투성이': 3992, '깊다': 3993, '댄스': 3994, '방황': 3995, '집안': 3996, '고맙습니다': 3997, '중후': 3998, '고해': 3999}\n",
            "{0: '[PAD]', 1: '[UNK]', 2: '.', 3: '이', 4: '영화', 5: '의', 6: '..', 7: '가', 8: '에', 9: '을', 10: '...', 11: '도', 12: '들', 13: ',', 14: '는', 15: '를', 16: '은', 17: '너무', 18: '?', 19: '한', 20: '다', 21: '정말', 22: '적', 23: '만', 24: '진짜', 25: '!', 26: '점', 27: '으로', 28: '로', 29: '에서', 30: '연기', 31: '과', 32: '평점', 33: '것', 34: '최고', 35: '~', 36: '내', 37: '나', 38: '그', 39: '잘', 40: '와', 41: '인', 42: '안', 43: '이런', 44: '생각', 45: '스토리', 46: '못', 47: '왜', 48: '....', 49: '게', 50: '드라마', 51: '이다', 52: '감동', 53: '사람', 54: '1', 55: '하는', 56: '보고', 57: '하고', 58: '말', 59: '고', 60: '더', 61: '때', 62: '아', 63: 'ㅋㅋ', 64: '배우', 65: '감독', 66: '거', 67: '그냥', 68: '요', 69: '본', 70: '내용', 71: '재미', 72: '중', 73: '까지', 74: '뭐', 75: '!!', 76: '좀', 77: '보다', 78: '없는', 79: '쓰레기', 80: '시간', 81: '수', 82: '지', 83: '네', 84: '봤는데', 85: '사랑', 86: '작품', 87: '10', 88: '볼', 89: '할', 90: '없다', 91: '다시', 92: '하나', 93: '마지막', 94: '이건', 95: 'ㅋ', 96: '좋은', 97: '저', 98: '같은', 99: '정도', 100: '2', 101: '입니다', 102: '완전', 103: '있는', 104: 'ㅋㅋㅋ', 105: '처음', 106: '장면', 107: '주인공', 108: '액션', 109: '대', 110: '이렇게', 111: 'ㅠㅠ', 112: '걸', 113: '보는', 114: '최악', 115: '개', 116: '지금', 117: '3', 118: \"'\", 119: '이야기', 120: '돈', 121: '하', 122: '임', 123: '별로', 124: '참', 125: '봐도', 126: '연출', 127: '느낌', 128: '없고', 129: '끝', 130: '라', 131: '듯', 132: '명작', 133: '인데', 134: '별', 135: '역시', 136: '그리고', 137: '기', 138: '서', 139: '난', 140: '많이', 141: '재밌게', 142: '이해', 143: '^^', 144: 'ㅡㅡ', 145: '라고', 146: '면', 147: '!!!', 148: '이영화', 149: '보면', 150: '때문', 151: '또', 152: '여자', 153: '이나', 154: '부터', 155: '성', 156: '전', 157: '해서', 158: '꼭', 159: '아깝다', 160: '두', 161: '된', 162: '보기', 163: '편', 164: '에게', 165: '이고', 166: '짱', 167: '여', 168: '무슨', 169: '기억', 170: '일', 171: '인생', 172: '엔', 173: '같다', 174: '결말', 175: '야', 176: '마음', 177: '랑', 178: 'ㅎㅎ', 179: '애', 180: 'ㅠ', 181: '소재', 182: '수준', 183: '님', 184: '넘', 185: '~~', 186: '영', 187: '없이', 188: '한다', 189: '현실', 190: '제', 191: '한번', 192: '해', 193: '속', 194: '반전', 195: '씨', 196: '함', 197: ';;', 198: '매력', 199: '라는', 200: '??', 201: '전개', 202: '급', 203: '가슴', 204: '남자', 205: '한국', 206: '가장', 207: '하게', 208: '하지만', 209: '되는', 210: '뿐', 211: '알', 212: '아이', 213: '음악', 214: '다른', 215: '니', 216: '만든', 217: '인간', 218: '냐', 219: '줄', 220: '우리', 221: '추천', 222: '원작', 223: '번', 224: '눈물', 225: '봤다', 226: '모든', 227: '않고', 228: '화', 229: '자체', 230: '합니다', 231: '인지', 232: '하지', 233: '지만', 234: '눈', 235: '\"', 236: '인가', 237: '캐릭터', 238: '코미디', 239: '좋다', 240: '모두', 241: '솔직히', 242: '처럼', 243: '대한', 244: 'ㅋㅋㅋㅋ', 245: '뭔가', 246: '대박', 247: '했다', 248: '연기력', 249: '그래도', 250: '이상', 251: '있다', 252: '모습', 253: '움', 254: '전혀', 255: '여운', 256: '굿', 257: '기대', 258: '개봉', 259: '이네', 260: '시리즈', 261: '중간', 262: '공감', 263: '표현', 264: '일본', 265: '계속', 266: '근데', 267: '아주', 268: '자', 269: '부분', 270: '에는', 271: '허', 272: '분', 273: '영상', 274: '(', 275: '이라', 276: ';', 277: '실망', 278: '그런', 279: ')', 280: '제목', 281: '이랑', 282: '하면', 283: '재밌다', 284: 'OO', 285: '가족', 286: '진심', 287: 'ㅎ', 288: '작', 289: '내내', 290: '보지', 291: '-', 292: '많은', 293: '없음', 294: '였다', 295: '뭔', 296: '이제', 297: '후', 298: '기분', 299: '어떻게', 300: '나오는', 301: '건지', 302: '재미있게', 303: '몰입', 304: 'ㅜㅜ', 305: '봐', 306: '했는데', 307: ',,', 308: '봤습니다', 309: '밖에', 310: '재미없다', 311: '아니다', 312: '작가', 313: '4', 314: '감', 315: '건', 316: '공포', 317: '아니라', 318: '아니고', 319: '요즘', 320: '보면서', 321: '이라는', 322: '용', 323: '위', 324: '점도', 325: '않은', 326: '대사', 327: '잼', 328: '긴장감', 329: '아닌', 330: '스릴러', 331: '애니', 332: '하다', 333: '조금', 334: '개인', 335: '극장', 336: '않는', 337: '특히', 338: '삶', 339: '이유', 340: '노래', 341: '욕', 342: '보다가', 343: '0', 344: 'ㅡ', 345: '아까운', 346: '딱', 347: '한테', 348: '노잼', 349: '알바', 350: '좋고', 351: '시작', 352: '나름', 353: '놈', 354: '연', 355: '제대로', 356: '오랜', 357: '이란', 358: '아름다운', 359: '점수', 360: '재밌어요', 361: '차라리', 362: '이지', 363: '시', 364: '.....', 365: '친구', 366: '막장', 367: '에도', 368: '제일', 369: '의미', 370: '당시', 371: '영화로', 372: '보게', 373: '만드는', 374: '극', 375: '명', 376: '보세요', 377: '력', 378: '몇', 379: '해도', 380: '같이', 381: '세상', 382: '있고', 383: '뻔한', 384: '봤어요', 385: '식', 386: '절대', 387: '류', 388: '공포영화', 389: '아직도', 390: '이라고', 391: '싶다', 392: '위해', 393: '오', 394: '♥', 395: '웃음', 396: '봄', 397: '무엇', 398: '도대체', 399: '보니', 400: '앞', 401: '미국', 402: '아무', 403: '우리나라', 404: '너', 405: '7', 406: '나도', 407: '설정', 408: '데', 409: '뭘', 410: '걍', 411: '마다', 412: '좋아하는', 413: '물', 414: '엄청', 415: '어', 416: '주고', 417: '5', 418: '출연', 419: '수작', 420: '초반', 421: '된다', 422: '남', 423: '시나리오', 424: '사실', 425: '보는내내', 426: '좋았다', 427: '한국영', 428: 'OOO', 429: '장난', 430: '준다', 431: '시대', 432: '분위기', 433: '관객', 434: '추억', 435: '이야', 436: '남는', 437: '세', 438: '안되는', 439: '주는', 440: '가지', 441: '지루함', 442: '든', 443: '살', 444: '좋아요', 445: '같아요', 446: '최고다', 447: '졸작', 448: '결국', 449: '자신', 450: '지루하고', 451: '이딴', 452: '봤던', 453: '팬', 454: '반', 455: '준', 456: '소리', 457: '제발', 458: '감정', 459: '인상', 460: '영화관', 461: '접', 462: '정신', 463: '구', 464: '엄마', 465: '~~~', 466: '오늘', 467: '더빙', 468: '엔딩', 469: '주', 470: '이지만', 471: '라면', 472: '니까', 473: '문제', 474: '재밌음', 475: '아무리', 476: '신', 477: '포스터', 478: '될', 479: '어떤', 480: '코믹', 481: '8', 482: '평가', 483: '멋진', 484: '대해', 485: '캐스팅', 486: '그저', 487: '함께', 488: '음', 489: '어릴', 490: '엉', 491: '얼마나', 492: '애니메이션', 493: '뒤', 494: '그렇게', 495: '봐서', 496: '킬링타임', 497: '!!!!', 498: '강추', 499: '배경', 500: '개연', 501: '괜찮은', 502: '했던', 503: '티비', 504: '스릴', 505: '충격', 506: '갈수록', 507: '첨', 508: '전쟁', 509: '아니', 510: '얘기', 511: '몰입도', 512: '이름', 513: '옛날', 514: '질', 515: '맘', 516: '싶은', 517: '큰', 518: '구성', 519: '까', 520: '같은데', 521: '얼굴', 522: '머리', 523: '예술', 524: '머', 525: 'ㅜ', 526: '만화', 527: '하면서', 528: '조', 529: '건가', 530: '울', 531: '보단', 532: '후회', 533: '기도', 534: '영화인', 535: '지루한', 536: '책', 537: '집', 538: '나온', 539: '장르', 540: '재밌는', 541: '않는다', 542: '모르겠다', 543: '웃기', 544: '후반', 545: '이후', 546: '그래서', 547: '9', 548: '간', 549: '매우', 550: '너무나', 551: '총', 552: '집중', 553: '어디', 554: '주연', 555: '다큐', 556: '비', 557: '봐라', 558: '만들어', 559: '하는데', 560: '상황', 561: '+', 562: '역사', 563: '날', 564: '꽤', 565: ',,,', 566: '원', 567: '여기', 568: '지루하다', 569: '진', 570: '아직', 571: '???', 572: '억지', 573: '누구', 574: '재미없음', 575: '글', 576: '짜증', 577: '다운', 578: '그것', 579: '걸작', 580: '시즌', 581: '존나', 582: '소름', 583: '보는데', 584: '분들', 585: '상', 586: '언제', 587: '이리', 588: '했지만', 589: '씬', 590: '먹', 591: '마세요', 592: '어느', 593: '등', 594: 'B', 595: '약간', 596: '실화', 597: '한마디', 598: '않다', 599: '그나마', 600: '인물', 601: '자기', 602: '본다', 603: '아님', 604: '훨씬', 605: '예전', 606: '~!', 607: '대체', 608: '누가', 609: '6', 610: '시절', 611: '방송', 612: '동안', 613: '부', 614: '봤음', 615: '봤지만', 616: '할수', 617: '그대로', 618: '비교', 619: '이었다', 620: '아들', 621: '만점', 622: '휴', 623: '초딩', 624: '발연기', 625: '비디오', 626: '없어', 627: '됨', 628: '보', 629: '없네', 630: '네이버', 631: '판', 632: '사회', 633: '하기', 634: '다음', 635: '로맨스', 636: '재밌고', 637: '꿈', 638: '아까', 639: '전체', 640: '간만', 641: '감성', 642: 'CG', 643: '나와서', 644: '소설', 645: '같음', 646: '라도', 647: '없었다', 648: '혼자', 649: '코', 650: 'ㅉㅉ', 651: '편이', 652: '여배우', 653: '나이', 654: '해야', 655: '나라', 656: '바로', 657: '죠', 658: '였습니다', 659: '여주', 660: ';;;', 661: '성룡', 662: '주제', 663: '재', 664: '보다는', 665: '좋은데', 666: '없어서', 667: '에요', 668: '재미있어요', 669: '어렸을', 670: '굳', 671: '목소리', 672: '빨리', 673: '삼류', 674: '힘', 675: '가는', 676: '하네요', 677: '열', 678: '이라도', 679: '교훈', 680: '당신', 681: '년', 682: '어설픈', 683: '만큼', 684: '죽', 685: '낭비', 686: '순간', 687: '그만', 688: '미친', 689: '안보', 690: '장', 691: '아쉽다', 692: '존재', 693: '쯤', 694: '낸', 695: '재밋', 696: '거의', 697: '질질', 698: '몇번', 699: '상당히', 700: '짜리', 701: '진정한', 702: '좋아', 703: '......', 704: '/', 705: '점주', 706: '잔잔한', 707: '좀비', 708: '는데', 709: '아버지', 710: '있지만', 711: '보여주는', 712: '재미있다', 713: '맛', 714: '말고', 715: '실제', 716: '줄거리', 717: '판타지', 718: '만하', 719: '쳐', 720: '어른', 721: '평론가', 722: '전부', 723: '답', 724: '재밌네요', 725: '각본', 726: '모', 727: '되고', 728: '라니', 729: '에선', 730: '시청률', 731: '히', 732: '바', 733: '소', 734: '상영', 735: '발', 736: '란', 737: '같네요', 738: '그러나', 739: '이번', 740: 'ㅎㅎㅎ', 741: '저런', 742: '굉장히', 743: '난다', 744: '되어', 745: '믿고', 746: '으로도', 747: '피', 748: '이하', 749: '의도', 750: '버린', 751: '가치', 752: '갑자기', 753: '하며', 754: '사', 755: '제작', 756: '극장판', 757: '딸', 758: '곳', 759: '단', 760: '10년', 761: '간다', 762: 'TV', 763: '선', 764: '필요', 765: '중국', 766: '화면', 767: '하네', 768: '세계', 769: '땜', 770: '그런지', 771: '당', 772: '첫', 773: '있어', 774: '그녀', 775: '한편', 776: '어린', 777: '그때', 778: '둘', 779: '볼때', 780: '대로', 781: '밑', 782: '나온다', 783: '형', 784: '해주는', 785: '항상', 786: '요소', 787: '에서도', 788: '평', 789: '있을까', 790: '봤네요', 791: '터', 792: '있어서', 793: '있는데', 794: '비해', 795: '선택', 796: '재미있는', 797: '올', 798: '되지', 799: '복수', 800: '라서', 801: '좋음', 802: '뻔', 803: '막', 804: '좋네요', 805: '훌륭한', 806: '흥행', 807: '성우', 808: '슬픈', 809: '스타일', 810: '온', 811: '치고', 812: '에서는', 813: '거기', 814: '햇', 815: '참고', 816: '똥', 817: '여러', 818: '봐야', 819: '일단', 820: '이냐', 821: '멜로', 822: '없네요', 823: '이에요', 824: '인거', 825: '점점', 826: '모르고', 827: '어디서', 828: '또한', 829: '아빠', 830: '역', 831: '더럽게', 832: '역대', 833: '관람', 834: '더욱', 835: '어이', 836: '였음', 837: '초', 838: 'tv', 839: '새', 840: 'ㅠㅠㅠ', 841: '거지', 842: '상미', 843: '개그', 844: '물론', 845: '사건', 846: '수가', 847: 'ㅋㅋㅋㅋㅋ', 848: '충분히', 849: '낫다', 850: '래', 851: '완성', 852: '깊은', 853: '진행', 854: '짓', 855: '술', 856: '재미없는', 857: '보는게', 858: '군', 859: '병맛', 860: '편집', 861: '화이팅', 862: '에겐', 863: '여서', 864: '했음', 865: '씩', 866: '해준', 867: '엉망', 868: '무', 869: '좋겠다', 870: '현', 871: '잠', 872: '어쩔', 873: '키', 874: '알았는데', 875: '프랑스', 876: '꿀잼', 877: '전형', 878: '아까워', 879: '새로운', 880: '따뜻한', 881: '나오고', 882: '리', 883: '화보', 884: '귀', 885: '그게', 886: '드', 887: '~!!', 888: '중반', 889: '원래', 890: '있음', 891: '미화', 892: '몸', 893: '암', 894: '감상', 895: '하는게', 896: '나옴', 897: '죽음', 898: '아닌가', 899: '관', 900: '그래픽', 901: '대단한', 902: '예상', 903: '였어요', 904: '배', 905: '손', 906: '안된다', 907: '-_-', 908: '있게', 909: '만에', 910: '새끼', 911: 'good', 912: '20', 913: '티', 914: '척', 915: '학교', 916: '불륜', 917: '나올', 918: '알았다', 919: '취향', 920: '흥미', 921: '댓글', 922: '일이', 923: '액션영화', 924: '좋았어요', 925: '재밌는데', 926: '연기자', 927: '노력', 928: '예고편', 929: '가서', 930: '같아', 931: '흥미진진', 932: '헐', 933: '잘만', 934: '자극', 935: '따', 936: '과거', 937: '한다는', 938: '만이', 939: '엄청난', 940: '상상', 941: '이라니', 942: '자꾸', 943: '화가', 944: '바보', 945: '괜히', 946: 'ㄷㄷ', 947: '미', 948: '게임', 949: '나쁜', 950: '마무리', 951: '설명', 952: '만으로도', 953: '거리', 954: '무조건', 955: '천재', 956: '속편', 957: '대한민국', 958: '도저히', 959: '억', 960: '않음', 961: '전달', 962: '같습니다', 963: '야할', 964: '오히려', 965: ':', 966: '예', 967: '심리', 968: '결혼', 969: '기대하고', 970: '그림', 971: '땐', 972: '재밌었다', 973: '보이', 974: '유치', 975: '스타', 976: '이래', 977: '하는지', 978: 'ost', 979: '흠', 980: '아저씨', 981: '타', 982: '전편', 983: '♡', 984: '억지로', 985: '우연히', 986: '대작', 987: '법', 988: '완벽한', 989: '드는', 990: '영환', 991: '젠', 992: '안됨', 993: '양', 994: '표정', 995: '조차', 996: '짐', 997: '봤을', 998: '귀신', 999: '맨', 1000: '스러운', 1001: '며', 1002: '하하', 1003: '회', 1004: '높은', 1005: 'SF', 1006: '오빠', 1007: '환상', 1008: '최근', 1009: '되', 1010: '있을', 1011: '재미없고', 1012: '느끼게', 1013: '일까', 1014: '지루', 1015: '길', 1016: '타임', 1017: '다가', 1018: '메세지', 1019: '오래', 1020: '촬영', 1021: '재미있고', 1022: '전설', 1023: '주의', 1024: '90년', 1025: '노', 1026: '꺼', 1027: '동', 1028: '산', 1029: '관계', 1030: '재미없어', 1031: '무비', 1032: '순', 1033: '경찰', 1034: '그닥', 1035: '먼저', 1036: '있었다', 1037: '현재', 1038: '놔', 1039: '행동', 1040: '공', 1041: '쓴', 1042: '입', 1043: '동화', 1044: '했으면', 1045: '하는거', 1046: '2시간', 1047: '마', 1048: '소녀', 1049: '프로그램', 1050: '전작', 1051: '그렇고', 1052: '묘사', 1053: '예요', 1054: '유머', 1055: '만의', 1056: '100', 1057: '엇', 1058: '아니면', 1059: '짜', 1060: '관심', 1061: 'ㅇ', 1062: '살다', 1063: '조연', 1064: '힘든', 1065: '통해', 1066: '아쉬움', 1067: '영웅', 1068: '이미', 1069: '비슷한', 1070: '노출', 1071: '서로', 1072: '망작', 1073: '>', 1074: '먹고', 1075: '아쉬운', 1076: '지루하지', 1077: '따라', 1078: '볼수', 1079: '그런데', 1080: '정', 1081: '등장', 1082: '존', 1083: '다행', 1084: '프로', 1085: '모르는', 1086: '나중', 1087: '살인', 1088: '역할', 1089: '리메이크', 1090: '유치하고', 1091: '예산', 1092: '맞는', 1093: '으', 1094: '재밌었어요', 1095: '바람', 1096: '해요', 1097: '외', 1098: '봣', 1099: '마치', 1100: '되었다', 1101: '긴', 1102: '졸라', 1103: '강', 1104: '좋았습니다', 1105: '제작비', 1106: 'D', 1107: '이며', 1108: '좋았음', 1109: '채널', 1110: '안되고', 1111: '보고싶다', 1112: '유치한', 1113: '이상한', 1114: '화려한', 1115: '받아', 1116: '보고나서', 1117: '반개', 1118: '효과', 1119: '80년', 1120: '없을', 1121: '만들', 1122: '아닐까', 1123: '특유', 1124: '안나', 1125: '가끔', 1126: '과정', 1127: '.......', 1128: '지루해', 1129: '철학', 1130: '좋았고', 1131: '인정', 1132: '보시길', 1133: '아니지만', 1134: '왕', 1135: '감사합니다', 1136: '깊이', 1137: '하냐', 1138: '않았다', 1139: '생', 1140: '보이는', 1141: '청춘', 1142: '미래', 1143: '이런거', 1144: '같아서', 1145: '느낄', 1146: '너무나도', 1147: '진부한', 1148: 'cg', 1149: '낚', 1150: '범인', 1151: '케이블', 1152: '형님', 1153: '만들지', 1154: '희망', 1155: '나왔으면', 1156: '싫다', 1157: '런가', 1158: '만들었다', 1159: '아닌데', 1160: '다만', 1161: '필요없다', 1162: '체', 1163: '사이', 1164: '였는데', 1165: '슬프다', 1166: '봤으면', 1167: '능력', 1168: '그리', 1169: 'OST', 1170: '있나', 1171: '비추', 1172: '엿', 1173: '이런게', 1174: '차', 1175: '께', 1176: '왠지', 1177: '스케일', 1178: '기세', 1179: '카메라', 1180: '군대', 1181: '메디', 1182: '재미있음', 1183: 'ㅅㅂ', 1184: '이면', 1185: '생애', 1186: '낮은', 1187: '되게', 1188: '계', 1189: '용도', 1190: '지난', 1191: '재밌어', 1192: '대안', 1193: '상상력', 1194: '다소', 1195: '빼고', 1196: '로는', 1197: '독립영화', 1198: '고생', 1199: '깊게', 1200: '대단하다', 1201: '든다', 1202: '끝나고', 1203: '나를', 1204: '좋았는데', 1205: '잘못', 1206: '미소', 1207: '리얼', 1208: '않게', 1209: '얼', 1210: '없나', 1211: '않아', 1212: '평생', 1213: '자막', 1214: '없지만', 1215: '필요없는', 1216: '버렸다', 1217: '봤었는데', 1218: '확실히', 1219: '로맨틱', 1220: '치', 1221: '줌', 1222: '보고싶은', 1223: '어린이', 1224: '볼수록', 1225: '고민', 1226: '메시지', 1227: '진실', 1228: '시도', 1229: '돼', 1230: '대의', 1231: '^', 1232: '결론', 1233: '리뷰', 1234: '그래', 1235: '멋', 1236: '우', 1237: '들어', 1238: '봤다가', 1239: '매', 1240: '커플', 1241: '나와', 1242: '부족한', 1243: '부족', 1244: '유쾌한', 1245: '있다는', 1246: '마라', 1247: '박수', 1248: '밤', 1249: '드립니다', 1250: '의리', 1251: '손발', 1252: '스', 1253: '보여준', 1254: '약', 1255: '슬픔', 1256: '할까', 1257: '문화', 1258: '굳이', 1259: '사극', 1260: '있다면', 1261: '여성', 1262: '으로는', 1263: '스럽다', 1264: '포장', 1265: '발견', 1266: '했을', 1267: '보시', 1268: '광고', 1269: '남는다', 1270: 'ㅇㅇ', 1271: '같고', 1272: '아침', 1273: '웃김', 1274: '짱짱', 1275: '해라', 1276: '어이없는', 1277: '흐름', 1278: '과연', 1279: '지도', 1280: '로서', 1281: '저렇게', 1282: '한계', 1283: '봅니다', 1284: '범죄', 1285: '는걸', 1286: '괴물', 1287: '어색한', 1288: '감탄', 1289: '아는', 1290: '<', 1291: '언', 1292: '여전히', 1293: '무서운', 1294: '귀여운', 1295: '동생', 1296: '수도', 1297: '성인', 1298: '용이', 1299: '문', 1300: '어찌', 1301: '언니', 1302: '쩐다', 1303: '랄', 1304: '시청자', 1305: '됩니다', 1306: '개판', 1307: '아름답고', 1308: '있네', 1309: '심', 1310: '인기', 1311: '폭력', 1312: '상처', 1313: '..?', 1314: '별루', 1315: '유', 1316: '대충', 1317: '자연', 1318: '주기', 1319: '써', 1320: '용서', 1321: '살짝', 1322: '정서', 1323: '볼거리', 1324: '몸매', 1325: '개도', 1326: '재밌었는데', 1327: '진정', 1328: '뜻', 1329: '귀엽고', 1330: '사는', 1331: '독특한', 1332: '순수한', 1333: '방', 1334: '느껴지는', 1335: '않나', 1336: '~^^', 1337: '조폭', 1338: '홍보', 1339: '젤', 1340: '성도', 1341: '핵', 1342: '그럼', 1343: '재밌습니다', 1344: '않을', 1345: '나서', 1346: '덕분', 1347: '일상', 1348: '~~~~', 1349: '빨', 1350: '보라', 1351: '겁나', 1352: '재밌었음', 1353: '아닌듯', 1354: '있었던', 1355: '만들어진', 1356: '섹스', 1357: '삼', 1358: '연애', 1359: '지는', 1360: '그럭저럭', 1361: '스럽게', 1362: '시선', 1363: '있습니다', 1364: '게이', 1365: '좋아서', 1366: '잼있게', 1367: '열심히', 1368: '오락', 1369: '끼리', 1370: '평범한', 1371: '있지', 1372: '힐링', 1373: '쓰', 1374: '눈빛', 1375: '달', 1376: '30분', 1377: '병', 1378: '정말로', 1379: '포기', 1380: '노답', 1381: '표절', 1382: '빛', 1383: '끌', 1384: '무협', 1385: '죄', 1386: '아오', 1387: '아름답다', 1388: '남녀', 1389: '실감', 1390: '비극', 1391: '되네요', 1392: '20년', 1393: '갈', 1394: '받고', 1395: '버리고', 1396: '어제', 1397: '자유', 1398: '하루', 1399: '춤', 1400: '하세요', 1401: '짜증나는', 1402: '퀄리티', 1403: '에서의', 1404: '등장인물', 1405: '해피엔딩', 1406: '뜬금', 1407: '신선한', 1408: '낮아서', 1409: '와는', 1410: '크게', 1411: '=', 1412: '쓰래', 1413: '들이', 1414: '우정', 1415: '없지', 1416: '남편', 1417: '국민', 1418: '혹시', 1419: '10분', 1420: '풀어', 1421: '코드', 1422: '재미없네', 1423: 'b', 1424: '정치', 1425: '떨어지는', 1426: '하자', 1427: '먼', 1428: '하니', 1429: '북한', 1430: '나머지', 1431: '웃겨', 1432: '반성', 1433: '이기', 1434: '보다도', 1435: '(?)', 1436: '막판', 1437: '보지마', 1438: '말로', 1439: '펑펑', 1440: '있어요', 1441: '좋습니다', 1442: '보긴', 1443: '슬프고', 1444: '마저', 1445: '팔', 1446: '좋게', 1447: '홍콩', 1448: '가진', 1449: '종교', 1450: '있네요', 1451: '공부', 1452: '없는데', 1453: '하다가', 1454: '보아', 1455: '쉽게', 1456: '가볍게', 1457: '보러', 1458: '만으로', 1459: '이연걸', 1460: '표', 1461: '재미있네요', 1462: '자식', 1463: '라지', 1464: '뮤지컬', 1465: '아깝지', 1466: '않', 1467: '지루해서', 1468: '했습니다', 1469: '했어요', 1470: '만든다', 1471: '악당', 1472: '만들고', 1473: '몰라도', 1474: '악역', 1475: '차이', 1476: '느와르', 1477: '형편', 1478: '까지는', 1479: '많다', 1480: '악', 1481: '아픈', 1482: '게다가', 1483: '감명', 1484: '다큐멘터리', 1485: '이쁘고', 1486: '권', 1487: '서야', 1488: '으론', 1489: '가면', 1490: '암튼', 1491: '불가', 1492: '벌써', 1493: '받은', 1494: '의문', 1495: '에게는', 1496: '행복', 1497: '죽는줄', 1498: '그걸', 1499: '입장', 1500: '누나', 1501: '토', 1502: '멋지다', 1503: '새벽', 1504: '하다니', 1505: '불구', 1506: '대가', 1507: '까진', 1508: '불', 1509: '발전', 1510: '고전', 1511: '이라서', 1512: '디즈니', 1513: '소장', 1514: '희생', 1515: '좋아하는데', 1516: '예쁜', 1517: '둘다', 1518: '기본', 1519: '&', 1520: '무시', 1521: '그다지', 1522: '결과', 1523: '높다', 1524: '있으면', 1525: '모르게', 1526: '하여', 1527: '제로', 1528: '오는', 1529: '싸구려', 1530: '올해', 1531: '그린', 1532: '에만', 1533: '걸까', 1534: '기적', 1535: '인가요', 1536: '않지만', 1537: '빼고는', 1538: '넘치는', 1539: '드럽게', 1540: '비주', 1541: '따위', 1542: '오버', 1543: '받아서', 1544: '좀더', 1545: '동물', 1546: '웃긴', 1547: '뻔하고', 1548: '기술', 1549: '_', 1550: '잊혀지지', 1551: '지구', 1552: '연예인', 1553: '그렇다고', 1554: '꼴', 1555: '본방', 1556: '반복', 1557: '긴장', 1558: '외국', 1559: '흑', 1560: '호러', 1561: '열정', 1562: '아이돌', 1563: '시사회', 1564: '백', 1565: '쇼', 1566: '쩝', 1567: '보인다', 1568: 'ㅠㅠㅠㅠ', 1569: '좋', 1570: '창', 1571: '재밌네', 1572: '방식', 1573: '언제나', 1574: '평이', 1575: '까지도', 1576: '과는', 1577: '선생님', 1578: '러닝', 1579: '라인', 1580: '아줌마', 1581: '이제야', 1582: '싸움', 1583: '청소년', 1584: '대화', 1585: '실패', 1586: '되서', 1587: '하려는', 1588: '금', 1589: '맨날', 1590: '실력', 1591: '어머니', 1592: '보길', 1593: '밥', 1594: '쫌', 1595: '팀', 1596: '쓰고', 1597: '나오면', 1598: '글쎄', 1599: '달라', 1600: '에로', 1601: '본인', 1602: '늘', 1603: '아픔', 1604: '전문가', 1605: '젊은', 1606: '짝', 1607: '할말이', 1608: '무섭지도', 1609: '이니', 1610: '즈', 1611: '본게', 1612: '으리', 1613: '주기도', 1614: '세기', 1615: '방금', 1616: '외모', 1617: '많고', 1618: '갑니다', 1619: '한국인', 1620: '아름다', 1621: 'ㅋㅋㅋㅋㅋㅋ', 1622: '꽝', 1623: '과의', 1624: '필름', 1625: '돌려', 1626: '뛰어난', 1627: '없어요', 1628: '재미있었다', 1629: '찍은', 1630: '1시간', 1631: '분노', 1632: '조절', 1633: '죄다', 1634: '떠나서', 1635: '한다고', 1636: '어휴', 1637: '미드', 1638: '해석', 1639: '헐리우드', 1640: '견자단', 1641: '무섭다', 1642: '왜케', 1643: '누군가', 1644: '베스트', 1645: '편의', 1646: '단지', 1647: '갈등', 1648: '가고', 1649: '질리', 1650: '좋았던', 1651: '이미지', 1652: '방법', 1653: '학생', 1654: '대표', 1655: '진리', 1656: '시트콤', 1657: '시각', 1658: '짝퉁', 1659: '냥', 1660: '보지마라', 1661: '봐요', 1662: '애기', 1663: '재미없어요', 1664: '비판', 1665: '이었습니다', 1666: '극치', 1667: '여행', 1668: '하고자', 1669: '로만', 1670: '재밋다', 1671: '이든', 1672: '존경', 1673: '히어로', 1674: '가는줄', 1675: '작은', 1676: '굿굿', 1677: '성한', 1678: '김기덕', 1679: '본다면', 1680: '단순한', 1681: '만족', 1682: '유발', 1683: '내고', 1684: '딱히', 1685: '스스로', 1686: '로봇', 1687: '끼', 1688: '명품', 1689: '에피소드', 1690: '부모', 1691: '아쉽네요', 1692: '최', 1693: '사랑스러운', 1694: '싶네요', 1695: '나오네', 1696: '그거', 1697: '대부분', 1698: '빠진', 1699: '좋아해서', 1700: '조합', 1701: '허세', 1702: '째', 1703: '푹', 1704: '19', 1705: '테러', 1706: '쵝오', 1707: '쪽', 1708: '인해', 1709: '재미있었어요', 1710: '주말', 1711: '가요', 1712: '양심', 1713: '피해자', 1714: '심장', 1715: '즐겁게', 1716: '담', 1717: '국내', 1718: '????', 1719: '생각나는', 1720: '개념', 1721: '은근', 1722: '자리', 1723: '받는', 1724: '전개도', 1725: '이정', 1726: '모르겠고', 1727: '경험', 1728: '잔잔하고', 1729: '기대했는데', 1730: '이자', 1731: '분명', 1732: '30', 1733: '탄탄한', 1734: '한데', 1735: '망', 1736: '코난', 1737: '그렇지', 1738: '보았다', 1739: '좋겠어요', 1740: '개성', 1741: '과장', 1742: '검색', 1743: '와우', 1744: '맥', 1745: '했고', 1746: '라이', 1747: '크', 1748: '신분', 1749: '따뜻해지는', 1750: '개뿔', 1751: '해주세요', 1752: '신선하고', 1753: '봤더니', 1754: '편견', 1755: '연속', 1756: '기자', 1757: '훨', 1758: '이쁘다', 1759: '사기', 1760: '단연', 1761: '무언가', 1762: '헐리웃', 1763: '미모', 1764: '무척', 1765: '안타깝다', 1766: '번째', 1767: '...?', 1768: '우와', 1769: '딴', 1770: '의외로', 1771: '두고', 1772: '생활', 1773: '캐리', 1774: '외계인', 1775: '보고나면', 1776: '챙겨', 1777: '짜증난다', 1778: '오브', 1779: '희', 1780: '겁니다', 1781: '영어', 1782: '경', 1783: '들었다', 1784: '할머니', 1785: '웃기지도', 1786: '직접', 1787: '근', 1788: '자살', 1789: '나오지', 1790: '한참', 1791: '끝날', 1792: '얘', 1793: '[', 1794: '형사', 1795: '울었다', 1796: '싸이코', 1797: '........', 1798: '레알', 1799: '이여', 1800: '좋지만', 1801: '왠만하면', 1802: '뒷', 1803: '나쁘지', 1804: '빠져', 1805: '도안', 1806: '없다는', 1807: '봣는데', 1808: '옛', 1809: '만들어도', 1810: '명성', 1811: '묘', 1812: '전반', 1813: '18', 1814: '카', 1815: '어려운', 1816: ',,,,', 1817: '보며', 1818: '성장', 1819: '더불어', 1820: '흔한', 1821: '먹는', 1822: '의식', 1823: '보려고', 1824: '으로서', 1825: '보겠다', 1826: '풍경', 1827: '초등학생', 1828: '마이너스', 1829: '보자', 1830: '고양이', 1831: '힘들다', 1832: '도전', 1833: '이따위', 1834: '하던', 1835: '아내', 1836: '남주', 1837: '쩌', 1838: '멍청한', 1839: '칼', 1840: '싶을', 1841: '점준', 1842: '달달', 1843: '마이클', 1844: '확', 1845: '모르겠지만', 1846: '으로만', 1847: '개막', 1848: '보았습니다', 1849: '봐야지', 1850: '했는지', 1851: '♥♥', 1852: '재밋어', 1853: '아마', 1854: '하나로', 1855: '아깝고', 1856: '아아', 1857: '?!', 1858: '만들기', 1859: ']', 1860: '영혼', 1861: '쉬', 1862: '향', 1863: '막장드라마', 1864: '그렇다', 1865: '짜증나', 1866: '주변', 1867: '악마', 1868: '하는건', 1869: '가수', 1870: '이보', 1871: '야동', 1872: '무지', 1873: '않을까', 1874: '신고', 1875: '카리스마', 1876: '않네요', 1877: '본거', 1878: '튼', 1879: '봤', 1880: '러브', 1881: '변화', 1882: '스럽지', 1883: '멋있다', 1884: '로써', 1885: '더러운', 1886: '지루했다', 1887: '주성치', 1888: '감히', 1889: '왠', 1890: '정의', 1891: '비현실적', 1892: '응원', 1893: '학년', 1894: '버림', 1895: '되면', 1896: '레전드', 1897: '야하는', 1898: '빼면', 1899: '없', 1900: '스트레스', 1901: '연결', 1902: '이도', 1903: '맞지', 1904: 'x', 1905: '행복한', 1906: '기만', 1907: '겨우', 1908: '완전히', 1909: '듣고', 1910: '그려', 1911: '지루하게', 1912: '답답하고', 1913: '사수', 1914: '잠깐', 1915: '남아', 1916: '옆', 1917: '빈', 1918: 'ㅋㅋㅋㅋㅋㅋㅋ', 1919: '면서', 1920: '12', 1921: '시키는', 1922: '끝나는', 1923: '기준', 1924: '잼있어요', 1925: '베', 1926: '처', 1927: '쓰는', 1928: '에나', 1929: '유쾌하고', 1930: '롭고', 1931: '상업', 1932: '좋았지만', 1933: '넘게', 1934: '설마', 1935: '하려고', 1936: '없습니다', 1937: '투자', 1938: '내면', 1939: '다시는', 1940: '홍콩영화', 1941: '좋았으나', 1942: '시청', 1943: '관점', 1944: '포르노', 1945: '덜', 1946: '신경', 1947: '만해', 1948: '모르겠음', 1949: '각', 1950: '형제', 1951: '칠', 1952: '니깐', 1953: '으로써', 1954: '세번', 1955: '하길래', 1956: '십', 1957: '하기엔', 1958: '되는데', 1959: '느끼는', 1960: '김', 1961: '세월', 1962: '없게', 1963: 'C', 1964: 'M', 1965: '있었지만', 1966: '이상은', 1967: '특수', 1968: '어린시절', 1969: '성격', 1970: '없었던', 1971: '포인트', 1972: '겨', 1973: '참으로', 1974: '등등', 1975: '편도', 1976: '착한', 1977: ',.', 1978: '잔인한', 1979: '21', 1980: '압권', 1981: '위대한', 1982: '했다는', 1983: '느껴진다', 1984: '예쁘고', 1985: '위로', 1986: '얼마', 1987: '따로', 1988: '욕망', 1989: '답답한', 1990: '야한다', 1991: '기회', 1992: '가본', 1993: '교육', 1994: '한다면', 1995: '받을', 1996: '즐거운', 1997: '투', 1998: '전쟁영화', 1999: '리즈', 2000: '007', 2001: '젠장', 2002: '우주', 2003: '로그인', 2004: '고통', 2005: '잊지', 2006: '인들', 2007: '보네', 2008: '크리스마스', 2009: '동시', 2010: '싶은데', 2011: '유치하다', 2012: '정체', 2013: '국가', 2014: '운명', 2015: '우려', 2016: '방영', 2017: '지루할', 2018: '예능', 2019: '만큼은', 2020: '알수', 2021: '효', 2022: '색감', 2023: '잔', 2024: 'ㄱ', 2025: '빼곤', 2026: '아예', 2027: '높아', 2028: '시킨', 2029: '변태', 2030: '똑같은', 2031: '적임', 2032: '갑', 2033: '일품', 2034: '씀', 2035: '조작', 2036: '했나', 2037: '최강', 2038: '생각나서', 2039: 'ㅅ', 2040: '다룬', 2041: '들고', 2042: '듬', 2043: '루', 2044: '죽는', 2045: '이어서', 2046: '넌', 2047: '이용', 2048: '해야지', 2049: '케', 2050: '흥미로운', 2051: '갔다', 2052: '틈', 2053: '에로영화', 2054: '바다', 2055: '채', 2056: '서는', 2057: '목', 2058: '봤네', 2059: '수고', 2060: '확인', 2061: '몇몇', 2062: 'the', 2063: '초등학교', 2064: '흑인', 2065: '살면서', 2066: '그럴', 2067: '괜찮은데', 2068: '선물', 2069: '사진', 2070: '안습', 2071: '무술', 2072: '배역', 2073: '설득', 2074: '갓', 2075: 'DVD', 2076: '전에', 2077: '풍자', 2078: '부모님', 2079: '냄새', 2080: '정신병', 2081: '재밌다고', 2082: '보던', 2083: '캐', 2084: '봤을까', 2085: '감안', 2086: '데리', 2087: '좋을', 2088: '깨', 2089: '결정', 2090: '했으나', 2091: '만들다니', 2092: '내생', 2093: '워', 2094: '이었음', 2095: '망한', 2096: '이래서', 2097: '공포물', 2098: '린', 2099: '미가', 2100: '옷', 2101: '봤는데도', 2102: '그건', 2103: '관련', 2104: '잼있다', 2105: '최초', 2106: '공짜', 2107: '탓', 2108: '영원히', 2109: '근래', 2110: '어울리는', 2111: '끔', 2112: '떨어진다', 2113: '바랍니다', 2114: '놓고', 2115: '감흥', 2116: '있었는데', 2117: '이쁜', 2118: '갠', 2119: '꼬마', 2120: '지나치게', 2121: '거짓말', 2122: '낮지', 2123: '시점', 2124: '대본', 2125: '만남', 2126: '보여준다', 2127: '오랫', 2128: '녀', 2129: '진부하고', 2130: '깜짝', 2131: '파', 2132: '드림', 2133: '영국', 2134: '재미없게', 2135: '해결', 2136: '보통', 2137: '비밀', 2138: '아래', 2139: '덕', 2140: '의심', 2141: 'ㄷㄷㄷ', 2142: '패', 2143: '용기', 2144: ';;;;', 2145: '부부', 2146: '하긴', 2147: '케릭', 2148: '거나', 2149: '재미있습니다', 2150: '많아서', 2151: '여러가지', 2152: '단어', 2153: '대중', 2154: '색다른', 2155: '영화계', 2156: '껏', 2157: '5분', 2158: '치는', 2159: '잇는', 2160: '톰', 2161: '부족하다', 2162: '첫사랑', 2163: '낮다', 2164: '박', 2165: '성은', 2166: '자주', 2167: 'ㅠㅜ', 2168: '만을', 2169: '심하게', 2170: '달리', 2171: 'ㅉㅉㅉ', 2172: '하겠다', 2173: '번은', 2174: '여러분', 2175: '전율', 2176: '스크린', 2177: '땅', 2178: '아동', 2179: '셈', 2180: '았', 2181: '같', 2182: '명화', 2183: '스런', 2184: '가득', 2185: '본적', 2186: '버리는', 2187: 'X', 2188: '상태', 2189: '하지마라', 2190: '있구나', 2191: '빵점', 2192: '디', 2193: '깨닫게', 2194: '물이', 2195: '찾아', 2196: '던데', 2197: '트', 2198: '한심한', 2199: '중요한', 2200: '하는것', 2201: '갖고', 2202: '브루스', 2203: '연인', 2204: '만은', 2205: '할듯', 2206: '만들면', 2207: '감각', 2208: '와의', 2209: '훈훈한', 2210: '아닙니다', 2211: '둘째', 2212: '있는지', 2213: '않아서', 2214: '소년', 2215: '안타까운', 2216: '유명한', 2217: '됐다', 2218: '아역', 2219: '가족영화', 2220: '알겠는데', 2221: '두번째', 2222: '신의', 2223: '높게', 2224: '골', 2225: '재밌', 2226: '떨어지고', 2227: '선동', 2228: '잔뜩', 2229: '짜증나서', 2230: '줍니다', 2231: '심지어', 2232: '많은데', 2233: '매니아', 2234: '이쁨', 2235: '탄생', 2236: '목적', 2237: '낮게', 2238: '기법', 2239: '만들었는지', 2240: '잼나게', 2241: '하나같이', 2242: '기를', 2243: '줘', 2244: '야한', 2245: '15', 2246: '명의', 2247: '작위', 2248: '삭제', 2249: '야구', 2250: '쥐', 2251: '훌륭하다', 2252: '사상', 2253: '통', 2254: '결코', 2255: '소소한', 2256: '점줌', 2257: '빵빵', 2258: '폐지', 2259: '장가', 2260: '려고', 2261: '20분', 2262: '잊을', 2263: 'sf', 2264: 'A', 2265: '짜임새', 2266: '마시길', 2267: '철', 2268: '한숨', 2269: '였던', 2270: '이상하게', 2271: '이따', 2272: '집착', 2273: '풍', 2274: '이런건', 2275: '시기', 2276: '탑', 2277: '할아버지', 2278: '애가', 2279: '빌려', 2280: '배우도', 2281: '느낀', 2282: '종영', 2283: '본듯', 2284: '재밌던데', 2285: '제외', 2286: '말고는', 2287: '났다', 2288: '패러디', 2289: '낮네', 2290: '좋겠네요', 2291: '70년', 2292: '어설프고', 2293: '따뜻하고', 2294: '메', 2295: '목숨', 2296: '곡', 2297: '뭐라', 2298: '낫', 2299: '11', 2300: '값', 2301: '했을까', 2302: '뇌', 2303: '열연', 2304: '느꼈다', 2305: '후속작', 2306: '같지', 2307: '금보', 2308: '마리', 2309: '감정이입', 2310: '아까웠다', 2311: '아쉽지만', 2312: '기독교', 2313: '많은걸', 2314: '다양한', 2315: '아무런', 2316: '죽여', 2317: '보구', 2318: '..;;', 2319: '읽어', 2320: '무서움', 2321: '욕심', 2322: '죽은', 2323: '틱', 2324: '봤다면', 2325: '오래전', 2326: '포스', 2327: '식상한', 2328: '타고', 2329: '거부', 2330: '하늘', 2331: '어쩜', 2332: '무료', 2333: '보여', 2334: 'ㅎㅎㅎㅎ', 2335: '시켜', 2336: '보여주고', 2337: '본지', 2338: '중독', 2339: '신파', 2340: '그만큼', 2341: '재난영화', 2342: '있', 2343: '본건데', 2344: '했네', 2345: '대놓고', 2346: '승리', 2347: '기는', 2348: '아이디어', 2349: '유치함', 2350: '아까울', 2351: '무섭고', 2352: '느낄수', 2353: '밋', 2354: '모험', 2355: '맞아', 2356: '없었음', 2357: '한개', 2358: '짜증남', 2359: '아깝네', 2360: '정작', 2361: '틀', 2362: '모양', 2363: '이었어요', 2364: '아기', 2365: '블록버스터', 2366: '있던', 2367: '없으면', 2368: '이만', 2369: ':)', 2370: '팔이', 2371: '구나', 2372: '혹은', 2373: '태어나서', 2374: '울컥', 2375: '잼있음', 2376: '호', 2377: '라이언', 2378: '담배', 2379: '볼려고', 2380: '필요한', 2381: '웃고', 2382: '추리', 2383: '보신', 2384: '귀여워', 2385: '!!!!!', 2386: '사고', 2387: '주제가', 2388: '지나도', 2389: '배우는', 2390: '마이', 2391: '볼수있는', 2392: '이상하고', 2393: '없다고', 2394: '낚였다', 2395: '버전', 2396: '오래된', 2397: '찾기', 2398: '여름', 2399: '수많은', 2400: '구리', 2401: '아니야', 2402: '천', 2403: '같지만', 2404: '소중한', 2405: '였지만', 2406: '성하고', 2407: '탈', 2408: '재미없었다', 2409: '가정', 2410: '장국영', 2411: 'ㅁ', 2412: '재밌어서', 2413: '재능', 2414: 'I', 2415: '클레멘타인', 2416: '적이네요', 2417: '강한', 2418: '져', 2419: '배경음악', 2420: '여태', 2421: '싶어요', 2422: '어색하고', 2423: '이긴', 2424: '높아서', 2425: '싶지', 2426: '탄', 2427: '호구', 2428: '맞고', 2429: '린다', 2430: '이었던', 2431: '조카', 2432: '자고', 2433: '최대', 2434: '재미없어서', 2435: '하아', 2436: '요리', 2437: '.^^', 2438: '케빈', 2439: '당연히', 2440: '로코', 2441: '색', 2442: '성공', 2443: 'ㅋㅋㅋㅋㅋㅋㅋㅋ', 2444: '아니라고', 2445: '유일하게', 2446: '아프다', 2447: '낚시', 2448: '길게', 2449: '하시는', 2450: '..^^', 2451: '할말', 2452: '보다니', 2453: '지경', 2454: '남네요', 2455: '졸', 2456: '같네', 2457: '가능한', 2458: '대통령', 2459: '흥', 2460: '저리', 2461: '있어야', 2462: '보이지', 2463: '틴', 2464: '깍', 2465: '뭥미', 2466: '잡', 2467: '절정', 2468: '억지스러운', 2469: '로버트', 2470: '참나', 2471: '나왔다', 2472: '공간', 2473: '파괴', 2474: '앞뒤', 2475: '아냐', 2476: '플롯', 2477: '터미네이터', 2478: '했네요', 2479: '했다고', 2480: '대신', 2481: '해준다', 2482: '치곤', 2483: '없냐', 2484: '재밋음', 2485: '빵', 2486: '다섯', 2487: '매일', 2488: '사투리', 2489: '고등학교', 2490: '바탕', 2491: '~!!!', 2492: '습', 2493: '짧은', 2494: '부터가', 2495: '돼지', 2496: '제이슨', 2497: '따름', 2498: '임팩트', 2499: '된거', 2500: '없나요', 2501: '조니뎁', 2502: '졸리', 2503: '안감', 2504: '인지도', 2505: '적어도', 2506: '교과서', 2507: '먼가', 2508: '괜찮음', 2509: '들은', 2510: '어처구니', 2511: '일본인', 2512: '만약', 2513: '조화', 2514: '이소룡', 2515: '왔다', 2516: '어쩌', 2517: '모를', 2518: '또다른', 2519: '적당히', 2520: '웃', 2521: '유덕화', 2522: '꼬', 2523: '발상', 2524: '쓸', 2525: '심형래', 2526: '이어', 2527: '절', 2528: '과학', 2529: '배트맨', 2530: '잤다', 2531: '링', 2532: '중심', 2533: '사운드', 2534: '탈출', 2535: '그립다', 2536: '있다니', 2537: '있냐', 2538: '착각', 2539: '중학교', 2540: '귀엽다', 2541: '잡고', 2542: '하품', 2543: '캬', 2544: '너무도', 2545: '잠시', 2546: '뱀파이어', 2547: '일부러', 2548: '마냥', 2549: '화의', 2550: '남은', 2551: '쿡', 2552: '숨겨진', 2553: '논', 2554: '디워', 2555: '돋보이는', 2556: '예쁘다', 2557: '모르겠네요', 2558: '하도', 2559: '아니지', 2560: '불쌍하다', 2561: '인터넷', 2562: '봤지', 2563: '레', 2564: '베리', 2565: '이군', 2566: '단순히', 2567: '에게도', 2568: '알았음', 2569: '반대', 2570: '그야말로', 2571: '나은', 2572: '.........', 2573: '걱정', 2574: '울면', 2575: '없는게', 2576: '참신한', 2577: '♥♥♥', 2578: '센스', 2579: '아름답게', 2580: '영화제', 2581: '와서', 2582: '숨', 2583: '가득한', 2584: '상실', 2585: '좋아할', 2586: '몰랐다', 2587: '토록', 2588: '놀랍다', 2589: '이뻐서', 2590: '같았다', 2591: '여친', 2592: '나고', 2593: '동성애', 2594: '해리포터', 2595: '끌어', 2596: '메이드', 2597: '베드', 2598: '13', 2599: '현대', 2600: '있다고', 2601: '짜증나고', 2602: 'ㄴ', 2603: '만드', 2604: '쓸데없이', 2605: '나네요', 2606: '보는듯', 2607: 'ㅈ', 2608: '고딩', 2609: '주지', 2610: '정이', 2611: '앤', 2612: '떠나', 2613: '남겨', 2614: '도에', 2615: '@', 2616: '30년', 2617: '인내심', 2618: '가벼운', 2619: '재미나', 2620: '제니퍼', 2621: '그동안', 2622: '재밌다는', 2623: '컨셉', 2624: '능', 2625: '겉', 2626: '보았는데', 2627: '도움', 2628: '우뢰매', 2629: '버려', 2630: '단순', 2631: '실수', 2632: '웃으면서', 2633: '않은데', 2634: '떨어짐', 2635: '부작', 2636: '유일한', 2637: '보소', 2638: 'ㄷ', 2639: 'dvd', 2640: '나가는', 2641: '인형', 2642: '어디가', 2643: '될듯', 2644: '레이', 2645: 'ㅣ', 2646: '아깝네요', 2647: '이었는데', 2648: '꽃', 2649: '무서워', 2650: '연극', 2651: '응', 2652: '음식', 2653: '손색', 2654: '던', 2655: '않았지만', 2656: 'ㅉ', 2657: '좋다고', 2658: '나오는데', 2659: '무기', 2660: '궁금하다', 2661: '치고는', 2662: '//', 2663: '말투', 2664: '할만', 2665: '불쌍한', 2666: '난리', 2667: '선정', 2668: '류작', 2669: '멋지고', 2670: '에다', 2671: '거장', 2672: '여자애', 2673: '끼워', 2674: '천국', 2675: '인도', 2676: '다신', 2677: '보셈', 2678: '상어', 2679: '허허', 2680: '찍고', 2681: '의사', 2682: '주윤발', 2683: '애초', 2684: '잭', 2685: '성의', 2686: '당황', 2687: '해주고', 2688: '준비', 2689: '이전', 2690: '신은', 2691: '살린', 2692: '다리', 2693: '웬', 2694: '폴', 2695: '재미없', 2696: '평균', 2697: '끝난', 2698: '특별한', 2699: '싶어', 2700: '네티즌', 2701: '리얼리티', 2702: '무대', 2703: '괜찮고', 2704: '제임스', 2705: '--', 2706: '괜찮았다', 2707: '여자친구', 2708: '다르게', 2709: '슴', 2710: '야함', 2711: '아까워서', 2712: '박진', 2713: '계기', 2714: '의상', 2715: '임창정', 2716: '괜찮다', 2717: '재미없다고', 2718: '살인마', 2719: '논리', 2720: '분량', 2721: '운', 2722: '대결', 2723: '단체', 2724: '폭발', 2725: '만화책', 2726: '반드시', 2727: '블랙', 2728: '수입', 2729: '40', 2730: '박중훈', 2731: '하던데', 2732: '발음', 2733: '호기심', 2734: '궁금해서', 2735: '에이', 2736: '100%', 2737: '하지원', 2738: '했더니', 2739: '생각난다', 2740: '하이', 2741: '판단', 2742: '아무튼', 2743: '좋지', 2744: '감사', 2745: '죽고', 2746: '잖아', 2747: '유럽', 2748: '들어서', 2749: '기존', 2750: '겨울', 2751: '보는거', 2752: '화란', 2753: '홍상수', 2754: '어거지', 2755: '혐오', 2756: '의지', 2757: '컴퓨터', 2758: '괜찮았는데', 2759: '론', 2760: '따듯', 2761: '포', 2762: '어색', 2763: '무난', 2764: '하정우', 2765: '갔는데', 2766: '여인', 2767: '되나', 2768: '김치', 2769: '명대사', 2770: '키드', 2771: '스럽고', 2772: '보임', 2773: '첨부', 2774: '영화감독', 2775: '2014년', 2776: '살아가는', 2777: '민폐', 2778: '겁', 2779: '션', 2780: '과도', 2781: '빨갱이', 2782: '정보', 2783: '루즈', 2784: '무게', 2785: 'ㅏ', 2786: '..........', 2787: '아깝', 2788: '출신', 2789: '각색', 2790: '압도', 2791: '진수', 2792: '차원', 2793: '읽고', 2794: '체적', 2795: '끝내', 2796: '도무지', 2797: '강렬한', 2798: '남성', 2799: '자동차', 2800: '키스', 2801: '만들었을까', 2802: '배신', 2803: '흐르는', 2804: '보네요', 2805: '인류', 2806: '낮아', 2807: '불편한', 2808: '전투', 2809: '손가락', 2810: '시키지', 2811: '일반', 2812: '필', 2813: '비중', 2814: '지겹다', 2815: '및', 2816: '잔잔하게', 2817: '아놀드', 2818: '듭니', 2819: '니콜', 2820: '나레이션', 2821: '적은', 2822: '마음속', 2823: '등록', 2824: '개콘', 2825: '친', 2826: '많아', 2827: '길이', 2828: '신인', 2829: '때려', 2830: '뭐임', 2831: '동영상', 2832: '스포', 2833: '극복', 2834: '황당한', 2835: '에다가', 2836: '환경', 2837: '데뷔', 2838: '영원한', 2839: '죽이는', 2840: '했다면', 2841: '할수가', 2842: '대사도', 2843: '하러', 2844: '영향', 2845: '이니까', 2846: '개그맨', 2847: '였고', 2848: '화일', 2849: '누군지', 2850: '웰', 2851: '빠른', 2852: '드디어', 2853: '찬', 2854: '요새', 2855: '동심', 2856: '쓸데없는', 2857: '?...', 2858: '옴', 2859: '만도', 2860: '피해', 2861: 'ㅋㅋㅋㅋㅋㅋㅋㅋㅋ', 2862: '러시아', 2863: '생긴', 2864: '어쩌면', 2865: '역사상', 2866: '축구', 2867: '최소한', 2868: '윌리스', 2869: '게스트', 2870: '내일', 2871: '만들어서', 2872: '열자', 2873: '어렵다', 2874: '별하나', 2875: '끝나', 2876: '단점', 2877: '좋을듯', 2878: '울리는', 2879: '이병헌', 2880: '스티븐', 2881: '이를', 2882: '다세포', 2883: '.,', 2884: '리지', 2885: '범죄자', 2886: '극단', 2887: '고뇌', 2888: '거품', 2889: '듣기', 2890: '할거', 2891: '아치', 2892: '않아요', 2893: '재미있는데', 2894: '몽환', 2895: '재미있었음', 2896: '황당', 2897: '컷', 2898: '적절한', 2899: '마약', 2900: '탄탄하고', 2901: '최고봉', 2902: '부정', 2903: '강력', 2904: '알겠다', 2905: '할리우드', 2906: '와도', 2907: '코메디', 2908: '그렇지만', 2909: '무한', 2910: '죽어', 2911: '했어', 2912: '곧', 2913: 'ㅄ', 2914: '성적', 2915: '흡입', 2916: '놀라운', 2917: '사용', 2918: '빛나는', 2919: '하고는', 2920: '추', 2921: '한국판', 2922: 'of', 2923: '찾아서', 2924: '염', 2925: 'd', 2926: 'a', 2927: '소중함을', 2928: '경우', 2929: '즐겨', 2930: '파리', 2931: '인게', 2932: '잇', 2933: '온다', 2934: '때매', 2935: '실험', 2936: '평소', 2937: '정우성', 2938: '좋았을', 2939: '담아', 2940: '왜곡', 2941: '오프닝', 2942: '찾는', 2943: '싸우는', 2944: '좋아하지만', 2945: '빠져서', 2946: '버튼', 2947: '재미있었습니다', 2948: '왔습니다', 2949: '않았던', 2950: '샘', 2951: '봤고', 2952: '깡패', 2953: '도데', 2954: '보고있어요', 2955: '널', 2956: '끝나서', 2957: '나오네요', 2958: '리가', 2959: '송강호', 2960: '절망', 2961: '만들어라', 2962: '..!', 2963: '게뭐', 2964: '전하', 2965: '향수', 2966: '콩', 2967: '뻔했다', 2968: '담긴', 2969: '무리', 2970: '힘들', 2971: '글자', 2972: '쩔어', 2973: '중년', 2974: '공룡', 2975: '장점', 2976: '이해도', 2977: '쉽지', 2978: '놀랐다', 2979: '진지하게', 2980: '필요없음', 2981: '알았네', 2982: '슈퍼', 2983: '다르다', 2984: '최소', 2985: '명복', 2986: '서부', 2987: '흉내', 2988: '나간', 2989: '하자는', 2990: '왔는데', 2991: '여신', 2992: '`', 2993: '아닌것', 2994: '킬링', 2995: '라스트', 2996: '괜찮게', 2997: '만화영화', 2998: '판이', 2999: '군인', 3000: 'Good', 3001: '역량', 3002: '폭풍', 3003: '졸업', 3004: '치유', 3005: '배급사', 3006: '먹은', 3007: '깨알', 3008: '이구나', 3009: '범', 3010: '감도', 3011: '하길', 3012: 'T', 3013: '담은', 3014: '잊을수', 3015: '완벽', 3016: '유치해서', 3017: '느껴', 3018: '드니', 3019: '겉멋', 3020: '볼거', 3021: '독일', 3022: '매미', 3023: '우연', 3024: '할지', 3025: '씹', 3026: '왤케', 3027: '밖', 3028: '부인', 3029: '풋풋한', 3030: '미스', 3031: '우선', 3032: '1년', 3033: '잉', 3034: 'ㅎㄷㄷ', 3035: '왠만한', 3036: '버', 3037: '멋있는', 3038: '화장실', 3039: '하기도', 3040: '거지같은', 3041: '뭐라고', 3042: '극적', 3043: '지옥', 3044: '방해', 3045: '나루토', 3046: '액션씬', 3047: '보고있는데', 3048: '영화사', 3049: '파격', 3050: '라기', 3051: '내게', 3052: '앙', 3053: '보느니', 3054: '선생', 3055: '봤는지', 3056: '커', 3057: '에서만', 3058: '바닥', 3059: '정부', 3060: '재미있어', 3061: '돋는', 3062: '중딩', 3063: '캐릭', 3064: '아만다', 3065: '도시', 3066: '멋있고', 3067: '서도', 3068: '케이', 3069: '향연', 3070: '상대', 3071: '류승범', 3072: '멍', 3073: '진지한', 3074: '알려', 3075: '절대로', 3076: '보고싶은데', 3077: '모르지만', 3078: '한순간', 3079: '유지', 3080: '거짓', 3081: '낮네요', 3082: '처리', 3083: '절로', 3084: '했었는데', 3085: '직업', 3086: '없던', 3087: '싶어서', 3088: '존스', 3089: '서울', 3090: '쭉', 3091: '위트', 3092: '언젠가', 3093: '귀여워요', 3094: '비호감', 3095: 'you', 3096: '든지', 3097: '아프고', 3098: '부족함', 3099: '단편', 3100: '분장', 3101: '미도', 3102: '미녀', 3103: '동네', 3104: '중국영화', 3105: '생명', 3106: '만들었나', 3107: '어이없다', 3108: '에가', 3109: '1회', 3110: '아오이', 3111: '정상', 3112: '그대', 3113: '녀석', 3114: '한가지', 3115: '가히', 3116: '맡은', 3117: '하라', 3118: '했지', 3119: '괜찮았음', 3120: '뒤죽박죽', 3121: '만큼이나', 3122: '도중', 3123: '비행기', 3124: '아쉬워요', 3125: '별거', 3126: '땀', 3127: '매번', 3128: '됐는데', 3129: '2년', 3130: '속지', 3131: '좋았을텐데', 3132: '봤나', 3133: '년전', 3134: '유쾌하게', 3135: '넘어', 3136: '산만하고', 3137: '아쉽', 3138: '했', 3139: '무거운', 3140: '놀이', 3141: '뜬금없이', 3142: '찬양', 3143: '똑같이', 3144: '안해', 3145: '에서나', 3146: '이구만', 3147: '대에', 3148: '하는듯', 3149: '절제', 3150: '본것', 3151: '부로', 3152: '노인', 3153: '해보게', 3154: '하나님', 3155: 'ㅜㅠ', 3156: '부활', 3157: '소화', 3158: '만세', 3159: '재난', 3160: '낭만', 3161: '멋짐', 3162: '추합니다', 3163: '인듯', 3164: '알파', 3165: '좋겠습니다', 3166: '신하균', 3167: '좋네', 3168: '울었어요', 3169: '한심하다', 3170: '하려', 3171: '인걸', 3172: '순수하고', 3173: '정리', 3174: '강동원', 3175: '무재', 3176: '교회', 3177: '되었습니다', 3178: '순위', 3179: '있었으면', 3180: '명불허전', 3181: '소통', 3182: '광구', 3183: '배꼽', 3184: '높지', 3185: '엄청나게', 3186: '이별', 3187: '갖다', 3188: '줘도', 3189: '이안', 3190: '느끼고', 3191: '식이', 3192: '잊고', 3193: '년도', 3194: '많네', 3195: '드문', 3196: '괜찮네요', 3197: '본질', 3198: '가능성', 3199: '무간도', 3200: '지나', 3201: '★', 3202: '답답하다', 3203: '잔인함', 3204: '있었고', 3205: '들게', 3206: '쓰지', 3207: '세대', 3208: 'EBS', 3209: '공유', 3210: '일지', 3211: '예측', 3212: '원숭이', 3213: '나을듯', 3214: '일듯', 3215: '허무한', 3216: '의외', 3217: '오글거리는', 3218: '전성기', 3219: '권력', 3220: '짜증나게', 3221: '백인', 3222: '강간', 3223: '잊지못', 3224: '랑은', 3225: '대부', 3226: '쌍', 3227: '오글오글', 3228: '박보영', 3229: '구만', 3230: '회사', 3231: '다해', 3232: '고증', 3233: '2000년', 3234: '1등', 3235: '칭찬', 3236: '빠', 3237: '소개', 3238: '보고싶어요', 3239: '중학생', 3240: '된다는', 3241: '짬뽕', 3242: '받았다', 3243: '각자', 3244: '변신', 3245: '말씀', 3246: '추가', 3247: '어이없음', 3248: '명연기', 3249: '쟁이', 3250: '비록', 3251: '다는', 3252: '문득', 3253: '멋져요', 3254: '형식', 3255: 'ㅈㄴ', 3256: '망친', 3257: '솔', 3258: '부탁', 3259: '연습', 3260: '치노', 3261: '~~^^', 3262: '제작자', 3263: '역겨운', 3264: '15년', 3265: '찌질', 3266: '50', 3267: '모로', 3268: '닥', 3269: '수록', 3270: '싶었다', 3271: '몰라', 3272: '믿음', 3273: '낮은지', 3274: '진한', 3275: '석', 3276: '무어', 3277: '기획', 3278: '만든거', 3279: '부는', 3280: '광기', 3281: '90분', 3282: '어떻', 3283: '보나', 3284: '모른다', 3285: '엽기', 3286: '기대하지', 3287: '가나', 3288: '쯧쯧', 3289: '피아노', 3290: '타란티노', 3291: '줄수', 3292: '일주일', 3293: '선사', 3294: '두운', 3295: '로움', 3296: '되었는데', 3297: '본능', 3298: '준것', 3299: '아무나', 3300: '아마추어', 3301: '난무', 3302: '흔', 3303: '어울리지', 3304: '모르겠네', 3305: '장애인', 3306: '부산', 3307: '이기도', 3308: '과대', 3309: '나음', 3310: '이상해', 3311: '낼', 3312: '밀', 3313: '블랙코미디', 3314: '고인', 3315: '빕니다', 3316: '커버', 3317: '없는듯', 3318: '까지만', 3319: '섬세한', 3320: '잃은', 3321: '뎅', 3322: '시종일관', 3323: '스파이더맨', 3324: '반응', 3325: '합', 3326: '베일', 3327: '하면서도', 3328: '워낙', 3329: '스필버그', 3330: '권상우', 3331: '국어', 3332: '디카프리오', 3333: '하지도', 3334: '줬다', 3335: '징', 3336: '스타워즈', 3337: '보는것', 3338: '가야', 3339: '놀란', 3340: '선수', 3341: '나무', 3342: '보았던', 3343: '한지', 3344: '웃겨서', 3345: '속이', 3346: '미학', 3347: '어설프다', 3348: '만들수', 3349: '조선', 3350: '미스터리', 3351: '즐거움', 3352: '싸', 3353: '출연자', 3354: '상이', 3355: '도둑', 3356: '재밌었던', 3357: '멜로영화', 3358: '호불호', 3359: '사랑스럽고', 3360: '아이유', 3361: '않습니다', 3362: '싶습니다', 3363: '구로', 3364: '국', 3365: '낮', 3366: '상식', 3367: '나게', 3368: '보고나니', 3369: '낫겠다', 3370: '아니잖아', 3371: '싫어', 3372: '고문', 3373: '디테일', 3374: '답답', 3375: '찍는', 3376: '티나', 3377: '애정', 3378: '늦게', 3379: '아닌가요', 3380: '닥치고', 3381: '유치해', 3382: '최후', 3383: '?..', 3384: '아누', 3385: '민족', 3386: '하시길', 3387: '풀', 3388: '떡', 3389: '너희', 3390: '부터는', 3391: '구분', 3392: '유아', 3393: '살이', 3394: '느껴졌다', 3395: '남자배우', 3396: '뎀', 3397: '커서', 3398: '재미있었는데', 3399: '심사', 3400: '가까운', 3401: '역겹다', 3402: '오로지', 3403: '리암', 3404: '필요한가', 3405: '재미없네요', 3406: '혁명', 3407: '냈다', 3408: '반영', 3409: '슈퍼맨', 3410: '아니었다', 3411: '레옹', 3412: '찬사', 3413: '멋지게', 3414: '맞음', 3415: '설', 3416: '아닌거', 3417: '가라', 3418: '잼있네요', 3419: '특집', 3420: '연관', 3421: '감은', 3422: '개는', 3423: '본격', 3424: '우린', 3425: '케미', 3426: '할수있는', 3427: '페이크', 3428: '작화', 3429: '클', 3430: '산다', 3431: '빠지게', 3432: '연상', 3433: '외국인', 3434: '웃었다', 3435: '순수', 3436: '좋으나', 3437: '주세요', 3438: '살려', 3439: '명장', 3440: '다시금', 3441: '맞나', 3442: '웃기는', 3443: '뭐랄까', 3444: '홀로', 3445: '데이빗', 3446: '돋는다', 3447: '국산', 3448: '간지', 3449: '호흡', 3450: '행복하게', 3451: '40분', 3452: '차승원', 3453: '남친', 3454: '강아지', 3455: '신화', 3456: '마저도', 3457: '...^^', 3458: '되어서', 3459: '안타까', 3460: '트리', 3461: '고독', 3462: 's', 3463: '주고싶다', 3464: '무섭지', 3465: '쏘우', 3466: '맞추기', 3467: '진창', 3468: '공주', 3469: '상징', 3470: '나면', 3471: '돌', 3472: '적당한', 3473: '정점', 3474: '일반인', 3475: '능가', 3476: '만드냐', 3477: '초월', 3478: '객관', 3479: '화질', 3480: '리도', 3481: '무섭게', 3482: '너무하네', 3483: '로빈', 3484: '당장', 3485: '한석규', 3486: '섬', 3487: '다른사람', 3488: '있으나', 3489: '사랑스럽다', 3490: '싫은', 3491: '봤다는', 3492: '올레', 3493: '끝남', 3494: '없어도', 3495: '덩어리', 3496: '성과', 3497: '심하다', 3498: '가게', 3499: '허나', 3500: '안되', 3501: '엄정화', 3502: '깔끔한', 3503: '업', 3504: '보고싶네요', 3505: '대단', 3506: '마찬가지', 3507: '시키고', 3508: '적당', 3509: '실', 3510: '믿을', 3511: '니콜라스', 3512: '짜집기', 3513: '머냐', 3514: '쓰는데', 3515: '스릴러물', 3516: '비쥬', 3517: '클래식', 3518: '만들었냐', 3519: '4.44', 3520: '가짜', 3521: '독특하고', 3522: '남는게', 3523: '가까이', 3524: '나왔음', 3525: '아바타', 3526: '킬러', 3527: '스포츠', 3528: '버리지', 3529: 'ㅂ', 3530: '하신', 3531: '않았음', 3532: '할것', 3533: '수면제', 3534: '스텝', 3535: '아우', 3536: '화중', 3537: '해지', 3538: '하는것도', 3539: '...........', 3540: '아담', 3541: '되길', 3542: '안되네', 3543: '행', 3544: '대는', 3545: '뭣', 3546: '보려', 3547: '미스캐스팅', 3548: 'ㅜㅜㅜ', 3549: '거임', 3550: '장진', 3551: '잡는', 3552: '포드', 3553: '빠순이', 3554: '찍어', 3555: '시체', 3556: '된게', 3557: '원조', 3558: '하지마', 3559: '인권', 3560: '클라라', 3561: '메이', 3562: '첨으로', 3563: '이었고', 3564: '이러지', 3565: '아깝습니다', 3566: '봤어', 3567: '꿀', 3568: '위주', 3569: '없었는데', 3570: '눈치', 3571: '고등학생', 3572: '택시', 3573: '떄', 3574: '포함', 3575: '미안하다', 3576: '깜놀', 3577: '아쉬울', 3578: '터짐', 3579: '느껴지지', 3580: '영구', 3581: '흑백', 3582: '이상하다', 3583: '김희선', 3584: '미달', 3585: '우드', 3586: '조잡한', 3587: '믿기지', 3588: '사람과', 3589: 'ㅋㅋㅋㅋㅋㅋㅋㅋㅋㅋ', 3590: '충분한', 3591: '드네', 3592: '역작', 3593: '장소', 3594: '전문', 3595: '이드', 3596: '->', 3597: '슨', 3598: '볼라', 3599: '하지말고', 3600: 'bb', 3601: '허무', 3602: '~~!!', 3603: '다이하드', 3604: '지식', 3605: '인식', 3606: '나로', 3607: '리기', 3608: '혼란', 3609: '나올까', 3610: '!!!!!!', 3611: '기전', 3612: '에바', 3613: '인연', 3614: '벨', 3615: '않네', 3616: '사과', 3617: '천사', 3618: '납득', 3619: '해줘서', 3620: '있겠지만', 3621: '동감', 3622: '멋져', 3623: '싫어하는', 3624: '미스테리', 3625: 'is', 3626: '김수현', 3627: '당하는', 3628: '다니는', 3629: '잇어요', 3630: '돌아', 3631: '일부', 3632: '...!', 3633: '오직', 3634: '왕조현', 3635: '지지', 3636: '난해한', 3637: '였지', 3638: '맞다', 3639: '아니라면', 3640: 'bad', 3641: '망할', 3642: '돌아보게', 3643: '검사', 3644: '하기에는', 3645: '맙시', 3646: '관리', 3647: '들지', 3648: '태국', 3649: '망치', 3650: '넘치고', 3651: '온갖', 3652: '세계관', 3653: '데이', 3654: '당할', 3655: '주가', 3656: '웃겼다', 3657: '주인', 3658: '힘들었다', 3659: '놓은', 3660: '구조', 3661: '보는줄', 3662: '짱짱맨', 3663: '모욕', 3664: '시험', 3665: '스펙', 3666: '목사', 3667: '마누라', 3668: '세트', 3669: '공연', 3670: '껐다', 3671: '로맨틱코미디', 3672: '아까워요', 3673: '한동안', 3674: '농담', 3675: '한효주', 3676: '재앙', 3677: '테이큰', 3678: '외면', 3679: '유치원', 3680: '터지는', 3681: '싸이코패스', 3682: '되어야', 3683: '잇다', 3684: '.\"', 3685: '뉴스', 3686: '픽사', 3687: '뜨', 3688: '질문', 3689: '해본', 3690: '찍', 3691: '있는듯', 3692: '않아도', 3693: '청년', 3694: '뻔하다', 3695: '같다는', 3696: '떡밥', 3697: '될것', 3698: '좋아하네요', 3699: '기발한', 3700: '옥', 3701: '우는', 3702: '하기가', 3703: '소름끼치는', 3704: '볼까', 3705: '섹시', 3706: '좋더라', 3707: '머릿속', 3708: '만들었으면', 3709: '승부', 3710: '납니다', 3711: 'ㅋㅋㅋㅋㅋㅋㅋㅋㅋㅋㅋ', 3712: '파워', 3713: '난후', 3714: '넹', 3715: '알바생', 3716: '폼', 3717: '마블', 3718: '거듭', 3719: '음향', 3720: '스러', 3721: '했다가', 3722: '만난', 3723: '기억나는', 3724: '어째', 3725: '마을', 3726: '시골', 3727: '있었음', 3728: '-_-;;', 3729: '소품', 3730: '어쨌든', 3731: '조지', 3732: '주위', 3733: '어차피', 3734: '억지스럽고', 3735: '예고', 3736: '3시간', 3737: '뻔함', 3738: '바란다', 3739: '애니매이션', 3740: '참여', 3741: '저희', 3742: '성형', 3743: '어울림', 3744: '볼것', 3745: '였어', 3746: '엔딩크레딧', 3747: '로운', 3748: '롱', 3749: '에로물', 3750: '김혜수', 3751: '해놓고', 3752: '안될', 3753: '하는구나', 3754: '타인', 3755: '톤', 3756: '만들었네', 3757: '렉', 3758: '만화가', 3759: '^-^', 3760: '껴', 3761: '편하게', 3762: '차별', 3763: '있는가', 3764: '완벽하게', 3765: '학살', 3766: '스콧', 3767: '아련한', 3768: '장애', 3769: '상큼', 3770: '살리지', 3771: '불쌍해', 3772: '닷', 3773: '러셀', 3774: '종', 3775: '좋아하시는', 3776: '최민수', 3777: '누님', 3778: '하시고', 3779: '애인', 3780: '짱구', 3781: '미치는', 3782: '색채', 3783: '재방송', 3784: '라스', 3785: '강요', 3786: '나오나', 3787: '대역', 3788: '싶다면', 3789: '슬프네요', 3790: '신부', 3791: '유혹', 3792: '두고두고', 3793: '기사', 3794: '살때', 3795: '여지', 3796: '완벽하다', 3797: '느낀다', 3798: '반감', 3799: '헉', 3800: '층', 3801: '높은지', 3802: '복선', 3803: '볼줄', 3804: '전라도', 3805: '사이코', 3806: '지극히', 3807: '구석', 3808: '삶은', 3809: '어설프게', 3810: '대학', 3811: '환자', 3812: '된다고', 3813: '더욱더', 3814: '빠져들게', 3815: '동양', 3816: '입고', 3817: '끈', 3818: '하는가', 3819: '이럼', 3820: '많음', 3821: '뛰어넘는', 3822: '박찬욱', 3823: '부를', 3824: '제시카', 3825: '재치', 3826: '해야하나', 3827: '흘러가는', 3828: '자랑', 3829: '살아있는', 3830: '않으면', 3831: '향기', 3832: '광', 3833: '영활', 3834: '콜린', 3835: '..!!', 3836: '원주율', 3837: '되냐', 3838: '였으면', 3839: '절반', 3840: '홧팅', 3841: '잼있는', 3842: '곤', 3843: '둔', 3844: '기억난다', 3845: '하고도', 3846: '하더라', 3847: '아깝다는', 3848: '싶음', 3849: '설경구', 3850: '잔인하고', 3851: '시장', 3852: '슬퍼', 3853: '세련된', 3854: '나왔던', 3855: '남고', 3856: '치료', 3857: '원하는', 3858: '될수', 3859: '들의', 3860: '송승헌', 3861: '재미없었음', 3862: '오해', 3863: '러브스토리', 3864: '손예진', 3865: '!~', 3866: '그런거', 3867: '추격', 3868: '내는', 3869: '아니네요', 3870: '멀리', 3871: '차태현', 3872: '걸린', 3873: '먹기', 3874: '높네', 3875: '지루했음', 3876: '숨은', 3877: '예수', 3878: '자본', 3879: '이상함', 3880: '피디', 3881: '대상', 3882: '깨달음', 3883: '색깔', 3884: '새삼', 3885: '꼽', 3886: '잇고', 3887: '가네', 3888: '모독', 3889: '전지현', 3890: '람보', 3891: '들아', 3892: '답답해', 3893: '주온', 3894: '억지스런', 3895: '로드', 3896: '부담', 3897: '웃다가', 3898: '싶었던', 3899: '...(', 3900: '진영화', 3901: '백배', 3902: '힙합', 3903: '하고싶은', 3904: '크리스찬', 3905: '고작', 3906: '황정민', 3907: 'ㅓ', 3908: '살렸다', 3909: '신세계', 3910: '가식', 3911: '레이첼', 3912: '찌', 3913: '안되서', 3914: '정화', 3915: '있어도', 3916: '의해', 3917: '정선', 3918: '평화', 3919: '버릴', 3920: '재방', 3921: '없으니', 3922: '회상', 3923: '박평', 3924: '봐야겠다', 3925: '군더더기', 3926: '사무라이', 3927: '젊은이', 3928: '이정재', 3929: '피식', 3930: '재밋네', 3931: '갖춘', 3932: '없구', 3933: '오지', 3934: '할려고', 3935: '신비', 3936: '대학생', 3937: '60년', 3938: '주원', 3939: '하더니', 3940: '가관', 3941: '대하', 3942: '클라스', 3943: '엑스맨', 3944: '5년', 3945: '언어', 3946: '낀', 3947: '웬만하면', 3948: '크레딧', 3949: '웃긴다', 3950: '통쾌한', 3951: '매주', 3952: '에드', 3953: '건데', 3954: '잼나요', 3955: '번역', 3956: '김구라', 3957: '만든것', 3958: '재밌었습니다', 3959: '마시고', 3960: '우롱', 3961: '구혜선', 3962: '맞게', 3963: '의견', 3964: '왕자', 3965: '출현', 3966: '토니', 3967: '까는', 3968: '하던가', 3969: '디테', 3970: '주관', 3971: '납치', 3972: '혹', 3973: '개똥', 3974: '외로움', 3975: '밋밋한', 3976: '하고싶다', 3977: '겨울왕국', 3978: '킹', 3979: '재미있어서', 3980: '신도', 3981: '오랫동안', 3982: '수십', 3983: '하기에', 3984: '오그라드는', 3985: '왕가위', 3986: '완젼', 3987: '고어', 3988: '유행', 3989: '성유리', 3990: '*', 3991: '압', 3992: '투성이', 3993: '깊다', 3994: '댄스', 3995: '방황', 3996: '집안', 3997: '고맙습니다', 3998: '중후', 3999: '고해'}\n"
          ]
        }
      ]
    },
    {
      "cell_type": "code",
      "source": [
        "x = np.array(encoded_reviews)\n",
        "print(x.shape)\n",
        "\n",
        "y = labels\n",
        "print(y.shape)"
      ],
      "metadata": {
        "colab": {
          "base_uri": "https://localhost:8080/"
        },
        "id": "bLHkC_Bb1h-M",
        "outputId": "136acc8a-4be0-4eed-850c-19b7be35ec7f"
      },
      "execution_count": 19,
      "outputs": [
        {
          "output_type": "stream",
          "name": "stdout",
          "text": [
            "(200000, 128)\n",
            "(200000,)\n"
          ]
        }
      ]
    },
    {
      "cell_type": "code",
      "source": [
        "print(x)"
      ],
      "metadata": {
        "colab": {
          "base_uri": "https://localhost:8080/"
        },
        "id": "hCDJtmWP1tov",
        "outputId": "77262241-8066-4c59-fe17-99e16ba580a0"
      },
      "execution_count": 20,
      "outputs": [
        {
          "output_type": "stream",
          "name": "stdout",
          "text": [
            "[[ 102  166  135 ...    0    0    0]\n",
            " [1251    1    2 ...    0    0    0]\n",
            " [   1   15  323 ...    0    0    0]\n",
            " ...\n",
            " [ 466    1    1 ...    0    0    0]\n",
            " [1456 2240    1 ...    0    0    0]\n",
            " [ 877   22   41 ...    0    0    0]]\n"
          ]
        }
      ]
    },
    {
      "cell_type": "markdown",
      "source": [
        "# 모델 학습"
      ],
      "metadata": {
        "id": "A1LkcwKe1flF"
      }
    },
    {
      "cell_type": "markdown",
      "source": [
        "## train, test 분리 "
      ],
      "metadata": {
        "id": "MwqrSw462Go5"
      }
    },
    {
      "cell_type": "code",
      "source": [
        "from sklearn.model_selection import train_test_split\n",
        "\n",
        "train_x, test_x, train_y, test_y = train_test_split(x, y, test_size=0.2, shuffle=True)"
      ],
      "metadata": {
        "id": "Qgen-sXA1hg_"
      },
      "execution_count": 21,
      "outputs": []
    },
    {
      "cell_type": "code",
      "source": [
        "print(train_x.shape)\n",
        "print(train_y.shape)\n",
        "print(test_x.shape)\n",
        "print(test_y.shape)"
      ],
      "metadata": {
        "colab": {
          "base_uri": "https://localhost:8080/"
        },
        "id": "15Drw7UD2cvH",
        "outputId": "c46cc517-3fe2-40cd-8bd6-22a45f7c9d6f"
      },
      "execution_count": 22,
      "outputs": [
        {
          "output_type": "stream",
          "name": "stdout",
          "text": [
            "(160000, 128)\n",
            "(160000,)\n",
            "(40000, 128)\n",
            "(40000,)\n"
          ]
        }
      ]
    },
    {
      "cell_type": "markdown",
      "source": [
        "## 학습 실행 "
      ],
      "metadata": {
        "id": "QkJjF9K_2rg3"
      }
    },
    {
      "cell_type": "code",
      "source": [
        "from tensorflow.keras.preprocessing import sequence\n",
        "from tensorflow.keras import Sequential\n",
        "from tensorflow.keras.layers import Input, Dense, Dropout, Activation, BatchNormalization\n",
        "from tensorflow.keras.layers import Embedding\n",
        "from tensorflow.keras.layers import Conv1D, GlobalMaxPooling1D, Bidirectional, LSTM \n",
        "\n",
        "EMBEDDING_SIZE = 64\n",
        "\n",
        "model = Sequential()\n",
        "model.add(Input(SEQ_LENGTH))\n",
        "model.add(Embedding(VOCA_SIZE, EMBEDDING_SIZE))\n",
        "model.add(BatchNormalization())\n",
        "model.add(Bidirectional(LSTM(64)))\n",
        "model.add(Dense(250, activation=\"relu\"))\n",
        "model.add(BatchNormalization())\n",
        "model.add(Dense(1, activation=\"sigmoid\"))\n",
        "\n",
        "model.compile(loss=\"binary_crossentropy\", optimizer='adam', metrics=[\"accuracy\"])\n",
        "model.summary()\n",
        "\n",
        "model.fit(train_x, train_y, batch_size=32, epochs=5, validation_split=0.1)\n",
        "\n",
        "loss, acc = model.evaluate(test_x,test_y)\n",
        "print(\"loss=\",loss)\n",
        "print(\"acc=\", acc)"
      ],
      "metadata": {
        "colab": {
          "base_uri": "https://localhost:8080/"
        },
        "id": "X2VErZQv2l--",
        "outputId": "b1e362e0-3937-4b53-8919-7d268a944c05"
      },
      "execution_count": 23,
      "outputs": [
        {
          "output_type": "stream",
          "name": "stdout",
          "text": [
            "Model: \"sequential\"\n",
            "_________________________________________________________________\n",
            " Layer (type)                Output Shape              Param #   \n",
            "=================================================================\n",
            " embedding (Embedding)       (None, 128, 64)           256000    \n",
            "                                                                 \n",
            " batch_normalization (BatchN  (None, 128, 64)          256       \n",
            " ormalization)                                                   \n",
            "                                                                 \n",
            " bidirectional (Bidirectiona  (None, 128)              66048     \n",
            " l)                                                              \n",
            "                                                                 \n",
            " dense (Dense)               (None, 250)               32250     \n",
            "                                                                 \n",
            " batch_normalization_1 (Batc  (None, 250)              1000      \n",
            " hNormalization)                                                 \n",
            "                                                                 \n",
            " dense_1 (Dense)             (None, 1)                 251       \n",
            "                                                                 \n",
            "=================================================================\n",
            "Total params: 355,805\n",
            "Trainable params: 355,177\n",
            "Non-trainable params: 628\n",
            "_________________________________________________________________\n",
            "Epoch 1/5\n",
            "4500/4500 [==============================] - 83s 16ms/step - loss: 0.4005 - accuracy: 0.8133 - val_loss: 0.3456 - val_accuracy: 0.8432\n",
            "Epoch 2/5\n",
            "4500/4500 [==============================] - 66s 15ms/step - loss: 0.3434 - accuracy: 0.8448 - val_loss: 0.3409 - val_accuracy: 0.8443\n",
            "Epoch 3/5\n",
            "4500/4500 [==============================] - 67s 15ms/step - loss: 0.3138 - accuracy: 0.8600 - val_loss: 0.6607 - val_accuracy: 0.6923\n",
            "Epoch 4/5\n",
            "4500/4500 [==============================] - 66s 15ms/step - loss: 0.2871 - accuracy: 0.8728 - val_loss: 0.3402 - val_accuracy: 0.8482\n",
            "Epoch 5/5\n",
            "4500/4500 [==============================] - 66s 15ms/step - loss: 0.2612 - accuracy: 0.8846 - val_loss: 0.4238 - val_accuracy: 0.8221\n",
            "1250/1250 [==============================] - 8s 6ms/step - loss: 0.4285 - accuracy: 0.8253\n",
            "loss= 0.4284721314907074\n",
            "acc= 0.8252750039100647\n"
          ]
        }
      ]
    },
    {
      "cell_type": "markdown",
      "source": [
        "# 분류 실행 "
      ],
      "metadata": {
        "id": "H1q3PtV5XIj7"
      }
    },
    {
      "cell_type": "code",
      "source": [
        "def do_classify(test_text):\n",
        "  tokenized_text = tokenize([test_text])\n",
        "  encoded_text = encode(tokenized_text, word2index)\n",
        "  model_input = np.array(encoded_text)\n",
        "  y_ = model.predict(model_input)\n",
        "  predicted = \"긍정\" if y_>0.5 else \"부정\"\n",
        "\n",
        "  print(test_text, \"-->\", predicted, \",score :\", y_[0][0])\n",
        "\n",
        "do_classify(\"여운이 많이 남는 영화\")\n",
        "do_classify(\"여운이 많이 남는 영화. 스토리 전개는 뻔함.\")\n",
        "do_classify(\"여운이 많이 남는 영화. 스토리 전개는 뻔함. 시간 때우기 용\")\n",
        "do_classify(\"여운이 많이 남는 영화. 스토리 전개는 뻔함. 시간 때우기 용, 비추.\")"
      ],
      "metadata": {
        "colab": {
          "base_uri": "https://localhost:8080/"
        },
        "id": "V8HnV5T7XJvp",
        "outputId": "1f99f554-52d8-42bf-c6ba-ab32b86ec4da"
      },
      "execution_count": 24,
      "outputs": [
        {
          "output_type": "stream",
          "name": "stdout",
          "text": [
            "여운이 많이 남는 영화 --> 긍정 ,score : 0.9887748\n",
            "여운이 많이 남는 영화. 스토리 전개는 뻔함. --> 긍정 ,score : 0.74641144\n",
            "여운이 많이 남는 영화. 스토리 전개는 뻔함. 시간 때우기 용 --> 부정 ,score : 0.18241005\n",
            "여운이 많이 남는 영화. 스토리 전개는 뻔함. 시간 때우기 용, 비추. --> 부정 ,score : 0.020680418\n"
          ]
        }
      ]
    }
  ]
}