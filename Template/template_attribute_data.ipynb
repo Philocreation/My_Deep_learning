{
  "nbformat": 4,
  "nbformat_minor": 0,
  "metadata": {
    "colab": {
      "name": "template_attribute_data.ipynb",
      "provenance": [],
      "collapsed_sections": [],
      "authorship_tag": "ABX9TyPI+P+FeYJPhHNYJpCbkYu7",
      "include_colab_link": true
    },
    "kernelspec": {
      "name": "python3",
      "display_name": "Python 3"
    },
    "language_info": {
      "name": "python"
    },
    "accelerator": "GPU"
  },
  "cells": [
    {
      "cell_type": "markdown",
      "metadata": {
        "id": "view-in-github",
        "colab_type": "text"
      },
      "source": [
        "<a href=\"https://colab.research.google.com/github/Philocreation/My_Deep_learning/blob/main/Template/template_attribute_data.ipynb\" target=\"_parent\"><img src=\"https://colab.research.google.com/assets/colab-badge.svg\" alt=\"Open In Colab\"/></a>"
      ]
    },
    {
      "cell_type": "markdown",
      "source": [
        "# 속성 데이터 회귀/분류/2진 분류 Template"
      ],
      "metadata": {
        "id": "4Wi9MfG8AS7l"
      }
    },
    {
      "cell_type": "markdown",
      "source": [
        "# 데이터 준비 "
      ],
      "metadata": {
        "id": "0v3w6bDTAaNk"
      }
    },
    {
      "cell_type": "code",
      "execution_count": null,
      "metadata": {
        "id": "-wEpVLfC_sD8"
      },
      "outputs": [],
      "source": [
        "import numpy as np\n",
        "import pandas as pd\n",
        "import matplotlib.pyplot as plt "
      ]
    },
    {
      "cell_type": "code",
      "source": [
        "!wget https://raw.githubusercontent.com/dhrim/MDC_2021/master/material/deep_learning/car_classification.csv"
      ],
      "metadata": {
        "colab": {
          "base_uri": "https://localhost:8080/"
        },
        "id": "mRZz8ZTyAiP9",
        "outputId": "cfc96130-be5a-4baa-c5b9-c04a4a52421b"
      },
      "execution_count": null,
      "outputs": [
        {
          "output_type": "stream",
          "name": "stdout",
          "text": [
            "--2022-01-06 04:10:26--  https://raw.githubusercontent.com/dhrim/MDC_2021/master/material/deep_learning/car_classification.csv\n",
            "Resolving raw.githubusercontent.com (raw.githubusercontent.com)... 185.199.108.133, 185.199.109.133, 185.199.110.133, ...\n",
            "Connecting to raw.githubusercontent.com (raw.githubusercontent.com)|185.199.108.133|:443... connected.\n",
            "HTTP request sent, awaiting response... 200 OK\n",
            "Length: 54766 (53K) [text/plain]\n",
            "Saving to: ‘car_classification.csv’\n",
            "\n",
            "\rcar_classification.   0%[                    ]       0  --.-KB/s               \rcar_classification. 100%[===================>]  53.48K  --.-KB/s    in 0.003s  \n",
            "\n",
            "2022-01-06 04:10:26 (15.0 MB/s) - ‘car_classification.csv’ saved [54766/54766]\n",
            "\n"
          ]
        }
      ]
    },
    {
      "cell_type": "code",
      "source": [
        "data = pd.read_csv('car_classification.csv')\n",
        "data.head(10)"
      ],
      "metadata": {
        "colab": {
          "base_uri": "https://localhost:8080/",
          "height": 444
        },
        "id": "NM0DfwIXAowm",
        "outputId": "20007fa5-4cec-4595-d618-6252c4b6b30c"
      },
      "execution_count": null,
      "outputs": [
        {
          "output_type": "execute_result",
          "data": {
            "text/html": [
              "\n",
              "  <div id=\"df-5be1942e-1131-49df-af5e-465671c5f0af\">\n",
              "    <div class=\"colab-df-container\">\n",
              "      <div>\n",
              "<style scoped>\n",
              "    .dataframe tbody tr th:only-of-type {\n",
              "        vertical-align: middle;\n",
              "    }\n",
              "\n",
              "    .dataframe tbody tr th {\n",
              "        vertical-align: top;\n",
              "    }\n",
              "\n",
              "    .dataframe thead th {\n",
              "        text-align: right;\n",
              "    }\n",
              "</style>\n",
              "<table border=\"1\" class=\"dataframe\">\n",
              "  <thead>\n",
              "    <tr style=\"text-align: right;\">\n",
              "      <th></th>\n",
              "      <th>MPG</th>\n",
              "      <th>Cylinders</th>\n",
              "      <th>Displacement</th>\n",
              "      <th>Horsepower</th>\n",
              "      <th>Weight</th>\n",
              "      <th>Acceleration</th>\n",
              "      <th>Model Year</th>\n",
              "      <th>class</th>\n",
              "    </tr>\n",
              "  </thead>\n",
              "  <tbody>\n",
              "    <tr>\n",
              "      <th>0</th>\n",
              "      <td>-0.697747</td>\n",
              "      <td>1.482053</td>\n",
              "      <td>1.075915</td>\n",
              "      <td>0.663285</td>\n",
              "      <td>0.619748</td>\n",
              "      <td>-1.283618</td>\n",
              "      <td>-1.623241</td>\n",
              "      <td>0</td>\n",
              "    </tr>\n",
              "    <tr>\n",
              "      <th>1</th>\n",
              "      <td>-1.082115</td>\n",
              "      <td>1.482053</td>\n",
              "      <td>1.486832</td>\n",
              "      <td>1.572585</td>\n",
              "      <td>0.842258</td>\n",
              "      <td>-1.464852</td>\n",
              "      <td>-1.623241</td>\n",
              "      <td>0</td>\n",
              "    </tr>\n",
              "    <tr>\n",
              "      <th>2</th>\n",
              "      <td>-0.697747</td>\n",
              "      <td>1.482053</td>\n",
              "      <td>1.181033</td>\n",
              "      <td>1.182885</td>\n",
              "      <td>0.539692</td>\n",
              "      <td>-1.646086</td>\n",
              "      <td>-1.623241</td>\n",
              "      <td>0</td>\n",
              "    </tr>\n",
              "    <tr>\n",
              "      <th>3</th>\n",
              "      <td>-0.953992</td>\n",
              "      <td>1.482053</td>\n",
              "      <td>1.047246</td>\n",
              "      <td>1.182885</td>\n",
              "      <td>0.536160</td>\n",
              "      <td>-1.283618</td>\n",
              "      <td>-1.623241</td>\n",
              "      <td>0</td>\n",
              "    </tr>\n",
              "    <tr>\n",
              "      <th>4</th>\n",
              "      <td>-0.825870</td>\n",
              "      <td>1.482053</td>\n",
              "      <td>1.028134</td>\n",
              "      <td>0.923085</td>\n",
              "      <td>0.554997</td>\n",
              "      <td>-1.827320</td>\n",
              "      <td>-1.623241</td>\n",
              "      <td>0</td>\n",
              "    </tr>\n",
              "    <tr>\n",
              "      <th>5</th>\n",
              "      <td>-1.082115</td>\n",
              "      <td>1.482053</td>\n",
              "      <td>2.241772</td>\n",
              "      <td>2.429924</td>\n",
              "      <td>1.605147</td>\n",
              "      <td>-2.008554</td>\n",
              "      <td>-1.623241</td>\n",
              "      <td>0</td>\n",
              "    </tr>\n",
              "    <tr>\n",
              "      <th>6</th>\n",
              "      <td>-1.210238</td>\n",
              "      <td>1.482053</td>\n",
              "      <td>2.480677</td>\n",
              "      <td>3.001484</td>\n",
              "      <td>1.620452</td>\n",
              "      <td>-2.371022</td>\n",
              "      <td>-1.623241</td>\n",
              "      <td>0</td>\n",
              "    </tr>\n",
              "    <tr>\n",
              "      <th>7</th>\n",
              "      <td>-1.210238</td>\n",
              "      <td>1.482053</td>\n",
              "      <td>2.346890</td>\n",
              "      <td>2.871584</td>\n",
              "      <td>1.571005</td>\n",
              "      <td>-2.552256</td>\n",
              "      <td>-1.623241</td>\n",
              "      <td>0</td>\n",
              "    </tr>\n",
              "    <tr>\n",
              "      <th>8</th>\n",
              "      <td>-1.210238</td>\n",
              "      <td>1.482053</td>\n",
              "      <td>2.490234</td>\n",
              "      <td>3.131384</td>\n",
              "      <td>1.704040</td>\n",
              "      <td>-2.008554</td>\n",
              "      <td>-1.623241</td>\n",
              "      <td>0</td>\n",
              "    </tr>\n",
              "    <tr>\n",
              "      <th>9</th>\n",
              "      <td>-1.082115</td>\n",
              "      <td>1.482053</td>\n",
              "      <td>1.869080</td>\n",
              "      <td>2.222085</td>\n",
              "      <td>1.027093</td>\n",
              "      <td>-2.552256</td>\n",
              "      <td>-1.623241</td>\n",
              "      <td>0</td>\n",
              "    </tr>\n",
              "  </tbody>\n",
              "</table>\n",
              "</div>\n",
              "      <button class=\"colab-df-convert\" onclick=\"convertToInteractive('df-5be1942e-1131-49df-af5e-465671c5f0af')\"\n",
              "              title=\"Convert this dataframe to an interactive table.\"\n",
              "              style=\"display:none;\">\n",
              "        \n",
              "  <svg xmlns=\"http://www.w3.org/2000/svg\" height=\"24px\"viewBox=\"0 0 24 24\"\n",
              "       width=\"24px\">\n",
              "    <path d=\"M0 0h24v24H0V0z\" fill=\"none\"/>\n",
              "    <path d=\"M18.56 5.44l.94 2.06.94-2.06 2.06-.94-2.06-.94-.94-2.06-.94 2.06-2.06.94zm-11 1L8.5 8.5l.94-2.06 2.06-.94-2.06-.94L8.5 2.5l-.94 2.06-2.06.94zm10 10l.94 2.06.94-2.06 2.06-.94-2.06-.94-.94-2.06-.94 2.06-2.06.94z\"/><path d=\"M17.41 7.96l-1.37-1.37c-.4-.4-.92-.59-1.43-.59-.52 0-1.04.2-1.43.59L10.3 9.45l-7.72 7.72c-.78.78-.78 2.05 0 2.83L4 21.41c.39.39.9.59 1.41.59.51 0 1.02-.2 1.41-.59l7.78-7.78 2.81-2.81c.8-.78.8-2.07 0-2.86zM5.41 20L4 18.59l7.72-7.72 1.47 1.35L5.41 20z\"/>\n",
              "  </svg>\n",
              "      </button>\n",
              "      \n",
              "  <style>\n",
              "    .colab-df-container {\n",
              "      display:flex;\n",
              "      flex-wrap:wrap;\n",
              "      gap: 12px;\n",
              "    }\n",
              "\n",
              "    .colab-df-convert {\n",
              "      background-color: #E8F0FE;\n",
              "      border: none;\n",
              "      border-radius: 50%;\n",
              "      cursor: pointer;\n",
              "      display: none;\n",
              "      fill: #1967D2;\n",
              "      height: 32px;\n",
              "      padding: 0 0 0 0;\n",
              "      width: 32px;\n",
              "    }\n",
              "\n",
              "    .colab-df-convert:hover {\n",
              "      background-color: #E2EBFA;\n",
              "      box-shadow: 0px 1px 2px rgba(60, 64, 67, 0.3), 0px 1px 3px 1px rgba(60, 64, 67, 0.15);\n",
              "      fill: #174EA6;\n",
              "    }\n",
              "\n",
              "    [theme=dark] .colab-df-convert {\n",
              "      background-color: #3B4455;\n",
              "      fill: #D2E3FC;\n",
              "    }\n",
              "\n",
              "    [theme=dark] .colab-df-convert:hover {\n",
              "      background-color: #434B5C;\n",
              "      box-shadow: 0px 1px 3px 1px rgba(0, 0, 0, 0.15);\n",
              "      filter: drop-shadow(0px 1px 2px rgba(0, 0, 0, 0.3));\n",
              "      fill: #FFFFFF;\n",
              "    }\n",
              "  </style>\n",
              "\n",
              "      <script>\n",
              "        const buttonEl =\n",
              "          document.querySelector('#df-5be1942e-1131-49df-af5e-465671c5f0af button.colab-df-convert');\n",
              "        buttonEl.style.display =\n",
              "          google.colab.kernel.accessAllowed ? 'block' : 'none';\n",
              "\n",
              "        async function convertToInteractive(key) {\n",
              "          const element = document.querySelector('#df-5be1942e-1131-49df-af5e-465671c5f0af');\n",
              "          const dataTable =\n",
              "            await google.colab.kernel.invokeFunction('convertToInteractive',\n",
              "                                                     [key], {});\n",
              "          if (!dataTable) return;\n",
              "\n",
              "          const docLinkHtml = 'Like what you see? Visit the ' +\n",
              "            '<a target=\"_blank\" href=https://colab.research.google.com/notebooks/data_table.ipynb>data table notebook</a>'\n",
              "            + ' to learn more about interactive tables.';\n",
              "          element.innerHTML = '';\n",
              "          dataTable['output_type'] = 'display_data';\n",
              "          await google.colab.output.renderOutput(dataTable, element);\n",
              "          const docLink = document.createElement('div');\n",
              "          docLink.innerHTML = docLinkHtml;\n",
              "          element.appendChild(docLink);\n",
              "        }\n",
              "      </script>\n",
              "    </div>\n",
              "  </div>\n",
              "  "
            ],
            "text/plain": [
              "        MPG  Cylinders  Displacement  ...  Acceleration  Model Year  class\n",
              "0 -0.697747   1.482053      1.075915  ...     -1.283618   -1.623241      0\n",
              "1 -1.082115   1.482053      1.486832  ...     -1.464852   -1.623241      0\n",
              "2 -0.697747   1.482053      1.181033  ...     -1.646086   -1.623241      0\n",
              "3 -0.953992   1.482053      1.047246  ...     -1.283618   -1.623241      0\n",
              "4 -0.825870   1.482053      1.028134  ...     -1.827320   -1.623241      0\n",
              "5 -1.082115   1.482053      2.241772  ...     -2.008554   -1.623241      0\n",
              "6 -1.210238   1.482053      2.480677  ...     -2.371022   -1.623241      0\n",
              "7 -1.210238   1.482053      2.346890  ...     -2.552256   -1.623241      0\n",
              "8 -1.210238   1.482053      2.490234  ...     -2.008554   -1.623241      0\n",
              "9 -1.082115   1.482053      1.869080  ...     -2.552256   -1.623241      0\n",
              "\n",
              "[10 rows x 8 columns]"
            ]
          },
          "metadata": {},
          "execution_count": 4
        }
      ]
    },
    {
      "cell_type": "code",
      "source": [
        "np_data = data.to_numpy()\n",
        "np.random.shuffle(np_data)\n",
        "\n",
        "x = np_data[:,:7]\n",
        "y = np_data[:,7]\n",
        "\n",
        "i = int(len(x)*0.8)\n",
        "train_x, test_x = x[:i], x[i:]\n",
        "train_y, test_y = y[:i], y[i:]"
      ],
      "metadata": {
        "id": "86715JbkAxYv"
      },
      "execution_count": null,
      "outputs": []
    },
    {
      "cell_type": "code",
      "source": [
        "print(y[0])"
      ],
      "metadata": {
        "colab": {
          "base_uri": "https://localhost:8080/"
        },
        "id": "uJGSc4GUGRM3",
        "outputId": "49a92ad6-661e-447e-a78c-af85dda18ed8"
      },
      "execution_count": null,
      "outputs": [
        {
          "output_type": "stream",
          "name": "stdout",
          "text": [
            "2.0\n"
          ]
        }
      ]
    },
    {
      "cell_type": "code",
      "source": [
        "print(train_x[:5])\n",
        "print(train_y[:5])"
      ],
      "metadata": {
        "colab": {
          "base_uri": "https://localhost:8080/"
        },
        "id": "Y7mJsmbeB58Y",
        "outputId": "5f7bb77e-c348-4034-c7c6-0ca664b73d5b"
      },
      "execution_count": null,
      "outputs": [
        {
          "output_type": "stream",
          "name": "stdout",
          "text": [
            "[[ 1.09597353 -0.86291079 -0.48174752 -0.22003462 -0.36800476 -0.59492837\n",
            "   1.63432105]\n",
            " [-1.08211534  1.48205303  1.86907996  2.22208456  1.02709346 -2.55225565\n",
            "  -1.6232409 ]\n",
            " [ 0.96785066 -0.86291079 -0.72065276 -0.5837545  -0.30325336  1.39864571\n",
            "   1.63432105]\n",
            " [-0.69774672  0.30957112  0.29230543 -0.24601461  0.95056909  1.25365851\n",
            "  -0.26592342]\n",
            " [-1.3383611   1.48205303  1.07591459  0.66328508  1.31906339 -0.55868157\n",
            "  -1.08031391]]\n",
            "[2. 0. 0. 0. 0.]\n"
          ]
        }
      ]
    },
    {
      "cell_type": "code",
      "source": [
        "print(train_x.shape)\n",
        "print(train_y.shape)\n",
        "print(test_x.shape)\n",
        "print(test_y.shape)"
      ],
      "metadata": {
        "colab": {
          "base_uri": "https://localhost:8080/"
        },
        "id": "7UctI-DPF7Wz",
        "outputId": "544cc099-00d3-4379-d930-0b9a66e772a0"
      },
      "execution_count": null,
      "outputs": [
        {
          "output_type": "stream",
          "name": "stdout",
          "text": [
            "(313, 7)\n",
            "(313,)\n",
            "(79, 7)\n",
            "(79,)\n"
          ]
        }
      ]
    },
    {
      "cell_type": "code",
      "source": [
        "import numpy as np\n",
        "import pandas as pd \n",
        "import matplotlib.pyplot as plt\n",
        "\n",
        "import tensorflow as tf \n",
        "\n",
        "from tensorflow import keras \n",
        "from tensorflow.keras import optimizers\n",
        "from tensorflow.keras.layers import Dense \n",
        "\n",
        "model = keras.Sequential()\n",
        "model.add(Dense(10, activation='relu', input_shape=(7,)))\n",
        "model.add(Dense(10, activation='relu'))\n",
        "model.add(Dense(3, activation=\"softmax\"))\n",
        "\n",
        "\n",
        "# 예측 : model.compile(optimizer=\"SGD\",  loss=\"mse\", metrics=[\"mape\"])\n",
        "# 분류 : model.compile(optimizer=\"Adam\", loss=\"sparse_categorical_crossentropy\", metrics=[\"acc\"])\n",
        "# 2진 분류 : model.compile(optimizer=\"Adam\", loss=\"binary_crossentropy\", metrics=[\"acc,\"AUC\", Precision(), Recall()])\n",
        "model.compile(optimizer=\"Adam\", loss=\"sparse_categorical_crossentropy\", metrics=[\"acc\"])\n",
        "model.summary()\n",
        "\n",
        "history = model.fit(train_x, train_y, epochs=1000, verbose=0, batch_size=128, validation_split=0.1)\n"
      ],
      "metadata": {
        "colab": {
          "base_uri": "https://localhost:8080/"
        },
        "id": "Y_XBh3ZeL4_n",
        "outputId": "9704f309-918f-4dbf-a4c3-4d97f77cb2e7"
      },
      "execution_count": null,
      "outputs": [
        {
          "output_type": "stream",
          "name": "stdout",
          "text": [
            "Model: \"sequential_4\"\n",
            "_________________________________________________________________\n",
            " Layer (type)                Output Shape              Param #   \n",
            "=================================================================\n",
            " dense_5 (Dense)             (None, 10)                80        \n",
            "                                                                 \n",
            " dense_6 (Dense)             (None, 10)                110       \n",
            "                                                                 \n",
            " dense_7 (Dense)             (None, 3)                 33        \n",
            "                                                                 \n",
            "=================================================================\n",
            "Total params: 223\n",
            "Trainable params: 223\n",
            "Non-trainable params: 0\n",
            "_________________________________________________________________\n"
          ]
        }
      ]
    },
    {
      "cell_type": "code",
      "source": [
        "plt.plot(history.history['loss'])\n",
        "plt.plot(history.history['val_loss'])\n",
        "plt.show()"
      ],
      "metadata": {
        "colab": {
          "base_uri": "https://localhost:8080/",
          "height": 267
        },
        "id": "ARKZfoWSlFWN",
        "outputId": "c94b886b-a0ca-4973-9265-6f626dad791d"
      },
      "execution_count": null,
      "outputs": [
        {
          "output_type": "display_data",
          "data": {
            "image/png": "[encoded data removed]",
            "text/plain": [
              "<Figure size 432x288 with 1 Axes>"
            ]
          },
          "metadata": {
            "needs_background": "light"
          }
        }
      ]
    },
    {
      "cell_type": "code",
      "source": [
        "loss, acc = model.evaluate(test_x, test_y)\n",
        "print(\"loss=\", loss)\n",
        "print(\"acc=\", acc)"
      ],
      "metadata": {
        "colab": {
          "base_uri": "https://localhost:8080/"
        },
        "id": "p2bIwFKdw4ga",
        "outputId": "4944eeb8-84c6-4614-e30a-9d1615610408"
      },
      "execution_count": null,
      "outputs": [
        {
          "output_type": "stream",
          "name": "stdout",
          "text": [
            "3/3 [==============================] - 0s 3ms/step - loss: 0.4686 - acc: 0.8101\n",
            "loss= 0.46857210993766785\n",
            "acc= 0.8101266026496887\n"
          ]
        }
      ]
    },
    {
      "cell_type": "code",
      "source": [
        "print(test_x.shape)\n",
        "print(test_x)"
      ],
      "metadata": {
        "colab": {
          "base_uri": "https://localhost:8080/"
        },
        "id": "ry6PR31Uz9ma",
        "outputId": "a3b94b2c-9b32-441e-9fc4-f06c35e6cec2"
      },
      "execution_count": null,
      "outputs": [
        {
          "output_type": "stream",
          "name": "stdout",
          "text": [
            "(79, 7)\n",
            "[[-6.97746719e-01  1.48205303e+00  1.18103289e+00  1.18288491e+00\n",
            "   5.39692059e-01 -1.64608561e+00 -1.62324090e+00]\n",
            " [ 1.40346843e+00 -8.62910793e-01 -9.21333150e-01 -1.02541435e+00\n",
            "  -1.09792957e+00  2.38748065e-01  1.36285755e+00]\n",
            " [-6.97746719e-01  3.09571117e-01  5.31210658e-01 -6.87674463e-01\n",
            "   7.02159193e-01  1.97859454e+00  5.54007134e-03]\n",
            " [-8.25869594e-01  3.09571117e-01  3.49642682e-01  1.43685258e-01\n",
            "   1.09419945e+00  1.97859454e+00 -2.65923425e-01]\n",
            " [ 7.09905319e-02 -8.62910793e-01 -5.77309617e-01 -2.20034620e-01\n",
            "  -3.24444729e-01 -7.39915575e-01 -2.65923425e-01]\n",
            " [-6.97746719e-01  3.09571117e-01  3.59198891e-01 -1.16114655e-01\n",
            "  -2.22019797e-01 -1.96213553e-01 -8.08850416e-01]\n",
            " [ 1.49315445e+00 -8.62910793e-01 -1.08378871e+00 -1.15531431e+00\n",
            "  -1.43345952e+00  2.02501263e-01  1.36285755e+00]\n",
            " [-7.36183582e-01  3.09571117e-01  3.49642682e-01  1.57258478e+00\n",
            "   5.50287741e-01 -7.76162376e-01  5.48467063e-01]\n",
            " [ 1.28815785e+00 -8.62910793e-01 -9.21333150e-01 -5.57774507e-01\n",
            "  -1.06261062e+00  1.30007660e-01  2.77003567e-01]\n",
            " [ 4.55359157e-01 -8.62910793e-01 -9.30889360e-01 -4.27874551e-01\n",
            "  -1.03317817e+00  3.47488469e-01 -1.08031391e+00]\n",
            " [-4.41500969e-01  3.09571117e-01  3.59198891e-01 -1.16114655e-01\n",
            "  -7.48575371e-02  1.66254462e-01 -2.65923425e-01]\n",
            " [-1.85255219e-01 -8.62910793e-01 -5.19972361e-01 -8.43554411e-01\n",
            "  -6.70570364e-01  1.25365851e+00 -1.35177741e+00]\n",
            " [-4.41500969e-01 -8.62910793e-01 -5.19972361e-01 -3.75914568e-01\n",
            "  -6.70570364e-01  1.43489251e+00 -1.08031391e+00]\n",
            " [ 7.11604908e-01 -8.62910793e-01 -1.20801943e+00 -1.44109421e+00\n",
            "  -1.30748862e+00  1.43489251e+00 -8.08850416e-01]\n",
            " [ 3.25536693e-02 -1.44915175e+00 -1.18890701e+00 -1.16114655e-01\n",
            "  -6.56442787e-01 -1.10238359e+00  1.09139405e+00]\n",
            " [ 5.19420595e-01 -8.62910793e-01 -5.77309617e-01 -2.46014611e-01\n",
            "  -4.91621056e-01 -4.86187965e-01  5.48467063e-01]\n",
            " [ 9.67850658e-01 -8.62910793e-01 -9.88226615e-01 -9.47474376e-01\n",
            "  -1.18622692e+00  7.46203285e-01  1.63432105e+00]\n",
            " [-1.21023822e+00  1.48205303e+00  1.04724596e+00  1.18288491e+00\n",
            "   1.50625378e+00 -1.49795455e-02 -5.37386920e-01]\n",
            " [ 3.27236282e-01 -8.62910793e-01 -9.88226615e-01 -8.95514394e-01\n",
            "  -1.20388639e+00  1.79736053e+00 -1.35177741e+00]\n",
            " [-5.43999269e-01  3.09571117e-01  3.49642682e-01  1.37853015e-02\n",
            "   6.56244568e-01  1.32615211e+00  5.48467063e-01]\n",
            " [-1.85255219e-01  3.09571117e-01  3.42877764e-02 -2.46014611e-01\n",
            "  -1.70218681e-01 -1.49795455e-02 -1.62324090e+00]\n",
            " [ 1.99113407e-01 -8.62910793e-01 -8.06658639e-01 -4.53854542e-01\n",
            "  -3.59763672e-01  7.09956484e-01 -1.62324090e+00]\n",
            " [ 3.27236282e-01 -8.62910793e-01 -1.10290113e+00 -9.73454368e-01\n",
            "  -1.19446801e+00 -1.49795455e-02 -5.37386920e-01]\n",
            " [-9.53992470e-01  1.48205303e+00  1.18103289e+00  1.18288491e+00\n",
            "   1.78998262e+00 -3.77447560e-01 -2.65923425e-01]\n",
            " [-1.21023822e+00  1.48205303e+00  1.49638779e+00  1.26082488e+00\n",
            "   1.35555963e+00 -9.21149582e-01 -1.08031391e+00]\n",
            " [-1.46648397e+00  1.48205303e+00  2.24177212e+00  2.42992449e+00\n",
            "   2.32447594e+00 -1.46485160e+00 -8.08850416e-01]\n",
            " [ 4.55359157e-01 -8.62910793e-01 -9.30889360e-01 -4.27874551e-01\n",
            "  -9.97859229e-01 -3.77447560e-01 -1.35177741e+00]\n",
            " [ 1.32659471e+00 -8.62910793e-01 -9.30889360e-01 -9.73454368e-01\n",
            "  -9.80199758e-01  8.91190491e-01  1.09139405e+00]\n",
            " [-5.18374694e-01  3.09571117e-01  3.59198891e-01 -3.75914568e-01\n",
            "   2.73622693e-01  6.01216079e-01  5.48467063e-01]\n",
            " [ 1.35221928e+00 -8.62910793e-01 -8.25771058e-01 -8.95514394e-01\n",
            "  -8.62469950e-01  4.92475675e-01  1.63432105e+00]\n",
            " [-1.33836110e+00  1.48205303e+00  1.48683159e+00  1.18288491e+00\n",
            "   2.02661953e+00 -3.77447560e-01 -5.37386920e-01]\n",
            " [-6.84934432e-01  1.48205303e+00  1.02813354e+00  8.97105006e-01\n",
            "   2.67736203e-01 -1.57359201e+00  5.48467063e-01]\n",
            " [-7.61808157e-01  3.09571117e-01  6.07660332e-01 -2.46014611e-01\n",
            "   2.53608626e-01  8.18696888e-01  5.54007134e-03]\n",
            " [-9.53992470e-01  3.09571117e-01  2.92305427e-01  1.37853015e-02\n",
            "   5.43223953e-01 -1.49795455e-02 -1.35177741e+00]\n",
            " [-3.64627244e-01  3.09571117e-01  3.49642682e-01  1.37853015e-02\n",
            "   4.73763366e-01  9.37608589e-02  5.48467063e-01]\n",
            " [-3.13378094e-01 -8.62910793e-01 -7.11096547e-01 -4.53854542e-01\n",
            "   1.66683784e-03  1.43489251e+00 -1.08031391e+00]\n",
            " [ 9.67850658e-01 -8.62910793e-01 -1.13156975e+00 -1.36315424e+00\n",
            "  -1.56413960e+00  3.47488469e-01 -5.37386920e-01]\n",
            " [-5.69623844e-01 -1.44915175e+00 -1.18890701e+00 -1.94054629e-01\n",
            "  -7.62399614e-01 -7.39915575e-01 -1.08031391e+00]\n",
            " [ 1.08316125e+00 -8.62910793e-01 -1.00733903e+00 -8.69534403e-01\n",
            "  -1.23920533e+00 -5.58681567e-01  8.19930559e-01]\n",
            " [ 2.55657431e+00 -8.62910793e-01 -9.97782825e-01 -1.46707420e+00\n",
            "  -7.56513123e-01  2.95725817e+00  1.09139405e+00]\n",
            " [ 1.18565955e+00  3.09571117e-01 -2.52398502e-01  7.15245066e-01\n",
            "  -7.95667294e-02 -1.50109841e+00  1.09139405e+00]\n",
            " [ 3.27236282e-01 -8.62910793e-01 -9.30889360e-01 -1.51903418e+00\n",
            "  -1.20977288e+00  1.97859454e+00 -8.08850416e-01]\n",
            " [-9.53992470e-01  1.48205303e+00  1.49638779e+00  1.15690492e+00\n",
            "   1.59808303e+00 -3.77447560e-01  2.77003567e-01]\n",
            " [-3.13378094e-01  3.09571117e-01  3.49642682e-01  1.43685258e-01\n",
            "   7.23047224e-02 -1.96213553e-01 -2.65923425e-01]\n",
            " [ 7.11604908e-01 -8.62910793e-01 -5.67753408e-01 -5.31794516e-01\n",
            "  -5.32826489e-01  1.66254462e-01  1.63432105e+00]\n",
            " [-1.01805391e+00  1.48205303e+00  1.96464205e+00  2.22208456e+00\n",
            "   1.58631005e+00 -1.21112399e+00  2.77003567e-01]\n",
            " [ 4.55359157e-01 -8.62910793e-01 -5.19972361e-01 -4.79834533e-01\n",
            "  -2.20842499e-01  2.12672560e-02  1.63432105e+00]\n",
            " [ 9.67850658e-01 -8.62910793e-01 -1.10290113e+00 -9.73454368e-01\n",
            "  -1.15090798e+00  1.66254462e-01 -5.37386920e-01]\n",
            " [ 5.83482033e-01 -8.62910793e-01 -9.21333150e-01 -6.35714481e-01\n",
            "  -9.57831094e-01 -1.96213553e-01 -1.08031391e+00]\n",
            " [-1.08211534e+00  3.09571117e-01  5.31210658e-01 -1.16114655e-01\n",
            "   4.21962251e-01  5.28722476e-01 -5.37386920e-01]\n",
            " [ 3.78485432e-01 -8.62910793e-01 -5.19972361e-01 -4.27874551e-01\n",
            "  -1.26658652e-01  9.27437293e-01  1.09139405e+00]\n",
            " [-6.97746719e-01  3.09571117e-01  5.31210658e-01  1.37853015e-02\n",
            "   5.66769914e-01  1.66254462e-01 -2.65923425e-01]\n",
            " [-1.33836110e+00  1.48205303e+00  1.48683159e+00  1.83238469e+00\n",
            "   1.32141798e+00 -9.21149582e-01 -8.08850416e-01]\n",
            " [ 2.50362557e-01 -2.76669838e-01 -1.09055363e-01 -7.13654455e-01\n",
            "   6.50358078e-01  1.65237332e+00  8.19930559e-01]\n",
            " [ 2.22345483e+00 -8.62910793e-01 -1.04556387e+00 -1.02541435e+00\n",
            "  -1.02140519e+00  1.32615211e+00  1.09139405e+00]\n",
            " [ 2.96656751e+00 -8.62910793e-01 -1.03600766e+00 -1.02541435e+00\n",
            "  -1.02140519e+00  8.54943690e-01  1.09139405e+00]\n",
            " [-1.85255219e-01  3.09571117e-01  2.92305427e-01 -1.16114655e-01\n",
            "   3.00700549e-01 -5.12263470e-02  5.54007134e-03]\n",
            " [ 3.27236282e-01 -8.62910793e-01 -3.67073013e-01 -3.23954585e-01\n",
            "  -4.62188604e-01 -3.77447560e-01  1.63432105e+00]\n",
            " [ 1.99113407e-01 -8.62910793e-01 -7.01540337e-01  2.73585214e-01\n",
            "  -3.60940970e-01 -7.39915575e-01 -2.65923425e-01]\n",
            " [ 5.83482033e-01 -8.62910793e-01 -7.49321384e-01 -3.75914568e-01\n",
            "  -1.00610032e+00 -5.58681567e-01 -1.35177741e+00]\n",
            " [ 7.09905319e-02 -8.62910793e-01 -7.11096547e-01 -1.94054629e-01\n",
            "  -5.75209220e-01 -1.96213553e-01 -5.37386920e-01]\n",
            " [ 5.96294320e-01 -8.62910793e-01 -5.10416152e-01 -6.35714481e-01\n",
            "   2.97168655e-01  1.76111373e+00  1.36285755e+00]\n",
            " [ 5.83482033e-01 -8.62910793e-01 -5.19972361e-01 -3.75914568e-01\n",
            "  -8.40101287e-01 -1.49795455e-02 -1.35177741e+00]\n",
            " [-4.15876394e-01  3.09571117e-01  5.34001949e-02 -4.27874551e-01\n",
            "   9.70279820e-02  5.64969278e-01  1.36285755e+00]\n",
            " [ 1.60846503e+00 -8.62910793e-01 -8.54439686e-01 -7.91594429e-01\n",
            "  -1.17445394e+00 -8.74731484e-02  1.63432105e+00]\n",
            " [ 8.26915495e-01 -8.62910793e-01 -9.21333150e-01 -1.02541435e+00\n",
            "  -7.03534710e-01  1.86985413e+00  1.36285755e+00]\n",
            " [-1.21193781e-01  3.09571117e-01  3.59198891e-01 -3.75914568e-01\n",
            "   1.26460434e-01  7.46203285e-01  5.54007134e-03]\n",
            " [ 1.35051969e-01 -8.62910793e-01 -9.21333150e-01 -1.15531431e+00\n",
            "  -9.57831094e-01  2.37730935e+00  5.54007134e-03]\n",
            " [ 2.31314085e+00 -8.62910793e-01 -9.21333150e-01 -7.39634446e-01\n",
            "  -9.81377056e-01 -3.04953957e-01  1.09139405e+00]\n",
            " [-4.15876394e-01  3.09571117e-01  5.34001949e-02 -5.05814524e-01\n",
            "  -1.48153352e-02  9.37608589e-02  5.48467063e-01]\n",
            " [-4.41500969e-01 -8.62910793e-01 -7.68433802e-01 -3.49934577e-01\n",
            "  -4.65720498e-01 -5.58681567e-01 -8.08850416e-01]\n",
            " [ 4.55359157e-01 -8.62910793e-01 -9.30889360e-01 -4.27874551e-01\n",
            "  -9.97859229e-01 -3.77447560e-01 -1.62324090e+00]\n",
            " [-5.69623844e-01  3.09571117e-01  5.31210658e-01 -1.16114655e-01\n",
            "   3.58388155e-01 -1.96213553e-01 -1.35177741e+00]\n",
            " [-3.13378094e-01  3.09571117e-01  4.38439856e-02 -3.75914568e-01\n",
            "  -3.88018825e-01 -1.96213553e-01 -1.62324090e+00]\n",
            " [-1.21023822e+00  1.48205303e+00  1.39126949e+00  1.44268482e+00\n",
            "   7.43364626e-01 -2.73348966e+00 -1.62324090e+00]\n",
            " [-1.46648397e+00  1.48205303e+00  2.49023356e+00  3.13138426e+00\n",
            "   2.32329864e+00 -1.64608561e+00 -8.08850416e-01]\n",
            " [-6.97746719e-01  3.09571117e-01  2.92305427e-01  1.37853015e-02\n",
            "   7.48073818e-01  3.47488469e-01 -5.37386920e-01]\n",
            " [-1.33836110e+00  1.48205303e+00  1.02813354e+00  6.37305093e-01\n",
            "   2.25353472e-01 -1.28361760e+00 -2.65923425e-01]\n",
            " [-1.08211534e+00  1.48205303e+00  1.18103289e+00  1.18288491e+00\n",
            "   1.36262341e+00 -7.39915575e-01 -1.08031391e+00]]\n"
          ]
        }
      ]
    },
    {
      "cell_type": "code",
      "source": [
        "y_ = model.predict(test_x)\n",
        "predicted = np.argmax(y_, axis=-1)\n",
        "\n",
        "plt.plot(test_y, \"o\")\n",
        "plt.plot(predicted, \".\")\n",
        "plt.show()"
      ],
      "metadata": {
        "colab": {
          "base_uri": "https://localhost:8080/",
          "height": 265
        },
        "id": "XFuX3fCsxgH-",
        "outputId": "f0870c09-340a-419f-acc0-8d75fb50a8ac"
      },
      "execution_count": null,
      "outputs": [
        {
          "output_type": "display_data",
          "data": {
            "image/png": "[encoded data removed]",
            "text/plain": [
              "<Figure size 432x288 with 1 Axes>"
            ]
          },
          "metadata": {
            "needs_background": "light"
          }
        }
      ]
    },
    {
      "cell_type": "code",
      "source": [
        ""
      ],
      "metadata": {
        "id": "Wr9w6uw-x3uG"
      },
      "execution_count": null,
      "outputs": []
    }
  ]
}