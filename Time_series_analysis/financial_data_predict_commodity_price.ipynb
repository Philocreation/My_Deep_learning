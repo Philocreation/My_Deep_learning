{
  "nbformat": 4,
  "nbformat_minor": 0,
  "metadata": {
    "colab": {
      "name": "financial_data_predict_commodity_price.ipynb",
      "provenance": [],
      "collapsed_sections": [],
      "authorship_tag": "ABX9TyP9ZrA8Ov7t3zS3gaqKASqZ",
      "include_colab_link": true
    },
    "kernelspec": {
      "name": "python3",
      "display_name": "Python 3"
    },
    "language_info": {
      "name": "python"
    },
    "accelerator": "GPU"
  },
  "cells": [
    {
      "cell_type": "markdown",
      "metadata": {
        "id": "view-in-github",
        "colab_type": "text"
      },
      "source": [
        "<a href=\"https://colab.research.google.com/github/Philocreation/My_Deep_learning/blob/main/Time_series_analysis/financial_data_predict_commodity_price.ipynb\" target=\"_parent\"><img src=\"https://colab.research.google.com/assets/colab-badge.svg\" alt=\"Open In Colab\"/></a>"
      ]
    },
    {
      "cell_type": "markdown",
      "source": [
        "# 데이터 압축 풀기 "
      ],
      "metadata": {
        "id": "6WJInLfF2B7M"
      }
    },
    {
      "cell_type": "code",
      "execution_count": 1,
      "metadata": {
        "colab": {
          "base_uri": "https://localhost:8080/"
        },
        "id": "BKrjVF5d1oqO",
        "outputId": "b07739ee-ac10-446f-de17-958ccdba3720"
      },
      "outputs": [
        {
          "output_type": "stream",
          "name": "stdout",
          "text": [
            "--2022-01-14 09:08:52--  https://github.com/dhrim/deep_learning_data/raw/master/commodity.zip\n",
            "Resolving github.com (github.com)... 140.82.121.4\n",
            "Connecting to github.com (github.com)|140.82.121.4|:443... connected.\n",
            "HTTP request sent, awaiting response... 302 Found\n",
            "Location: https://raw.githubusercontent.com/dhrim/deep_learning_data/master/commodity.zip [following]\n",
            "--2022-01-14 09:08:53--  https://raw.githubusercontent.com/dhrim/deep_learning_data/master/commodity.zip\n",
            "Resolving raw.githubusercontent.com (raw.githubusercontent.com)... 185.199.110.133, 185.199.109.133, 185.199.111.133, ...\n",
            "Connecting to raw.githubusercontent.com (raw.githubusercontent.com)|185.199.110.133|:443... connected.\n",
            "HTTP request sent, awaiting response... 200 OK\n",
            "Length: 1835488 (1.8M) [application/zip]\n",
            "Saving to: ‘commodity.zip’\n",
            "\n",
            "commodity.zip       100%[===================>]   1.75M  --.-KB/s    in 0.02s   \n",
            "\n",
            "2022-01-14 09:08:53 (82.3 MB/s) - ‘commodity.zip’ saved [1835488/1835488]\n",
            "\n"
          ]
        }
      ],
      "source": [
        "!wget https://github.com/dhrim/deep_learning_data/raw/master/commodity.zip"
      ]
    },
    {
      "cell_type": "code",
      "source": [
        "!rm -rf commodity\n",
        "!unzip commodity.zip"
      ],
      "metadata": {
        "colab": {
          "base_uri": "https://localhost:8080/"
        },
        "id": "IgsxZWtz2GqQ",
        "outputId": "e5efcf44-2551-4176-8712-fe662625def1"
      },
      "execution_count": 2,
      "outputs": [
        {
          "output_type": "stream",
          "name": "stdout",
          "text": [
            "Archive:  commodity.zip\n",
            "   creating: commodity/\n",
            "  inflating: commodity/Natural Gas.csv  \n",
            "  inflating: commodity/Soybean.csv   \n",
            "  inflating: commodity/Gold.csv      \n",
            "  inflating: commodity/Platinum.csv  \n",
            "  inflating: commodity/Heating Oil.csv  \n",
            "  inflating: commodity/Palladium.csv  \n",
            "  inflating: commodity/Silver.csv    \n",
            "  inflating: commodity/Lumber.csv    \n",
            "  inflating: commodity/Lean Hogs.csv  \n",
            "  inflating: commodity/Soybean Meal.csv  \n",
            "  inflating: commodity/Copper.csv    \n",
            "  inflating: commodity/Live Cattle.csv  \n",
            "  inflating: commodity/Soybean Oil.csv  \n",
            "  inflating: commodity/Brent Crude Oil.csv  \n",
            "  inflating: commodity/Cotton.csv    \n",
            "  inflating: commodity/RBOB Gasoline.csv  \n",
            "  inflating: commodity/Oat.csv       \n",
            "  inflating: commodity/Coffee.csv    \n",
            "  inflating: commodity/Wheat.csv     \n",
            "  inflating: commodity/Sugar.csv     \n",
            "  inflating: commodity/Corn.csv      \n",
            "  inflating: commodity/Crude Oil.csv  \n",
            "  inflating: commodity/Cocoa.csv     \n",
            "  inflating: commodity/Feeder Cattle.csv  \n"
          ]
        }
      ]
    },
    {
      "cell_type": "code",
      "source": [
        "import numpy as np\n",
        "import pandas as pd\n",
        "import matplotlib.pyplot as plt"
      ],
      "metadata": {
        "id": "SltcbyzG2TPB"
      },
      "execution_count": 3,
      "outputs": []
    },
    {
      "cell_type": "markdown",
      "source": [
        "# 파라미터 설정 "
      ],
      "metadata": {
        "id": "yUtbtjJ-2Zss"
      }
    },
    {
      "cell_type": "code",
      "source": [
        "SEQUENCE_LENGTH = 10\n",
        "OFFSET = 1\n",
        "BATCH_SIZE = 32"
      ],
      "metadata": {
        "id": "i4TC4Tz-2ZI5"
      },
      "execution_count": 4,
      "outputs": []
    },
    {
      "cell_type": "markdown",
      "source": [
        "# 데이터 로딩 "
      ],
      "metadata": {
        "id": "qnHxjiCy2dk0"
      }
    },
    {
      "cell_type": "code",
      "source": [
        "df = pd.read_csv(\"commodity/Silver.csv\")\n",
        "df.head()"
      ],
      "metadata": {
        "colab": {
          "base_uri": "https://localhost:8080/",
          "height": 206
        },
        "id": "r-hzqMG22c2w",
        "outputId": "0495a7b7-763d-44b1-eba5-6182a04e3764"
      },
      "execution_count": 6,
      "outputs": [
        {
          "output_type": "execute_result",
          "data": {
            "text/html": [
              "\n",
              "  <div id=\"df-d941b276-31c9-4582-bf20-7d2b40b4e15e\">\n",
              "    <div class=\"colab-df-container\">\n",
              "      <div>\n",
              "<style scoped>\n",
              "    .dataframe tbody tr th:only-of-type {\n",
              "        vertical-align: middle;\n",
              "    }\n",
              "\n",
              "    .dataframe tbody tr th {\n",
              "        vertical-align: top;\n",
              "    }\n",
              "\n",
              "    .dataframe thead th {\n",
              "        text-align: right;\n",
              "    }\n",
              "</style>\n",
              "<table border=\"1\" class=\"dataframe\">\n",
              "  <thead>\n",
              "    <tr style=\"text-align: right;\">\n",
              "      <th></th>\n",
              "      <th>Date</th>\n",
              "      <th>Open</th>\n",
              "      <th>High</th>\n",
              "      <th>Low</th>\n",
              "      <th>Close</th>\n",
              "      <th>Adj Close</th>\n",
              "      <th>Volume</th>\n",
              "    </tr>\n",
              "  </thead>\n",
              "  <tbody>\n",
              "    <tr>\n",
              "      <th>0</th>\n",
              "      <td>2000-08-30</td>\n",
              "      <td>4.950</td>\n",
              "      <td>4.950</td>\n",
              "      <td>4.895</td>\n",
              "      <td>4.930</td>\n",
              "      <td>4.930</td>\n",
              "      <td>2319.0</td>\n",
              "    </tr>\n",
              "    <tr>\n",
              "      <th>1</th>\n",
              "      <td>2000-08-31</td>\n",
              "      <td>4.920</td>\n",
              "      <td>5.045</td>\n",
              "      <td>4.920</td>\n",
              "      <td>5.003</td>\n",
              "      <td>5.003</td>\n",
              "      <td>1612.0</td>\n",
              "    </tr>\n",
              "    <tr>\n",
              "      <th>2</th>\n",
              "      <td>2000-09-01</td>\n",
              "      <td>5.035</td>\n",
              "      <td>5.035</td>\n",
              "      <td>4.985</td>\n",
              "      <td>5.004</td>\n",
              "      <td>5.004</td>\n",
              "      <td>1375.0</td>\n",
              "    </tr>\n",
              "    <tr>\n",
              "      <th>3</th>\n",
              "      <td>2000-09-04</td>\n",
              "      <td>NaN</td>\n",
              "      <td>NaN</td>\n",
              "      <td>NaN</td>\n",
              "      <td>NaN</td>\n",
              "      <td>NaN</td>\n",
              "      <td>NaN</td>\n",
              "    </tr>\n",
              "    <tr>\n",
              "      <th>4</th>\n",
              "      <td>2000-09-05</td>\n",
              "      <td>4.990</td>\n",
              "      <td>5.005</td>\n",
              "      <td>4.975</td>\n",
              "      <td>4.998</td>\n",
              "      <td>4.998</td>\n",
              "      <td>856.0</td>\n",
              "    </tr>\n",
              "  </tbody>\n",
              "</table>\n",
              "</div>\n",
              "      <button class=\"colab-df-convert\" onclick=\"convertToInteractive('df-d941b276-31c9-4582-bf20-7d2b40b4e15e')\"\n",
              "              title=\"Convert this dataframe to an interactive table.\"\n",
              "              style=\"display:none;\">\n",
              "        \n",
              "  <svg xmlns=\"http://www.w3.org/2000/svg\" height=\"24px\"viewBox=\"0 0 24 24\"\n",
              "       width=\"24px\">\n",
              "    <path d=\"M0 0h24v24H0V0z\" fill=\"none\"/>\n",
              "    <path d=\"M18.56 5.44l.94 2.06.94-2.06 2.06-.94-2.06-.94-.94-2.06-.94 2.06-2.06.94zm-11 1L8.5 8.5l.94-2.06 2.06-.94-2.06-.94L8.5 2.5l-.94 2.06-2.06.94zm10 10l.94 2.06.94-2.06 2.06-.94-2.06-.94-.94-2.06-.94 2.06-2.06.94z\"/><path d=\"M17.41 7.96l-1.37-1.37c-.4-.4-.92-.59-1.43-.59-.52 0-1.04.2-1.43.59L10.3 9.45l-7.72 7.72c-.78.78-.78 2.05 0 2.83L4 21.41c.39.39.9.59 1.41.59.51 0 1.02-.2 1.41-.59l7.78-7.78 2.81-2.81c.8-.78.8-2.07 0-2.86zM5.41 20L4 18.59l7.72-7.72 1.47 1.35L5.41 20z\"/>\n",
              "  </svg>\n",
              "      </button>\n",
              "      \n",
              "  <style>\n",
              "    .colab-df-container {\n",
              "      display:flex;\n",
              "      flex-wrap:wrap;\n",
              "      gap: 12px;\n",
              "    }\n",
              "\n",
              "    .colab-df-convert {\n",
              "      background-color: #E8F0FE;\n",
              "      border: none;\n",
              "      border-radius: 50%;\n",
              "      cursor: pointer;\n",
              "      display: none;\n",
              "      fill: #1967D2;\n",
              "      height: 32px;\n",
              "      padding: 0 0 0 0;\n",
              "      width: 32px;\n",
              "    }\n",
              "\n",
              "    .colab-df-convert:hover {\n",
              "      background-color: #E2EBFA;\n",
              "      box-shadow: 0px 1px 2px rgba(60, 64, 67, 0.3), 0px 1px 3px 1px rgba(60, 64, 67, 0.15);\n",
              "      fill: #174EA6;\n",
              "    }\n",
              "\n",
              "    [theme=dark] .colab-df-convert {\n",
              "      background-color: #3B4455;\n",
              "      fill: #D2E3FC;\n",
              "    }\n",
              "\n",
              "    [theme=dark] .colab-df-convert:hover {\n",
              "      background-color: #434B5C;\n",
              "      box-shadow: 0px 1px 3px 1px rgba(0, 0, 0, 0.15);\n",
              "      filter: drop-shadow(0px 1px 2px rgba(0, 0, 0, 0.3));\n",
              "      fill: #FFFFFF;\n",
              "    }\n",
              "  </style>\n",
              "\n",
              "      <script>\n",
              "        const buttonEl =\n",
              "          document.querySelector('#df-d941b276-31c9-4582-bf20-7d2b40b4e15e button.colab-df-convert');\n",
              "        buttonEl.style.display =\n",
              "          google.colab.kernel.accessAllowed ? 'block' : 'none';\n",
              "\n",
              "        async function convertToInteractive(key) {\n",
              "          const element = document.querySelector('#df-d941b276-31c9-4582-bf20-7d2b40b4e15e');\n",
              "          const dataTable =\n",
              "            await google.colab.kernel.invokeFunction('convertToInteractive',\n",
              "                                                     [key], {});\n",
              "          if (!dataTable) return;\n",
              "\n",
              "          const docLinkHtml = 'Like what you see? Visit the ' +\n",
              "            '<a target=\"_blank\" href=https://colab.research.google.com/notebooks/data_table.ipynb>data table notebook</a>'\n",
              "            + ' to learn more about interactive tables.';\n",
              "          element.innerHTML = '';\n",
              "          dataTable['output_type'] = 'display_data';\n",
              "          await google.colab.output.renderOutput(dataTable, element);\n",
              "          const docLink = document.createElement('div');\n",
              "          docLink.innerHTML = docLinkHtml;\n",
              "          element.appendChild(docLink);\n",
              "        }\n",
              "      </script>\n",
              "    </div>\n",
              "  </div>\n",
              "  "
            ],
            "text/plain": [
              "         Date   Open   High    Low  Close  Adj Close  Volume\n",
              "0  2000-08-30  4.950  4.950  4.895  4.930      4.930  2319.0\n",
              "1  2000-08-31  4.920  5.045  4.920  5.003      5.003  1612.0\n",
              "2  2000-09-01  5.035  5.035  4.985  5.004      5.004  1375.0\n",
              "3  2000-09-04    NaN    NaN    NaN    NaN        NaN     NaN\n",
              "4  2000-09-05  4.990  5.005  4.975  4.998      4.998   856.0"
            ]
          },
          "metadata": {},
          "execution_count": 6
        }
      ]
    },
    {
      "cell_type": "markdown",
      "source": [
        "# 결측치 처리 "
      ],
      "metadata": {
        "id": "tGOGEzwk3Aop"
      }
    },
    {
      "cell_type": "code",
      "source": [
        "df.info()"
      ],
      "metadata": {
        "colab": {
          "base_uri": "https://localhost:8080/"
        },
        "id": "bwqQQqjk2_8B",
        "outputId": "c4c12a4f-c232-4d8e-fdc0-d599cf9e3217"
      },
      "execution_count": 7,
      "outputs": [
        {
          "output_type": "stream",
          "name": "stdout",
          "text": [
            "<class 'pandas.core.frame.DataFrame'>\n",
            "RangeIndex: 5291 entries, 0 to 5290\n",
            "Data columns (total 7 columns):\n",
            " #   Column     Non-Null Count  Dtype  \n",
            "---  ------     --------------  -----  \n",
            " 0   Date       5291 non-null   object \n",
            " 1   Open       5181 non-null   float64\n",
            " 2   High       5181 non-null   float64\n",
            " 3   Low        5181 non-null   float64\n",
            " 4   Close      5181 non-null   float64\n",
            " 5   Adj Close  5181 non-null   float64\n",
            " 6   Volume     5181 non-null   float64\n",
            "dtypes: float64(6), object(1)\n",
            "memory usage: 289.5+ KB\n"
          ]
        }
      ]
    },
    {
      "cell_type": "code",
      "source": [
        "df.isnull().sum()"
      ],
      "metadata": {
        "colab": {
          "base_uri": "https://localhost:8080/"
        },
        "id": "GE4TCjz93EVK",
        "outputId": "3c86a750-b92f-4db5-f05b-35b8f5cbba52"
      },
      "execution_count": 8,
      "outputs": [
        {
          "output_type": "execute_result",
          "data": {
            "text/plain": [
              "Date           0\n",
              "Open         110\n",
              "High         110\n",
              "Low          110\n",
              "Close        110\n",
              "Adj Close    110\n",
              "Volume       110\n",
              "dtype: int64"
            ]
          },
          "metadata": {},
          "execution_count": 8
        }
      ]
    },
    {
      "cell_type": "code",
      "source": [
        "df = df.dropna()"
      ],
      "metadata": {
        "id": "MreZlCZB3JaO"
      },
      "execution_count": 9,
      "outputs": []
    },
    {
      "cell_type": "code",
      "source": [
        "df.isnull().sum()"
      ],
      "metadata": {
        "colab": {
          "base_uri": "https://localhost:8080/"
        },
        "id": "RQ08vMsN3NKu",
        "outputId": "96ca1a5c-b451-44b7-ea7e-96b41e1f818b"
      },
      "execution_count": 10,
      "outputs": [
        {
          "output_type": "execute_result",
          "data": {
            "text/plain": [
              "Date         0\n",
              "Open         0\n",
              "High         0\n",
              "Low          0\n",
              "Close        0\n",
              "Adj Close    0\n",
              "Volume       0\n",
              "dtype: int64"
            ]
          },
          "metadata": {},
          "execution_count": 10
        }
      ]
    },
    {
      "cell_type": "code",
      "source": [
        "df.info()"
      ],
      "metadata": {
        "colab": {
          "base_uri": "https://localhost:8080/"
        },
        "id": "sdZ892iU3a-2",
        "outputId": "74068da3-ba19-4563-e01b-c4baf3c4ed3e"
      },
      "execution_count": 11,
      "outputs": [
        {
          "output_type": "stream",
          "name": "stdout",
          "text": [
            "<class 'pandas.core.frame.DataFrame'>\n",
            "Int64Index: 5181 entries, 0 to 5290\n",
            "Data columns (total 7 columns):\n",
            " #   Column     Non-Null Count  Dtype  \n",
            "---  ------     --------------  -----  \n",
            " 0   Date       5181 non-null   object \n",
            " 1   Open       5181 non-null   float64\n",
            " 2   High       5181 non-null   float64\n",
            " 3   Low        5181 non-null   float64\n",
            " 4   Close      5181 non-null   float64\n",
            " 5   Adj Close  5181 non-null   float64\n",
            " 6   Volume     5181 non-null   float64\n",
            "dtypes: float64(6), object(1)\n",
            "memory usage: 323.8+ KB\n"
          ]
        }
      ]
    },
    {
      "cell_type": "markdown",
      "source": [
        "# 정렬 순서 확인 "
      ],
      "metadata": {
        "id": "GzwFNdRW3de-"
      }
    },
    {
      "cell_type": "code",
      "source": [
        "df.sort_values(by=['Date'])"
      ],
      "metadata": {
        "colab": {
          "base_uri": "https://localhost:8080/",
          "height": 423
        },
        "id": "YmcbhwgJ3f6G",
        "outputId": "a89d1d5e-1b0f-487a-9868-39b4dad236a9"
      },
      "execution_count": 14,
      "outputs": [
        {
          "output_type": "execute_result",
          "data": {
            "text/html": [
              "\n",
              "  <div id=\"df-fa58cdca-3285-4f93-b185-f39c3f2b9483\">\n",
              "    <div class=\"colab-df-container\">\n",
              "      <div>\n",
              "<style scoped>\n",
              "    .dataframe tbody tr th:only-of-type {\n",
              "        vertical-align: middle;\n",
              "    }\n",
              "\n",
              "    .dataframe tbody tr th {\n",
              "        vertical-align: top;\n",
              "    }\n",
              "\n",
              "    .dataframe thead th {\n",
              "        text-align: right;\n",
              "    }\n",
              "</style>\n",
              "<table border=\"1\" class=\"dataframe\">\n",
              "  <thead>\n",
              "    <tr style=\"text-align: right;\">\n",
              "      <th></th>\n",
              "      <th>Date</th>\n",
              "      <th>Open</th>\n",
              "      <th>High</th>\n",
              "      <th>Low</th>\n",
              "      <th>Close</th>\n",
              "      <th>Adj Close</th>\n",
              "      <th>Volume</th>\n",
              "    </tr>\n",
              "  </thead>\n",
              "  <tbody>\n",
              "    <tr>\n",
              "      <th>0</th>\n",
              "      <td>2000-08-30</td>\n",
              "      <td>4.950000</td>\n",
              "      <td>4.950000</td>\n",
              "      <td>4.895000</td>\n",
              "      <td>4.930000</td>\n",
              "      <td>4.930000</td>\n",
              "      <td>2319.0</td>\n",
              "    </tr>\n",
              "    <tr>\n",
              "      <th>1</th>\n",
              "      <td>2000-08-31</td>\n",
              "      <td>4.920000</td>\n",
              "      <td>5.045000</td>\n",
              "      <td>4.920000</td>\n",
              "      <td>5.003000</td>\n",
              "      <td>5.003000</td>\n",
              "      <td>1612.0</td>\n",
              "    </tr>\n",
              "    <tr>\n",
              "      <th>2</th>\n",
              "      <td>2000-09-01</td>\n",
              "      <td>5.035000</td>\n",
              "      <td>5.035000</td>\n",
              "      <td>4.985000</td>\n",
              "      <td>5.004000</td>\n",
              "      <td>5.004000</td>\n",
              "      <td>1375.0</td>\n",
              "    </tr>\n",
              "    <tr>\n",
              "      <th>4</th>\n",
              "      <td>2000-09-05</td>\n",
              "      <td>4.990000</td>\n",
              "      <td>5.005000</td>\n",
              "      <td>4.975000</td>\n",
              "      <td>4.998000</td>\n",
              "      <td>4.998000</td>\n",
              "      <td>856.0</td>\n",
              "    </tr>\n",
              "    <tr>\n",
              "      <th>5</th>\n",
              "      <td>2000-09-06</td>\n",
              "      <td>5.000000</td>\n",
              "      <td>5.000000</td>\n",
              "      <td>4.980000</td>\n",
              "      <td>4.983000</td>\n",
              "      <td>4.983000</td>\n",
              "      <td>232.0</td>\n",
              "    </tr>\n",
              "    <tr>\n",
              "      <th>...</th>\n",
              "      <td>...</td>\n",
              "      <td>...</td>\n",
              "      <td>...</td>\n",
              "      <td>...</td>\n",
              "      <td>...</td>\n",
              "      <td>...</td>\n",
              "      <td>...</td>\n",
              "    </tr>\n",
              "    <tr>\n",
              "      <th>5286</th>\n",
              "      <td>2021-06-03</td>\n",
              "      <td>27.190001</td>\n",
              "      <td>27.459999</td>\n",
              "      <td>27.190001</td>\n",
              "      <td>27.459999</td>\n",
              "      <td>27.459999</td>\n",
              "      <td>20.0</td>\n",
              "    </tr>\n",
              "    <tr>\n",
              "      <th>5287</th>\n",
              "      <td>2021-06-04</td>\n",
              "      <td>27.879000</td>\n",
              "      <td>27.879000</td>\n",
              "      <td>27.879000</td>\n",
              "      <td>27.879000</td>\n",
              "      <td>27.879000</td>\n",
              "      <td>0.0</td>\n",
              "    </tr>\n",
              "    <tr>\n",
              "      <th>5288</th>\n",
              "      <td>2021-06-07</td>\n",
              "      <td>27.615000</td>\n",
              "      <td>28.000999</td>\n",
              "      <td>27.615000</td>\n",
              "      <td>28.000999</td>\n",
              "      <td>28.000999</td>\n",
              "      <td>4.0</td>\n",
              "    </tr>\n",
              "    <tr>\n",
              "      <th>5289</th>\n",
              "      <td>2021-06-08</td>\n",
              "      <td>28.010000</td>\n",
              "      <td>28.010000</td>\n",
              "      <td>27.705000</td>\n",
              "      <td>27.715000</td>\n",
              "      <td>27.715000</td>\n",
              "      <td>27.0</td>\n",
              "    </tr>\n",
              "    <tr>\n",
              "      <th>5290</th>\n",
              "      <td>2021-06-09</td>\n",
              "      <td>27.695000</td>\n",
              "      <td>27.985001</td>\n",
              "      <td>27.695000</td>\n",
              "      <td>27.985001</td>\n",
              "      <td>27.985001</td>\n",
              "      <td>27.0</td>\n",
              "    </tr>\n",
              "  </tbody>\n",
              "</table>\n",
              "<p>5181 rows × 7 columns</p>\n",
              "</div>\n",
              "      <button class=\"colab-df-convert\" onclick=\"convertToInteractive('df-fa58cdca-3285-4f93-b185-f39c3f2b9483')\"\n",
              "              title=\"Convert this dataframe to an interactive table.\"\n",
              "              style=\"display:none;\">\n",
              "        \n",
              "  <svg xmlns=\"http://www.w3.org/2000/svg\" height=\"24px\"viewBox=\"0 0 24 24\"\n",
              "       width=\"24px\">\n",
              "    <path d=\"M0 0h24v24H0V0z\" fill=\"none\"/>\n",
              "    <path d=\"M18.56 5.44l.94 2.06.94-2.06 2.06-.94-2.06-.94-.94-2.06-.94 2.06-2.06.94zm-11 1L8.5 8.5l.94-2.06 2.06-.94-2.06-.94L8.5 2.5l-.94 2.06-2.06.94zm10 10l.94 2.06.94-2.06 2.06-.94-2.06-.94-.94-2.06-.94 2.06-2.06.94z\"/><path d=\"M17.41 7.96l-1.37-1.37c-.4-.4-.92-.59-1.43-.59-.52 0-1.04.2-1.43.59L10.3 9.45l-7.72 7.72c-.78.78-.78 2.05 0 2.83L4 21.41c.39.39.9.59 1.41.59.51 0 1.02-.2 1.41-.59l7.78-7.78 2.81-2.81c.8-.78.8-2.07 0-2.86zM5.41 20L4 18.59l7.72-7.72 1.47 1.35L5.41 20z\"/>\n",
              "  </svg>\n",
              "      </button>\n",
              "      \n",
              "  <style>\n",
              "    .colab-df-container {\n",
              "      display:flex;\n",
              "      flex-wrap:wrap;\n",
              "      gap: 12px;\n",
              "    }\n",
              "\n",
              "    .colab-df-convert {\n",
              "      background-color: #E8F0FE;\n",
              "      border: none;\n",
              "      border-radius: 50%;\n",
              "      cursor: pointer;\n",
              "      display: none;\n",
              "      fill: #1967D2;\n",
              "      height: 32px;\n",
              "      padding: 0 0 0 0;\n",
              "      width: 32px;\n",
              "    }\n",
              "\n",
              "    .colab-df-convert:hover {\n",
              "      background-color: #E2EBFA;\n",
              "      box-shadow: 0px 1px 2px rgba(60, 64, 67, 0.3), 0px 1px 3px 1px rgba(60, 64, 67, 0.15);\n",
              "      fill: #174EA6;\n",
              "    }\n",
              "\n",
              "    [theme=dark] .colab-df-convert {\n",
              "      background-color: #3B4455;\n",
              "      fill: #D2E3FC;\n",
              "    }\n",
              "\n",
              "    [theme=dark] .colab-df-convert:hover {\n",
              "      background-color: #434B5C;\n",
              "      box-shadow: 0px 1px 3px 1px rgba(0, 0, 0, 0.15);\n",
              "      filter: drop-shadow(0px 1px 2px rgba(0, 0, 0, 0.3));\n",
              "      fill: #FFFFFF;\n",
              "    }\n",
              "  </style>\n",
              "\n",
              "      <script>\n",
              "        const buttonEl =\n",
              "          document.querySelector('#df-fa58cdca-3285-4f93-b185-f39c3f2b9483 button.colab-df-convert');\n",
              "        buttonEl.style.display =\n",
              "          google.colab.kernel.accessAllowed ? 'block' : 'none';\n",
              "\n",
              "        async function convertToInteractive(key) {\n",
              "          const element = document.querySelector('#df-fa58cdca-3285-4f93-b185-f39c3f2b9483');\n",
              "          const dataTable =\n",
              "            await google.colab.kernel.invokeFunction('convertToInteractive',\n",
              "                                                     [key], {});\n",
              "          if (!dataTable) return;\n",
              "\n",
              "          const docLinkHtml = 'Like what you see? Visit the ' +\n",
              "            '<a target=\"_blank\" href=https://colab.research.google.com/notebooks/data_table.ipynb>data table notebook</a>'\n",
              "            + ' to learn more about interactive tables.';\n",
              "          element.innerHTML = '';\n",
              "          dataTable['output_type'] = 'display_data';\n",
              "          await google.colab.output.renderOutput(dataTable, element);\n",
              "          const docLink = document.createElement('div');\n",
              "          docLink.innerHTML = docLinkHtml;\n",
              "          element.appendChild(docLink);\n",
              "        }\n",
              "      </script>\n",
              "    </div>\n",
              "  </div>\n",
              "  "
            ],
            "text/plain": [
              "            Date       Open       High        Low      Close  Adj Close  Volume\n",
              "0     2000-08-30   4.950000   4.950000   4.895000   4.930000   4.930000  2319.0\n",
              "1     2000-08-31   4.920000   5.045000   4.920000   5.003000   5.003000  1612.0\n",
              "2     2000-09-01   5.035000   5.035000   4.985000   5.004000   5.004000  1375.0\n",
              "4     2000-09-05   4.990000   5.005000   4.975000   4.998000   4.998000   856.0\n",
              "5     2000-09-06   5.000000   5.000000   4.980000   4.983000   4.983000   232.0\n",
              "...          ...        ...        ...        ...        ...        ...     ...\n",
              "5286  2021-06-03  27.190001  27.459999  27.190001  27.459999  27.459999    20.0\n",
              "5287  2021-06-04  27.879000  27.879000  27.879000  27.879000  27.879000     0.0\n",
              "5288  2021-06-07  27.615000  28.000999  27.615000  28.000999  28.000999     4.0\n",
              "5289  2021-06-08  28.010000  28.010000  27.705000  27.715000  27.715000    27.0\n",
              "5290  2021-06-09  27.695000  27.985001  27.695000  27.985001  27.985001    27.0\n",
              "\n",
              "[5181 rows x 7 columns]"
            ]
          },
          "metadata": {},
          "execution_count": 14
        }
      ]
    },
    {
      "cell_type": "code",
      "source": [
        "sorted_index = df.sort_values(by=[\"Date\"]).index"
      ],
      "metadata": {
        "id": "wVryMoZq3vqB"
      },
      "execution_count": 16,
      "outputs": []
    },
    {
      "cell_type": "code",
      "source": [
        "print(sorted_index)\n",
        "print(sorted_index - df.index)\n",
        "print(sum(sorted_index - df.index))"
      ],
      "metadata": {
        "colab": {
          "base_uri": "https://localhost:8080/"
        },
        "id": "T_hOtc0J37tA",
        "outputId": "230455d9-4133-4532-de81-5d07594fdbb0"
      },
      "execution_count": 17,
      "outputs": [
        {
          "output_type": "stream",
          "name": "stdout",
          "text": [
            "Int64Index([   0,    1,    2,    4,    5,    6,    7,    8,    9,   10,\n",
            "            ...\n",
            "            5281, 5282, 5283, 5284, 5285, 5286, 5287, 5288, 5289, 5290],\n",
            "           dtype='int64', length=5181)\n",
            "Int64Index([0, 0, 0, 0, 0, 0, 0, 0, 0, 0,\n",
            "            ...\n",
            "            0, 0, 0, 0, 0, 0, 0, 0, 0, 0],\n",
            "           dtype='int64', length=5181)\n",
            "0\n"
          ]
        }
      ]
    },
    {
      "cell_type": "code",
      "source": [
        "print(df[\"Close\"] - df[\"Adj Close\"])\n",
        "print(sum(df['Close'] - df[\"Adj Close\"]))"
      ],
      "metadata": {
        "colab": {
          "base_uri": "https://localhost:8080/"
        },
        "id": "G6DeRJxK4Ks0",
        "outputId": "b09d270f-2573-407f-f445-bb7885b6f836"
      },
      "execution_count": 21,
      "outputs": [
        {
          "output_type": "stream",
          "name": "stdout",
          "text": [
            "0       0.0\n",
            "1       0.0\n",
            "2       0.0\n",
            "4       0.0\n",
            "5       0.0\n",
            "       ... \n",
            "5286    0.0\n",
            "5287    0.0\n",
            "5288    0.0\n",
            "5289    0.0\n",
            "5290    0.0\n",
            "Length: 5181, dtype: float64\n",
            "0.0\n"
          ]
        }
      ]
    },
    {
      "cell_type": "code",
      "source": [
        "df.drop(columns = [\"Date\", \"Adj Close\"], inplace=True)"
      ],
      "metadata": {
        "id": "wG8fLzQw4wB9"
      },
      "execution_count": 22,
      "outputs": []
    },
    {
      "cell_type": "code",
      "source": [
        "for i in range(len(df.columns)):\n",
        "  print(df.columns[i])\n",
        "  plt.hist(df.iloc[:,i], bins=1000)\n",
        "  plt.show()"
      ],
      "metadata": {
        "colab": {
          "base_uri": "https://localhost:8080/",
          "height": 1000
        },
        "id": "DWMsAKmo44qp",
        "outputId": "5c0985a0-3554-49f0-c244-36ad3cc4702a"
      },
      "execution_count": 23,
      "outputs": [
        {
          "output_type": "stream",
          "name": "stdout",
          "text": [
            "Open\n"
          ]
        },
        {
          "output_type": "display_data",
          "data": {
            "image/png": "[encoded data removed]",
            "text/plain": [
              "<Figure size 432x288 with 1 Axes>"
            ]
          },
          "metadata": {
            "needs_background": "light"
          }
        },
        {
          "output_type": "stream",
          "name": "stdout",
          "text": [
            "High\n"
          ]
        },
        {
          "output_type": "display_data",
          "data": {
            "image/png": "[encoded data removed]",
            "text/plain": [
              "<Figure size 432x288 with 1 Axes>"
            ]
          },
          "metadata": {
            "needs_background": "light"
          }
        },
        {
          "output_type": "stream",
          "name": "stdout",
          "text": [
            "Low\n"
          ]
        },
        {
          "output_type": "display_data",
          "data": {
            "image/png": "[encoded data removed]",
            "text/plain": [
              "<Figure size 432x288 with 1 Axes>"
            ]
          },
          "metadata": {
            "needs_background": "light"
          }
        },
        {
          "output_type": "stream",
          "name": "stdout",
          "text": [
            "Close\n"
          ]
        },
        {
          "output_type": "display_data",
          "data": {
            "image/png": "[encoded data removed]",
            "text/plain": [
              "<Figure size 432x288 with 1 Axes>"
            ]
          },
          "metadata": {
            "needs_background": "light"
          }
        },
        {
          "output_type": "stream",
          "name": "stdout",
          "text": [
            "Volume\n"
          ]
        },
        {
          "output_type": "display_data",
          "data": {
            "image/png": "[encoded data removed]",
            "text/plain": [
              "<Figure size 432x288 with 1 Axes>"
            ]
          },
          "metadata": {
            "needs_background": "light"
          }
        }
      ]
    },
    {
      "cell_type": "code",
      "source": [
        "plt.figure(figsize=(14,3))\n",
        "plt.plot(df.iloc[:,0])\n",
        "plt.show()\n",
        "\n",
        "plt.figure(figsize=(14,3))\n",
        "plt.plot(df.iloc[:,4])\n",
        "plt.show()"
      ],
      "metadata": {
        "colab": {
          "base_uri": "https://localhost:8080/",
          "height": 322
        },
        "id": "1UNqz7zp5Pqb",
        "outputId": "98c970ad-48e9-4866-d7a9-9cdc6c3bfcd0"
      },
      "execution_count": 24,
      "outputs": [
        {
          "output_type": "display_data",
          "data": {
            "image/png": "[encoded data removed]",
            "text/plain": [
              "<Figure size 1008x216 with 1 Axes>"
            ]
          },
          "metadata": {
            "needs_background": "light"
          }
        },
        {
          "output_type": "display_data",
          "data": {
            "image/png": "[encoded data removed]",
            "text/plain": [
              "<Figure size 1008x216 with 1 Axes>"
            ]
          },
          "metadata": {
            "needs_background": "light"
          }
        }
      ]
    },
    {
      "cell_type": "code",
      "source": [
        "raw_data = df.to_numpy()\n",
        "print(raw_data.shape)"
      ],
      "metadata": {
        "colab": {
          "base_uri": "https://localhost:8080/"
        },
        "id": "CNZengcL6P-Y",
        "outputId": "673bcdd6-6b0a-47ca-9b8c-f44e3c8d95af"
      },
      "execution_count": 25,
      "outputs": [
        {
          "output_type": "stream",
          "name": "stdout",
          "text": [
            "(5181, 5)\n"
          ]
        }
      ]
    },
    {
      "cell_type": "code",
      "source": [
        "print(raw_data[:5])"
      ],
      "metadata": {
        "colab": {
          "base_uri": "https://localhost:8080/"
        },
        "id": "jzTurgYf6WcT",
        "outputId": "fee68c15-695d-43fd-d460-d06b3fce534a"
      },
      "execution_count": 26,
      "outputs": [
        {
          "output_type": "stream",
          "name": "stdout",
          "text": [
            "[[   4.95     4.95     4.895    4.93  2319.   ]\n",
            " [   4.92     5.045    4.92     5.003 1612.   ]\n",
            " [   5.035    5.035    4.985    5.004 1375.   ]\n",
            " [   4.99     5.005    4.975    4.998  856.   ]\n",
            " [   5.       5.       4.98     4.983  232.   ]]\n"
          ]
        }
      ]
    },
    {
      "cell_type": "markdown",
      "source": [
        "#normalize"
      ],
      "metadata": {
        "id": "2AdCXM706auB"
      }
    },
    {
      "cell_type": "code",
      "source": [
        "maxes = raw_data.max(axis=0)\n",
        "print(maxes)\n",
        "mins = raw_data.min(axis=0)\n",
        "print(mins)"
      ],
      "metadata": {
        "colab": {
          "base_uri": "https://localhost:8080/"
        },
        "id": "MIANu8p-6Z2-",
        "outputId": "d11c9671-0013-4c8c-a225-36d65b46ed53"
      },
      "execution_count": 27,
      "outputs": [
        {
          "output_type": "stream",
          "name": "stdout",
          "text": [
            "[4.8459999e+01 4.9520000e+01 4.7540001e+01 4.8584000e+01 1.7029700e+05]\n",
            "[4.026 4.026 4.026 4.026 0.   ]\n"
          ]
        }
      ]
    },
    {
      "cell_type": "code",
      "source": [
        "normalized = (raw_data - mins) / (maxes - mins)\n",
        "print(normalized[:5])"
      ],
      "metadata": {
        "colab": {
          "base_uri": "https://localhost:8080/"
        },
        "id": "ZxJ-lMAJ6yIS",
        "outputId": "ffd214f9-fb77-4b61-f75f-1979b428fb44"
      },
      "execution_count": 28,
      "outputs": [
        {
          "output_type": "stream",
          "name": "stdout",
          "text": [
            "[[0.02079489 0.02031037 0.01997058 0.02028816 0.01361739]\n",
            " [0.02011973 0.02239856 0.02054511 0.02192648 0.00946582]\n",
            " [0.02270784 0.02217875 0.02203888 0.02194892 0.00807413]\n",
            " [0.0216951  0.02151932 0.02180907 0.02181426 0.00502651]\n",
            " [0.02192015 0.02140942 0.02192398 0.02147762 0.00136233]]\n"
          ]
        }
      ]
    },
    {
      "cell_type": "markdown",
      "source": [
        "# by Data Sampling"
      ],
      "metadata": {
        "id": "PUvhJLTJ7BDV"
      }
    },
    {
      "cell_type": "code",
      "source": [
        "numbers = normalized"
      ],
      "metadata": {
        "id": "MiV8Y3Ih7Ebi"
      },
      "execution_count": 38,
      "outputs": []
    },
    {
      "cell_type": "code",
      "source": [
        "raw_x = []\n",
        "raw_y = []\n",
        "\n",
        "for i in range(len(numbers)):\n",
        "  if i + SEQUENCE_LENGTH+OFFSET >= len(numbers): break\n",
        "  raw_x.append(numbers[i:i+SEQUENCE_LENGTH,:])\n",
        "  raw_y.append(numbers[i+SEQUENCE_LENGTH+OFFSET-1,:])\n",
        "#              0         1              \n",
        "#              01234567890123456789\n",
        "# numbers[0] = 12345678901234567890\n",
        "#                 i = 3\n",
        "#                 <-x->   = [3:8] = 45678\n",
        "#                      y  = [8]   = 9"
      ],
      "metadata": {
        "id": "uLJIhXhF7Gfh"
      },
      "execution_count": 39,
      "outputs": []
    },
    {
      "cell_type": "code",
      "source": [
        "print(raw_x[0])\n",
        "print(raw_y[0])\n",
        "print()\n",
        "print(raw_x[0].shape)\n",
        "print(raw_y[0].shape)"
      ],
      "metadata": {
        "colab": {
          "base_uri": "https://localhost:8080/"
        },
        "id": "1mxmexJB8_1C",
        "outputId": "7ec044b5-2ed3-47cd-d283-9b72fdfcb1d9"
      },
      "execution_count": 40,
      "outputs": [
        {
          "output_type": "stream",
          "name": "stdout",
          "text": [
            "[[0.02079489 0.02031037 0.01997058 0.02028816 0.01361739]\n",
            " [0.02011973 0.02239856 0.02054511 0.02192648 0.00946582]\n",
            " [0.02270784 0.02217875 0.02203888 0.02194892 0.00807413]\n",
            " [0.0216951  0.02151932 0.02180907 0.02181426 0.00502651]\n",
            " [0.02192015 0.02140942 0.02192398 0.02147762 0.00136233]\n",
            " [0.02147005 0.0209698  0.02077492 0.02040038 0.00176163]\n",
            " [0.02056983 0.02020047 0.0203153  0.02013107 0.00070465]\n",
            " [0.01978215 0.01943113 0.01974077 0.01927824 0.00066355]\n",
            " [0.02045731 0.02009056 0.02008549 0.01981687 0.00123901]\n",
            " [0.02011973 0.01965094 0.01962587 0.01943534 0.00051087]]\n",
            "[0.0195571  0.01943113 0.01962587 0.01934557 0.00060483]\n",
            "\n",
            "(10, 5)\n",
            "(5,)\n"
          ]
        }
      ]
    },
    {
      "cell_type": "code",
      "source": [
        "x = np.array(raw_x)\n",
        "y = np.array(raw_y)\n",
        "print(x.shape)\n",
        "print(y.shape)\n",
        "\n",
        "from sklearn.model_selection import train_test_split\n",
        "\n",
        "train_x, test_x, train_y, test_y = train_test_split(x,y, test_size=0.1, shuffle=True)\n",
        "\n",
        "print(\"Training.Data:\")\n",
        "print(train_x.shape)\n",
        "print(train_y.shape)\n",
        "\n",
        "print(\"Test Data:\")\n",
        "print(test_x.shape)\n",
        "print(test_y.shape)"
      ],
      "metadata": {
        "colab": {
          "base_uri": "https://localhost:8080/"
        },
        "id": "KKqERALE_q2w",
        "outputId": "19d2801b-ab82-4957-8cf8-eca719ca110b"
      },
      "execution_count": 42,
      "outputs": [
        {
          "output_type": "stream",
          "name": "stdout",
          "text": [
            "(5170, 10, 5)\n",
            "(5170, 5)\n",
            "Training.Data:\n",
            "(4653, 10, 5)\n",
            "(4653, 5)\n",
            "Test Data:\n",
            "(517, 10, 5)\n",
            "(517, 5)\n"
          ]
        }
      ]
    },
    {
      "cell_type": "code",
      "source": [
        "print(\"train_x[0]\\n\", train_x[0])\n",
        "print()\n",
        "print(\"train_y[0]\\n\", train_y[0])\n",
        "\n",
        "plt.plot(train_x[0].T[0], '.', color='blue')\n",
        "plt.plot([len(train_x[0])], train_y[0,0], 'x', color='blue')\n",
        "plt.plot(train_x[0].T[1], '.', color='red')\n",
        "plt.plot([len(train_x[0])], train_y[0,1], 'o', color='red')\n",
        "\n",
        "plt.show()"
      ],
      "metadata": {
        "colab": {
          "base_uri": "https://localhost:8080/",
          "height": 701
        },
        "id": "mOaFVxnIAVEL",
        "outputId": "e6f7d9b5-5dcd-428a-8a87-31eef3bafc88"
      },
      "execution_count": 44,
      "outputs": [
        {
          "output_type": "stream",
          "name": "stdout",
          "text": [
            "train_x[0]\n",
            " [[5.14223354e-01 5.06418451e-01 5.06595567e-01 4.98698326e-01\n",
            "  1.40577931e-01]\n",
            " [5.00382601e-01 5.23453642e-01 5.10387473e-01 5.28614390e-01\n",
            "  1.18146532e-02]\n",
            " [5.26938865e-01 5.17079153e-01 5.32449314e-01 5.26100812e-01\n",
            "  2.95366331e-03]\n",
            " [5.41454732e-01 5.34334176e-01 5.39343670e-01 5.29916064e-01\n",
            "  2.11395386e-03]\n",
            " [5.31890006e-01 5.19826768e-01 5.25325171e-01 5.13106513e-01\n",
            "  1.55023283e-03]\n",
            " [5.19849676e-01 5.14023805e-01 5.30036298e-01 5.24821558e-01\n",
            "  1.55610492e-03]\n",
            " [5.22325281e-01 5.15980129e-01 5.21763099e-01 5.12253692e-01\n",
            "  2.04348873e-03]\n",
            " [5.16698958e-01 5.08506616e-01 5.23716516e-01 5.15485457e-01\n",
            "  1.12156996e-03]\n",
            " [5.11635246e-01 5.07979074e-01 5.15213483e-01 5.18649850e-01\n",
            "  3.22965173e-04]\n",
            " [5.21987656e-01 5.15430606e-01 5.31185330e-01 5.23317923e-01\n",
            "  5.46104746e-04]]\n",
            "\n",
            "train_y[0]\n",
            " [0.51996218 0.51151802 0.52532517 0.52226314 0.00103349]\n"
          ]
        },
        {
          "output_type": "display_data",
          "data": {
            "image/png": "[encoded data removed]",
            "text/plain": [
              "<Figure size 432x288 with 1 Axes>"
            ]
          },
          "metadata": {
            "needs_background": "light"
          }
        }
      ]
    },
    {
      "cell_type": "code",
      "source": [
        "from tensorflow import keras\n",
        "from tensorflow.keras.layers import Dense, RepeatVector, Flatten\n",
        "from tensorflow.keras.layers import Bidirectional, LSTM, GRU \n",
        "\n",
        "input_shape = train_x.shape[1:]\n",
        "output_shape = train_y.shape[-1]\n",
        "\n",
        "model = keras.Sequential()\n",
        "model.add(LSTM(128, input_shape = input_shape))\n",
        "model.add(Flatten())\n",
        "model.add(Dense(output_shape))\n",
        "model.compile(loss=\"mse\", optimizer=\"adam\", metrics=[\"mape\"])\n",
        "model.summary()\n",
        "\n",
        "history = model.fit(train_x,train_y,epochs=10,verbose=0,validation_split=0.1, batch_size=BATCH_SIZE)\n",
        "\n",
        "loss, mape = model.evaluate(test_x,test_y)\n",
        "print(\"loss=\", loss)\n",
        "print(\"mape=\", mape)\n",
        "\n",
        "y_ = model.predict(test_x).squeeze()\n",
        "for i in range(output_shape):\n",
        "  plt.scatter(test_y[:,i], y_[:,i])\n",
        "  plt.show()"
      ],
      "metadata": {
        "colab": {
          "base_uri": "https://localhost:8080/",
          "height": 1000
        },
        "id": "En0WzwerAwiR",
        "outputId": "0db1d33d-1459-4ee5-85fa-94a093425710"
      },
      "execution_count": 53,
      "outputs": [
        {
          "output_type": "stream",
          "name": "stdout",
          "text": [
            "Model: \"sequential_3\"\n",
            "_________________________________________________________________\n",
            " Layer (type)                Output Shape              Param #   \n",
            "=================================================================\n",
            " lstm_1 (LSTM)               (None, 128)               68608     \n",
            "                                                                 \n",
            " flatten_1 (Flatten)         (None, 128)               0         \n",
            "                                                                 \n",
            " dense_1 (Dense)             (None, 5)                 645       \n",
            "                                                                 \n",
            "=================================================================\n",
            "Total params: 69,253\n",
            "Trainable params: 69,253\n",
            "Non-trainable params: 0\n",
            "_________________________________________________________________\n",
            "17/17 [==============================] - 0s 3ms/step - loss: 4.9851e-04 - mape: 18383.8574\n",
            "loss= 0.0004985147970728576\n",
            "mape= 18383.857421875\n"
          ]
        },
        {
          "output_type": "display_data",
          "data": {
            "image/png": "[encoded data removed]",
            "text/plain": [
              "<Figure size 432x288 with 1 Axes>"
            ]
          },
          "metadata": {
            "needs_background": "light"
          }
        },
        {
          "output_type": "display_data",
          "data": {
            "image/png": "[encoded data removed]",
            "text/plain": [
              "<Figure size 432x288 with 1 Axes>"
            ]
          },
          "metadata": {
            "needs_background": "light"
          }
        },
        {
          "output_type": "display_data",
          "data": {
            "image/png": "[encoded data removed]",
            "text/plain": [
              "<Figure size 432x288 with 1 Axes>"
            ]
          },
          "metadata": {
            "needs_background": "light"
          }
        },
        {
          "output_type": "display_data",
          "data": {
            "image/png": "[encoded data removed]",
            "text/plain": [
              "<Figure size 432x288 with 1 Axes>"
            ]
          },
          "metadata": {
            "needs_background": "light"
          }
        },
        {
          "output_type": "display_data",
          "data": {
            "image/png": "[encoded data removed]",
            "text/plain": [
              "<Figure size 432x288 with 1 Axes>"
            ]
          },
          "metadata": {
            "needs_background": "light"
          }
        }
      ]
    },
    {
      "cell_type": "code",
      "source": [
        "plt.plot(test_y[0], 'b.')\n",
        "plt.plot(y_[0], 'r.')\n",
        "plt.show()\n",
        "\n",
        "plt.plot(test_y[0,:-1], 'b.')\n",
        "plt.plot(y_[0,:-1], 'r.')\n",
        "plt.show()"
      ],
      "metadata": {
        "colab": {
          "base_uri": "https://localhost:8080/",
          "height": 513
        },
        "id": "Bcu1rZ3fBD-s",
        "outputId": "e98ba821-321f-41a7-f9b4-9dd68a1e03c6"
      },
      "execution_count": 54,
      "outputs": [
        {
          "output_type": "display_data",
          "data": {
            "image/png": "[encoded data removed]",
            "text/plain": [
              "<Figure size 432x288 with 1 Axes>"
            ]
          },
          "metadata": {
            "needs_background": "light"
          }
        },
        {
          "output_type": "display_data",
          "data": {
            "image/png": "[encoded data removed]",
            "text/plain": [
              "<Figure size 432x288 with 1 Axes>"
            ]
          },
          "metadata": {
            "needs_background": "light"
          }
        }
      ]
    },
    {
      "cell_type": "code",
      "source": [
        "denomalized_test_y = test_y * (maxes - mins) + mins\n",
        "denomalized_y_ = y_ * (maxes - mins) + mins"
      ],
      "metadata": {
        "id": "uAK9LDzBoFd4"
      },
      "execution_count": 56,
      "outputs": []
    },
    {
      "cell_type": "code",
      "source": [
        "plt.plot(denomalized_test_y[0], 'b.')\n",
        "plt.plot(denomalized_y_[0], 'r.')\n",
        "plt.show()\n",
        "\n",
        "plt.plot(denomalized_test_y[0,:-1], 'b.')\n",
        "plt.plot(denomalized_y_[0,:-1], 'r.')\n",
        "plt.show()"
      ],
      "metadata": {
        "colab": {
          "base_uri": "https://localhost:8080/",
          "height": 513
        },
        "id": "53IqHJvtoQjk",
        "outputId": "1a7fb3a1-87a1-4563-ac3a-14e26fe56c50"
      },
      "execution_count": 57,
      "outputs": [
        {
          "output_type": "display_data",
          "data": {
            "image/png": "[encoded data removed]",
            "text/plain": [
              "<Figure size 432x288 with 1 Axes>"
            ]
          },
          "metadata": {
            "needs_background": "light"
          }
        },
        {
          "output_type": "display_data",
          "data": {
            "image/png": "[encoded data removed]",
            "text/plain": [
              "<Figure size 432x288 with 1 Axes>"
            ]
          },
          "metadata": {
            "needs_background": "light"
          }
        }
      ]
    },
    {
      "cell_type": "markdown",
      "source": [
        "# by Keras Sequence Data Generator"
      ],
      "metadata": {
        "id": "kJ9tkRDMEj1Z"
      }
    },
    {
      "cell_type": "code",
      "source": [
        "from tensorflow.keras.utils import Sequence\n",
        "\n",
        "class DataGenerator(Sequence):\n",
        "\n",
        "    def __init__(self, numbers, \n",
        "                 sequence_length=SEQUENCE_LENGTH, \n",
        "                 offset=OFFSET, \n",
        "                 batch_size=BATCH_SIZE, \n",
        "                 shuffle=True,\n",
        "                 validation_split=0.0,\n",
        "                 test_split=0.0,\n",
        "                 indexes=None,\n",
        "                 max_size=None):\n",
        "        self.numbers = numbers\n",
        "        self.sequence_length = sequence_length\n",
        "        self.offset = offset\n",
        "        self.batch_size = batch_size\n",
        "        self.shuffle = shuffle\n",
        "        self.indexes, self.valid_indexes, self.test_indexes = self._prepare_indexes(validation_split, test_split, indexes, max_size)\n",
        "\n",
        "    def __len__(self):\n",
        "        return int(np.floor(len(self.indexes) / self.batch_size))\n",
        "\n",
        "    def __getitem__(self, index):\n",
        "        indexes = self.indexes[index*self.batch_size:(index+1)*self.batch_size]\n",
        "        return self._generate_data(indexes)\n",
        "\n",
        "    def on_epoch_end(self):\n",
        "        self._shuffle_index()\n",
        "\n",
        "    def _prepare_indexes(self, validation_split, test_split, indexes, max_size):\n",
        "        if indexes is not None:\n",
        "            return indexes, None, None\n",
        "\n",
        "        data_count = len(self.numbers) - (self.sequence_length+self.offset) + 1\n",
        "        all_index = np.arange(data_count)\n",
        "        np.random.shuffle(all_index)\n",
        "        if max_size is not None:\n",
        "            all_index = all_index[:max_size]\n",
        "\n",
        "        if validation_split+test_split==0.0:\n",
        "            return all_index, None, None\n",
        "\n",
        "        valid_i = int(len(all_index)*(1-validation_split-test_split))\n",
        "        test_i = int(len(all_index)*(1-test_split))\n",
        "\n",
        "        return all_index[:valid_i], all_index[valid_i:test_i], all_index[test_i:]\n",
        "        \n",
        "    def _shuffle_index(self):\n",
        "        if self.shuffle == True:\n",
        "            np.random.shuffle(self.indexes)\n",
        "\n",
        "    def _generate_data(self, indexes):\n",
        "        X = np.empty((len(indexes), self.sequence_length, self.numbers.shape[-1]))\n",
        "        Y = np.empty((len(indexes), self.numbers.shape[-1]))\n",
        "\n",
        "        for i, index in enumerate(indexes):\n",
        "            X[i] = self.numbers[index:index+self.sequence_length]\n",
        "            Y[i] = self.numbers[index+self.sequence_length+self.offset-1]\n",
        "        return X, Y\n",
        "\n",
        "    def get_all_data(self):\n",
        "        return self._generate_data(self.indexes)        \n",
        "\n",
        "    def subset(self, type):\n",
        "        if type==\"train\":\n",
        "            return DataGenerator(self.numbers, indexes=self.indexes)\n",
        "        elif type==\"validation\" or type==\"valid\":\n",
        "            return DataGenerator(self.numbers, indexes=self.valid_indexes)\n",
        "        elif type==\"test\":\n",
        "            return DataGenerator(self.numbers, indexes=self.test_indexes)\n",
        "        else:\n",
        "            print(\"invalid type {}\".format(type))"
      ],
      "metadata": {
        "id": "3ntwSY-lElzN"
      },
      "execution_count": 58,
      "outputs": []
    },
    {
      "cell_type": "code",
      "source": [
        "data_generator = DataGenerator(preprocessed, validation_split=0.1, test_split=0.1)\n",
        "train_data_generator = data_generator.subset(\"train\")\n",
        "valid_data_generator = data_generator.subset(\"valid\")\n",
        "test_data_generator = data_generator.subset(\"test\")\n",
        "\n",
        "batch_x, batch_y = train_data_generator.__getitem__(0)\n",
        "print(batch_x.shape)\n",
        "print(batch_y.shape)\n",
        "print(batch_x[0])\n",
        "print(batch_y[0])\n",
        "\n",
        "print(len(preprocessed)-(SEQUENCE_LENGTH+OFFSET)+1)\n",
        "print(len(train_data_generator.indexes))\n",
        "print(len(valid_data_generator.indexes))\n",
        "print(len(test_data_generator.indexes))"
      ],
      "metadata": {
        "colab": {
          "base_uri": "https://localhost:8080/"
        },
        "id": "PfSnWbqxEoAN",
        "outputId": "a403ae08-cf87-4a3e-d257-481fa6c24247"
      },
      "execution_count": 59,
      "outputs": [
        {
          "output_type": "stream",
          "name": "stdout",
          "text": [
            "(32, 10, 5)\n",
            "(32, 5)\n",
            "[[2.06688576e-01 2.05939245e-01 2.10943600e-01 2.10130616e-01\n",
            "  3.34709361e-04]\n",
            " [2.11414687e-01 2.06488768e-01 2.15195105e-01 2.09906190e-01\n",
            "  1.17441881e-05]\n",
            " [2.07588788e-01 2.02752011e-01 2.11977749e-01 2.07011087e-01\n",
            "  0.00000000e+00]\n",
            " [2.12652478e-01 2.07697718e-01 2.17148499e-01 2.12060685e-01\n",
            "  0.00000000e+00]\n",
            " [2.15690692e-01 2.10665143e-01 2.20250949e-01 2.14013196e-01\n",
            "  1.17441881e-05]\n",
            " [2.21204488e-01 2.16050468e-01 2.25881320e-01 2.21217290e-01\n",
            "  5.87209405e-06]\n",
            " [2.20034213e-01 2.14907460e-01 2.24686303e-01 2.19421877e-01\n",
            "  0.00000000e+00]\n",
            " [2.18998970e-01 2.13896338e-01 2.23629172e-01 2.18389515e-01\n",
            "  0.00000000e+00]\n",
            " [2.14610438e-01 2.09610058e-01 2.19147855e-01 2.14013196e-01\n",
            "  0.00000000e+00]\n",
            " [2.16725935e-01 2.11676265e-01 2.21308080e-01 2.16122806e-01\n",
            "  0.00000000e+00]]\n",
            "[0.21796373 0.21288522 0.22257204 0.21735715 0.        ]\n",
            "5171\n",
            "4136\n",
            "517\n",
            "518\n"
          ]
        }
      ]
    },
    {
      "cell_type": "code",
      "source": [
        "from tensorflow import keras\n",
        "from tensorflow.keras.layers import Dense, RepeatVector, Flatten\n",
        "from tensorflow.keras.layers import Bidirectional, LSTM, GRU, Input\n",
        "\n",
        "input_shape = (SEQUENCE_LENGTH, preprocessed.shape[-1])\n",
        "output_shape = preprocessed.shape[-1]\n",
        "\n",
        "model = keras.Sequential()\n",
        "model.add(Input(input_shape))\n",
        "model.add(LSTM(128))\n",
        "model.add(Flatten())\n",
        "model.add(Dense(10, activation=\"relu\"))\n",
        "model.add(Dense(output_shape))\n",
        "model.compile(loss=\"mse\", optimizer=\"adam\", metrics=[\"mape\"])\n",
        "model.summary()\n",
        "\n",
        "history = model.fit(train_data_generator, epochs=10, verbose=0, validation_data=valid_data_generator)\n",
        "\n",
        "\n",
        "plt.plot(history.history['loss'])\n",
        "plt.plot(history.history['val_loss'])\n",
        "plt.show()\n",
        "\n",
        "\n",
        "\n",
        "loss, mape = model.evaluate(test_data_generator)\n",
        "print(\"loss=\", loss)\n",
        "print(\"mape=\", mape)\n",
        "\n",
        "\n",
        "batch_x, batch_y = test_data_generator.get_all_data()\n",
        "y_ = model.predict(batch_x).squeeze()\n",
        "for i in range(output_shape):\n",
        "    plt.scatter(batch_y[:,i], y_[:,i])\n",
        "    plt.show()"
      ],
      "metadata": {
        "colab": {
          "base_uri": "https://localhost:8080/",
          "height": 1000
        },
        "id": "8P9-mhvBEpuF",
        "outputId": "b8bde3f4-dcf4-410e-bb97-36059d6cac0d"
      },
      "execution_count": 60,
      "outputs": [
        {
          "output_type": "stream",
          "name": "stdout",
          "text": [
            "Model: \"sequential_4\"\n",
            "_________________________________________________________________\n",
            " Layer (type)                Output Shape              Param #   \n",
            "=================================================================\n",
            " lstm_2 (LSTM)               (None, 128)               68608     \n",
            "                                                                 \n",
            " flatten_2 (Flatten)         (None, 128)               0         \n",
            "                                                                 \n",
            " dense_2 (Dense)             (None, 10)                1290      \n",
            "                                                                 \n",
            " dense_3 (Dense)             (None, 5)                 55        \n",
            "                                                                 \n",
            "=================================================================\n",
            "Total params: 69,953\n",
            "Trainable params: 69,953\n",
            "Non-trainable params: 0\n",
            "_________________________________________________________________\n"
          ]
        },
        {
          "output_type": "display_data",
          "data": {
            "image/png": "[encoded data removed]",
            "text/plain": [
              "<Figure size 432x288 with 1 Axes>"
            ]
          },
          "metadata": {
            "needs_background": "light"
          }
        },
        {
          "output_type": "stream",
          "name": "stdout",
          "text": [
            "16/16 [==============================] - 0s 3ms/step - loss: 8.4443e-04 - mape: 182114.9531\n",
            "loss= 0.0008444325067102909\n",
            "mape= 182114.953125\n"
          ]
        },
        {
          "output_type": "display_data",
          "data": {
            "image/png": "[encoded data removed]",
            "text/plain": [
              "<Figure size 432x288 with 1 Axes>"
            ]
          },
          "metadata": {
            "needs_background": "light"
          }
        },
        {
          "output_type": "display_data",
          "data": {
            "image/png": "[encoded data removed]",
            "text/plain": [
              "<Figure size 432x288 with 1 Axes>"
            ]
          },
          "metadata": {
            "needs_background": "light"
          }
        },
        {
          "output_type": "display_data",
          "data": {
            "image/png": "[encoded data removed]",
            "text/plain": [
              "<Figure size 432x288 with 1 Axes>"
            ]
          },
          "metadata": {
            "needs_background": "light"
          }
        },
        {
          "output_type": "display_data",
          "data": {
            "image/png": "[encoded data removed]",
            "text/plain": [
              "<Figure size 432x288 with 1 Axes>"
            ]
          },
          "metadata": {
            "needs_background": "light"
          }
        },
        {
          "output_type": "display_data",
          "data": {
            "image/png": "[encoded data removed]",
            "text/plain": [
              "<Figure size 432x288 with 1 Axes>"
            ]
          },
          "metadata": {
            "needs_background": "light"
          }
        }
      ]
    }
  ]
}