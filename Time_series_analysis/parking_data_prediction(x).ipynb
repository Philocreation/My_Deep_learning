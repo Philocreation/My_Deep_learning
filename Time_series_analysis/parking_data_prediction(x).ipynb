{
  "nbformat": 4,
  "nbformat_minor": 0,
  "metadata": {
    "colab": {
      "name": "parking_data_prediction(x).ipynb",
      "provenance": [],
      "mount_file_id": "1lk5bQWrNlZOlZua5Jw_EyNpa8dxrxBo9",
      "authorship_tag": "ABX9TyPI5obLe4cWXh66OQLX/8wD",
      "include_colab_link": true
    },
    "kernelspec": {
      "name": "python3",
      "display_name": "Python 3"
    },
    "language_info": {
      "name": "python"
    },
    "accelerator": "GPU"
  },
  "cells": [
    {
      "cell_type": "markdown",
      "metadata": {
        "id": "view-in-github",
        "colab_type": "text"
      },
      "source": [
        "<a href=\"https://colab.research.google.com/github/Philocreation/My_Deep_learning/blob/main/Time_series_analysis/parking_data_prediction(x).ipynb\" target=\"_parent\"><img src=\"https://colab.research.google.com/assets/colab-badge.svg\" alt=\"Open In Colab\"/></a>"
      ]
    },
    {
      "cell_type": "markdown",
      "source": [
        "# 데이터 준비"
      ],
      "metadata": {
        "id": "fdqRy4aCELd5"
      }
    },
    {
      "cell_type": "markdown",
      "source": [
        "reference from : https://dacon.io/competitions/official/235745/data"
      ],
      "metadata": {
        "id": "1vW6uyj3Q95r"
      }
    },
    {
      "cell_type": "code",
      "source": [
        "from google.colab import drive\n",
        "drive.mount('/content/drive')"
      ],
      "metadata": {
        "colab": {
          "base_uri": "https://localhost:8080/"
        },
        "id": "ZhQe_NxJDfHe",
        "outputId": "c572ff66-4168-4fa6-dbbc-c8a5d1419464"
      },
      "execution_count": null,
      "outputs": [
        {
          "output_type": "stream",
          "name": "stdout",
          "text": [
            "Mounted at /content/drive\n"
          ]
        }
      ]
    },
    {
      "cell_type": "code",
      "source": [
        "!unzip /content/drive/MyDrive/235745_parking_data.zip"
      ],
      "metadata": {
        "colab": {
          "base_uri": "https://localhost:8080/"
        },
        "id": "wy0AIuelDfqD",
        "outputId": "047bddfd-ce5a-4cda-ecb0-2c79a46d74d0"
      },
      "execution_count": null,
      "outputs": [
        {
          "output_type": "stream",
          "name": "stdout",
          "text": [
            "Archive:  /content/drive/MyDrive/235745_parking_data.zip\n",
            "  inflating: age_gender_info.csv     \n",
            "  inflating: sample_submission.csv   \n",
            "  inflating: test.csv                \n",
            "  inflating: train.csv               \n"
          ]
        }
      ]
    },
    {
      "cell_type": "markdown",
      "source": [
        "# 파라미터 설정"
      ],
      "metadata": {
        "id": "whl_UEf-EXkH"
      }
    },
    {
      "cell_type": "code",
      "source": [
        "SEQUENCE_LENGTH = 10\n",
        "OFFSET = 1\n",
        "BATCH_SIZE = 32"
      ],
      "metadata": {
        "id": "_plJiGbxD01i"
      },
      "execution_count": null,
      "outputs": []
    },
    {
      "cell_type": "markdown",
      "source": [
        "# 데이터 로딩"
      ],
      "metadata": {
        "id": "94Zfg0JNEcwJ"
      }
    },
    {
      "cell_type": "code",
      "source": [
        "import numpy as np\n",
        "import pandas as pd\n",
        "import matplotlib.pyplot as plt"
      ],
      "metadata": {
        "id": "teAZozRLEbc6"
      },
      "execution_count": null,
      "outputs": []
    },
    {
      "cell_type": "code",
      "source": [
        "df = pd.read_csv(\"/content/train.csv\")\n",
        "df.head()"
      ],
      "metadata": {
        "colab": {
          "base_uri": "https://localhost:8080/",
          "height": 718
        },
        "id": "Wi0mu6BWEj1R",
        "outputId": "19d6488e-d814-471f-8734-ee033f938365"
      },
      "execution_count": null,
      "outputs": [
        {
          "output_type": "execute_result",
          "data": {
            "text/html": [
              "\n",
              "  <div id=\"df-1eef1bbf-92a1-40e1-a35d-e97282dde7c7\">\n",
              "    <div class=\"colab-df-container\">\n",
              "      <div>\n",
              "<style scoped>\n",
              "    .dataframe tbody tr th:only-of-type {\n",
              "        vertical-align: middle;\n",
              "    }\n",
              "\n",
              "    .dataframe tbody tr th {\n",
              "        vertical-align: top;\n",
              "    }\n",
              "\n",
              "    .dataframe thead th {\n",
              "        text-align: right;\n",
              "    }\n",
              "</style>\n",
              "<table border=\"1\" class=\"dataframe\">\n",
              "  <thead>\n",
              "    <tr style=\"text-align: right;\">\n",
              "      <th></th>\n",
              "      <th>단지코드</th>\n",
              "      <th>총세대수</th>\n",
              "      <th>임대건물구분</th>\n",
              "      <th>지역</th>\n",
              "      <th>공급유형</th>\n",
              "      <th>전용면적</th>\n",
              "      <th>전용면적별세대수</th>\n",
              "      <th>공가수</th>\n",
              "      <th>자격유형</th>\n",
              "      <th>임대보증금</th>\n",
              "      <th>임대료</th>\n",
              "      <th>도보 10분거리 내 지하철역 수(환승노선 수 반영)</th>\n",
              "      <th>도보 10분거리 내 버스정류장 수</th>\n",
              "      <th>단지내주차면수</th>\n",
              "      <th>등록차량수</th>\n",
              "    </tr>\n",
              "  </thead>\n",
              "  <tbody>\n",
              "    <tr>\n",
              "      <th>0</th>\n",
              "      <td>C2483</td>\n",
              "      <td>900</td>\n",
              "      <td>아파트</td>\n",
              "      <td>경상북도</td>\n",
              "      <td>국민임대</td>\n",
              "      <td>39.72</td>\n",
              "      <td>134</td>\n",
              "      <td>38.0</td>\n",
              "      <td>A</td>\n",
              "      <td>15667000</td>\n",
              "      <td>103680</td>\n",
              "      <td>0.0</td>\n",
              "      <td>3.0</td>\n",
              "      <td>1425.0</td>\n",
              "      <td>1015.0</td>\n",
              "    </tr>\n",
              "    <tr>\n",
              "      <th>1</th>\n",
              "      <td>C2483</td>\n",
              "      <td>900</td>\n",
              "      <td>아파트</td>\n",
              "      <td>경상북도</td>\n",
              "      <td>국민임대</td>\n",
              "      <td>39.72</td>\n",
              "      <td>15</td>\n",
              "      <td>38.0</td>\n",
              "      <td>A</td>\n",
              "      <td>15667000</td>\n",
              "      <td>103680</td>\n",
              "      <td>0.0</td>\n",
              "      <td>3.0</td>\n",
              "      <td>1425.0</td>\n",
              "      <td>1015.0</td>\n",
              "    </tr>\n",
              "    <tr>\n",
              "      <th>2</th>\n",
              "      <td>C2483</td>\n",
              "      <td>900</td>\n",
              "      <td>아파트</td>\n",
              "      <td>경상북도</td>\n",
              "      <td>국민임대</td>\n",
              "      <td>51.93</td>\n",
              "      <td>385</td>\n",
              "      <td>38.0</td>\n",
              "      <td>A</td>\n",
              "      <td>27304000</td>\n",
              "      <td>184330</td>\n",
              "      <td>0.0</td>\n",
              "      <td>3.0</td>\n",
              "      <td>1425.0</td>\n",
              "      <td>1015.0</td>\n",
              "    </tr>\n",
              "    <tr>\n",
              "      <th>3</th>\n",
              "      <td>C2483</td>\n",
              "      <td>900</td>\n",
              "      <td>아파트</td>\n",
              "      <td>경상북도</td>\n",
              "      <td>국민임대</td>\n",
              "      <td>51.93</td>\n",
              "      <td>15</td>\n",
              "      <td>38.0</td>\n",
              "      <td>A</td>\n",
              "      <td>27304000</td>\n",
              "      <td>184330</td>\n",
              "      <td>0.0</td>\n",
              "      <td>3.0</td>\n",
              "      <td>1425.0</td>\n",
              "      <td>1015.0</td>\n",
              "    </tr>\n",
              "    <tr>\n",
              "      <th>4</th>\n",
              "      <td>C2483</td>\n",
              "      <td>900</td>\n",
              "      <td>아파트</td>\n",
              "      <td>경상북도</td>\n",
              "      <td>국민임대</td>\n",
              "      <td>51.93</td>\n",
              "      <td>41</td>\n",
              "      <td>38.0</td>\n",
              "      <td>A</td>\n",
              "      <td>27304000</td>\n",
              "      <td>184330</td>\n",
              "      <td>0.0</td>\n",
              "      <td>3.0</td>\n",
              "      <td>1425.0</td>\n",
              "      <td>1015.0</td>\n",
              "    </tr>\n",
              "  </tbody>\n",
              "</table>\n",
              "</div>\n",
              "      <button class=\"colab-df-convert\" onclick=\"convertToInteractive('df-1eef1bbf-92a1-40e1-a35d-e97282dde7c7')\"\n",
              "              title=\"Convert this dataframe to an interactive table.\"\n",
              "              style=\"display:none;\">\n",
              "        \n",
              "  <svg xmlns=\"http://www.w3.org/2000/svg\" height=\"24px\"viewBox=\"0 0 24 24\"\n",
              "       width=\"24px\">\n",
              "    <path d=\"M0 0h24v24H0V0z\" fill=\"none\"/>\n",
              "    <path d=\"M18.56 5.44l.94 2.06.94-2.06 2.06-.94-2.06-.94-.94-2.06-.94 2.06-2.06.94zm-11 1L8.5 8.5l.94-2.06 2.06-.94-2.06-.94L8.5 2.5l-.94 2.06-2.06.94zm10 10l.94 2.06.94-2.06 2.06-.94-2.06-.94-.94-2.06-.94 2.06-2.06.94z\"/><path d=\"M17.41 7.96l-1.37-1.37c-.4-.4-.92-.59-1.43-.59-.52 0-1.04.2-1.43.59L10.3 9.45l-7.72 7.72c-.78.78-.78 2.05 0 2.83L4 21.41c.39.39.9.59 1.41.59.51 0 1.02-.2 1.41-.59l7.78-7.78 2.81-2.81c.8-.78.8-2.07 0-2.86zM5.41 20L4 18.59l7.72-7.72 1.47 1.35L5.41 20z\"/>\n",
              "  </svg>\n",
              "      </button>\n",
              "      \n",
              "  <style>\n",
              "    .colab-df-container {\n",
              "      display:flex;\n",
              "      flex-wrap:wrap;\n",
              "      gap: 12px;\n",
              "    }\n",
              "\n",
              "    .colab-df-convert {\n",
              "      background-color: #E8F0FE;\n",
              "      border: none;\n",
              "      border-radius: 50%;\n",
              "      cursor: pointer;\n",
              "      display: none;\n",
              "      fill: #1967D2;\n",
              "      height: 32px;\n",
              "      padding: 0 0 0 0;\n",
              "      width: 32px;\n",
              "    }\n",
              "\n",
              "    .colab-df-convert:hover {\n",
              "      background-color: #E2EBFA;\n",
              "      box-shadow: 0px 1px 2px rgba(60, 64, 67, 0.3), 0px 1px 3px 1px rgba(60, 64, 67, 0.15);\n",
              "      fill: #174EA6;\n",
              "    }\n",
              "\n",
              "    [theme=dark] .colab-df-convert {\n",
              "      background-color: #3B4455;\n",
              "      fill: #D2E3FC;\n",
              "    }\n",
              "\n",
              "    [theme=dark] .colab-df-convert:hover {\n",
              "      background-color: #434B5C;\n",
              "      box-shadow: 0px 1px 3px 1px rgba(0, 0, 0, 0.15);\n",
              "      filter: drop-shadow(0px 1px 2px rgba(0, 0, 0, 0.3));\n",
              "      fill: #FFFFFF;\n",
              "    }\n",
              "  </style>\n",
              "\n",
              "      <script>\n",
              "        const buttonEl =\n",
              "          document.querySelector('#df-1eef1bbf-92a1-40e1-a35d-e97282dde7c7 button.colab-df-convert');\n",
              "        buttonEl.style.display =\n",
              "          google.colab.kernel.accessAllowed ? 'block' : 'none';\n",
              "\n",
              "        async function convertToInteractive(key) {\n",
              "          const element = document.querySelector('#df-1eef1bbf-92a1-40e1-a35d-e97282dde7c7');\n",
              "          const dataTable =\n",
              "            await google.colab.kernel.invokeFunction('convertToInteractive',\n",
              "                                                     [key], {});\n",
              "          if (!dataTable) return;\n",
              "\n",
              "          const docLinkHtml = 'Like what you see? Visit the ' +\n",
              "            '<a target=\"_blank\" href=https://colab.research.google.com/notebooks/data_table.ipynb>data table notebook</a>'\n",
              "            + ' to learn more about interactive tables.';\n",
              "          element.innerHTML = '';\n",
              "          dataTable['output_type'] = 'display_data';\n",
              "          await google.colab.output.renderOutput(dataTable, element);\n",
              "          const docLink = document.createElement('div');\n",
              "          docLink.innerHTML = docLinkHtml;\n",
              "          element.appendChild(docLink);\n",
              "        }\n",
              "      </script>\n",
              "    </div>\n",
              "  </div>\n",
              "  "
            ],
            "text/plain": [
              "    단지코드  총세대수 임대건물구분  ... 도보 10분거리 내 버스정류장 수 단지내주차면수   등록차량수\n",
              "0  C2483   900    아파트  ...                3.0  1425.0  1015.0\n",
              "1  C2483   900    아파트  ...                3.0  1425.0  1015.0\n",
              "2  C2483   900    아파트  ...                3.0  1425.0  1015.0\n",
              "3  C2483   900    아파트  ...                3.0  1425.0  1015.0\n",
              "4  C2483   900    아파트  ...                3.0  1425.0  1015.0\n",
              "\n",
              "[5 rows x 15 columns]"
            ]
          },
          "metadata": {},
          "execution_count": 21
        }
      ]
    },
    {
      "cell_type": "code",
      "source": [
        "print(len(df))"
      ],
      "metadata": {
        "colab": {
          "base_uri": "https://localhost:8080/"
        },
        "id": "yhgS69CbE3E5",
        "outputId": "d0616696-287e-45c8-ba73-4ae92bebf3fe"
      },
      "execution_count": null,
      "outputs": [
        {
          "output_type": "stream",
          "name": "stdout",
          "text": [
            "2952\n"
          ]
        }
      ]
    },
    {
      "cell_type": "markdown",
      "source": [
        "# 결측치 처리 "
      ],
      "metadata": {
        "id": "RJt9JqKsFI81"
      }
    },
    {
      "cell_type": "code",
      "source": [
        "df.isnull().sum()"
      ],
      "metadata": {
        "colab": {
          "base_uri": "https://localhost:8080/"
        },
        "id": "5ujy0z6fFIs1",
        "outputId": "5f99d821-b494-469c-bcc3-8a404f2c1ba9"
      },
      "execution_count": null,
      "outputs": [
        {
          "output_type": "execute_result",
          "data": {
            "text/plain": [
              "단지코드                              0\n",
              "총세대수                              0\n",
              "임대건물구분                            0\n",
              "지역                                0\n",
              "공급유형                              0\n",
              "전용면적                              0\n",
              "전용면적별세대수                          0\n",
              "공가수                               0\n",
              "자격유형                              0\n",
              "임대보증금                           569\n",
              "임대료                             569\n",
              "도보 10분거리 내 지하철역 수(환승노선 수 반영)    211\n",
              "도보 10분거리 내 버스정류장 수                4\n",
              "단지내주차면수                           0\n",
              "등록차량수                             0\n",
              "dtype: int64"
            ]
          },
          "metadata": {},
          "execution_count": 23
        }
      ]
    },
    {
      "cell_type": "code",
      "source": [
        "raw_data = df.fillna(0)"
      ],
      "metadata": {
        "id": "FX0I5D-VF9BM"
      },
      "execution_count": null,
      "outputs": []
    },
    {
      "cell_type": "code",
      "source": [
        "raw_data = raw_data.drop(columns=[\"단지코드\",\"총세대수\",\"임대건물구분\",\"지역\",\"공급유형\",\"자격유형\"])"
      ],
      "metadata": {
        "id": "4Qn2hb2FIBAj"
      },
      "execution_count": null,
      "outputs": []
    },
    {
      "cell_type": "code",
      "source": [
        "raw_data = raw_data.drop(columns=['임대보증금','임대료'])"
      ],
      "metadata": {
        "id": "iZxjuh08KCNc"
      },
      "execution_count": null,
      "outputs": []
    },
    {
      "cell_type": "code",
      "source": [
        "raw_data.isnull().sum()"
      ],
      "metadata": {
        "colab": {
          "base_uri": "https://localhost:8080/"
        },
        "id": "C0sBoU-gGJMA",
        "outputId": "6f4863dc-3fff-4460-ba2e-a83cc69b33ce"
      },
      "execution_count": null,
      "outputs": [
        {
          "output_type": "execute_result",
          "data": {
            "text/plain": [
              "전용면적                            0\n",
              "전용면적별세대수                        0\n",
              "공가수                             0\n",
              "도보 10분거리 내 지하철역 수(환승노선 수 반영)    0\n",
              "도보 10분거리 내 버스정류장 수              0\n",
              "단지내주차면수                         0\n",
              "등록차량수                           0\n",
              "dtype: int64"
            ]
          },
          "metadata": {},
          "execution_count": 34
        }
      ]
    },
    {
      "cell_type": "code",
      "source": [
        "raw_data.info()"
      ],
      "metadata": {
        "colab": {
          "base_uri": "https://localhost:8080/"
        },
        "id": "dq8Kd9WBJ0r4",
        "outputId": "f40f0188-fc5e-415b-8c43-5f34f6dd847f"
      },
      "execution_count": null,
      "outputs": [
        {
          "output_type": "stream",
          "name": "stdout",
          "text": [
            "<class 'pandas.core.frame.DataFrame'>\n",
            "RangeIndex: 2952 entries, 0 to 2951\n",
            "Data columns (total 7 columns):\n",
            " #   Column                        Non-Null Count  Dtype  \n",
            "---  ------                        --------------  -----  \n",
            " 0   전용면적                          2952 non-null   float64\n",
            " 1   전용면적별세대수                      2952 non-null   int64  \n",
            " 2   공가수                           2952 non-null   float64\n",
            " 3   도보 10분거리 내 지하철역 수(환승노선 수 반영)  2952 non-null   float64\n",
            " 4   도보 10분거리 내 버스정류장 수            2952 non-null   float64\n",
            " 5   단지내주차면수                       2952 non-null   float64\n",
            " 6   등록차량수                         2952 non-null   float64\n",
            "dtypes: float64(6), int64(1)\n",
            "memory usage: 161.6 KB\n"
          ]
        }
      ]
    },
    {
      "cell_type": "code",
      "source": [
        "data = raw_data.to_numpy()\n",
        "np.random.shuffle(data)\n",
        "\n",
        "x = data[:,1:]\n",
        "y = data[:,:1]\n",
        "\n",
        "split_index = int(len(x)*0.8)\n",
        "train_x, test_x = x[:split_index], x[split_index:]\n",
        "train_y, test_y = y[:split_index], y[split_index:]"
      ],
      "metadata": {
        "id": "Yf7I4uYrGNRC"
      },
      "execution_count": null,
      "outputs": []
    },
    {
      "cell_type": "code",
      "source": [
        "print(train_x[:5])\n",
        "print(train_y[:5])"
      ],
      "metadata": {
        "colab": {
          "base_uri": "https://localhost:8080/"
        },
        "id": "zJumJJFbH31T",
        "outputId": "270f921b-8b68-4508-f74b-6cb7b5787f3b"
      },
      "execution_count": null,
      "outputs": [
        {
          "output_type": "stream",
          "name": "stdout",
          "text": [
            "[[ 87.   0.   0.   3. 755. 780.]\n",
            " [112.   4.   0.   3. 403. 488.]\n",
            " [ 10.  17.   0.   4. 183. 133.]\n",
            " [354.  17.   0.   3. 546. 669.]\n",
            " [ 90.  21.   0.  16. 911. 934.]]\n",
            "[[84.92]\n",
            " [46.97]\n",
            " [26.24]\n",
            " [51.86]\n",
            " [59.57]]\n"
          ]
        }
      ]
    },
    {
      "cell_type": "code",
      "source": [
        "print(train_x.shape)\n",
        "print(train_y.shape)\n",
        "print(test_x.shape)\n",
        "print(test_y.shape)"
      ],
      "metadata": {
        "colab": {
          "base_uri": "https://localhost:8080/"
        },
        "id": "3sVO7KU2H6Mz",
        "outputId": "25dc8bfd-cae4-4334-8af8-412861dfd676"
      },
      "execution_count": null,
      "outputs": [
        {
          "output_type": "stream",
          "name": "stdout",
          "text": [
            "(2361, 6)\n",
            "(2361, 1)\n",
            "(591, 6)\n",
            "(591, 1)\n"
          ]
        }
      ]
    },
    {
      "cell_type": "code",
      "source": [
        "import numpy as np\n",
        "import pandas as pd\n",
        "import matplotlib.pyplot as plt\n",
        "\n",
        "import tensorflow as tf\n",
        "\n",
        "from tensorflow import keras\n",
        "from tensorflow.keras import optimizers\n",
        "from tensorflow.keras.layers import Dense\n",
        "\n",
        "model = keras.Sequential()\n",
        "model.add(Dense(10, activation='relu', input_shape=(6,)))\n",
        "model.add(Dense(10, activation='relu'))\n",
        "model.add(Dense(1))\n",
        "\n",
        "model.compile(optimizer=\"SGD\", loss=\"mse\", metrics=[\"mape\"])\n",
        "model.summary()\n",
        "\n",
        "history = model.fit(train_x, train_y, epochs=1000, verbose=0, batch_size=128, validation_split=0.1)\n",
        "\n",
        "plt.plot(history.history['loss'])\n",
        "plt.plot(history.history['val_loss'])\n",
        "plt.show()\n",
        "\n",
        "\n",
        "\n",
        "loss, mape = model.evaluate(test_x, test_y)\n",
        "print(\"loss=\", loss)\n",
        "print(\"mape=\", mape)\n",
        "\n",
        "y_ = model.predict(test_x)\n",
        "\n",
        "plt.scatter(test_y, y_)\n",
        "plt.show()"
      ],
      "metadata": {
        "colab": {
          "base_uri": "https://localhost:8080/",
          "height": 840
        },
        "id": "X_HqG_8iJg8j",
        "outputId": "cd593797-fd4d-4a33-d692-bf3375768dbc"
      },
      "execution_count": null,
      "outputs": [
        {
          "output_type": "stream",
          "name": "stdout",
          "text": [
            "Model: \"sequential_3\"\n",
            "_________________________________________________________________\n",
            " Layer (type)                Output Shape              Param #   \n",
            "=================================================================\n",
            " dense_9 (Dense)             (None, 10)                70        \n",
            "                                                                 \n",
            " dense_10 (Dense)            (None, 10)                110       \n",
            "                                                                 \n",
            " dense_11 (Dense)            (None, 1)                 11        \n",
            "                                                                 \n",
            "=================================================================\n",
            "Total params: 191\n",
            "Trainable params: 191\n",
            "Non-trainable params: 0\n",
            "_________________________________________________________________\n"
          ]
        },
        {
          "output_type": "display_data",
          "data": {
            "image/png": "[encoded data removed]",
            "text/plain": [
              "<Figure size 432x288 with 1 Axes>"
            ]
          },
          "metadata": {
            "needs_background": "light"
          }
        },
        {
          "output_type": "stream",
          "name": "stdout",
          "text": [
            "19/19 [==============================] - 0s 2ms/step - loss: 493.0802 - mape: 31.8341\n",
            "loss= 493.0802001953125\n",
            "mape= 31.834102630615234\n"
          ]
        },
        {
          "output_type": "display_data",
          "data": {
            "image/png": "[encoded data removed]",
            "text/plain": [
              "<Figure size 432x288 with 1 Axes>"
            ]
          },
          "metadata": {
            "needs_background": "light"
          }
        }
      ]
    },
    {
      "cell_type": "code",
      "source": [
        ""
      ],
      "metadata": {
        "id": "fvkhadVuJjwz"
      },
      "execution_count": null,
      "outputs": []
    }
  ]
}